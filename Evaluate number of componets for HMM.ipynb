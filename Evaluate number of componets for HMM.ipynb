{
 "cells": [
  {
   "cell_type": "markdown",
   "metadata": {},
   "source": [
    "# Evaluate the number of components each HMM should have"
   ]
  },
  {
   "cell_type": "code",
   "execution_count": 1,
   "metadata": {},
   "outputs": [],
   "source": [
    "import numpy as np\n",
    "from hmmlearn import hmm\n",
    "import matplotlib.pyplot as plt"
   ]
  },
  {
   "cell_type": "code",
   "execution_count": 2,
   "metadata": {},
   "outputs": [],
   "source": [
    "# Load data\n",
    "data_lab = np.load('np_data_lab.npy')\n",
    "data_turk = np.load('np_data_turk.npy')\n",
    "lab_lengths = np.load('np_lab_lengths.npy')\n",
    "turk_lengths = np.load('np_turk_lengths.npy')"
   ]
  },
  {
   "cell_type": "code",
   "execution_count": 3,
   "metadata": {},
   "outputs": [
    {
     "name": "stderr",
     "output_type": "stream",
     "text": [
      "         1      -58505.5091             +nan\n",
      "         2      -49841.9411       +8663.5681\n",
      "         3      -49841.9411          +0.0000\n",
      "         1      -50797.6319             +nan\n"
     ]
    },
    {
     "name": "stdout",
     "output_type": "stream",
     "text": [
      "Model evaluation with 1 components\n",
      "\n"
     ]
    },
    {
     "name": "stderr",
     "output_type": "stream",
     "text": [
      "         2      -48886.2750       +1911.3569\n",
      "         3      -47351.3780       +1534.8970\n",
      "         4      -43551.2104       +3800.1676\n",
      "         5      -37237.4848       +6313.7256\n",
      "         6      -34729.9941       +2507.4907\n",
      "         7      -34560.9666        +169.0276\n",
      "         8      -34549.1695         +11.7971\n",
      "         9      -34547.2222          +1.9473\n",
      "        10      -34546.6315          +0.5907\n",
      "        11      -34546.4191          +0.2124\n",
      "        12      -34546.3343          +0.0848\n",
      "        13      -34546.2971          +0.0372\n",
      "        14      -34546.2794          +0.0177\n",
      "        15      -34546.2703          +0.0091\n"
     ]
    },
    {
     "name": "stdout",
     "output_type": "stream",
     "text": [
      "Model evaluation with 2 components\n",
      "\n"
     ]
    },
    {
     "name": "stderr",
     "output_type": "stream",
     "text": [
      "         1      -50607.8407             +nan\n",
      "         2      -48751.7012       +1856.1395\n",
      "         3      -46403.6632       +2348.0380\n",
      "         4      -40939.5639       +5464.0993\n",
      "         5      -32497.8830       +8441.6809\n",
      "         6      -27934.9154       +4562.9676\n",
      "         7      -27331.8209        +603.0944\n",
      "         8      -27290.2026         +41.6183\n",
      "         9      -27283.6426          +6.5600\n",
      "        10      -27282.6484          +0.9942\n",
      "        11      -27282.4684          +0.1801\n",
      "        12      -27282.4217          +0.0467\n",
      "        13      -27282.4041          +0.0176\n",
      "        14      -27282.3956          +0.0084\n"
     ]
    },
    {
     "name": "stdout",
     "output_type": "stream",
     "text": [
      "Model evaluation with 3 components\n",
      "\n"
     ]
    },
    {
     "name": "stderr",
     "output_type": "stream",
     "text": [
      "         1      -52231.4615             +nan\n",
      "         2      -48474.4104       +3757.0510\n",
      "         3      -46175.2486       +2299.1618\n",
      "         4      -40589.5738       +5585.6748\n",
      "         5      -28746.1775      +11843.3964\n",
      "         6      -21132.1954       +7613.9820\n",
      "         7      -18949.9607       +2182.2348\n",
      "         8      -18552.1426        +397.8181\n",
      "         9      -18517.5323         +34.6103\n",
      "        10      -18514.0767          +3.4556\n",
      "        11      -18513.7010          +0.3757\n",
      "        12      -18513.6371          +0.0639\n",
      "        13      -18513.6235          +0.0136\n",
      "        14      -18513.6203          +0.0032\n"
     ]
    },
    {
     "name": "stdout",
     "output_type": "stream",
     "text": [
      "Model evaluation with 4 components\n",
      "\n"
     ]
    },
    {
     "name": "stderr",
     "output_type": "stream",
     "text": [
      "         1      -52795.5760             +nan\n",
      "         2      -47522.2751       +5273.3009\n",
      "         3      -43674.3454       +3847.9297\n",
      "         4      -37112.8568       +6561.4886\n",
      "         5      -30688.4412       +6424.4156\n",
      "         6      -27927.7664       +2760.6748\n",
      "         7      -26295.0628       +1632.7036\n",
      "         8      -24113.2862       +2181.7766\n",
      "         9      -20123.1891       +3990.0971\n",
      "        10      -19691.1768        +432.0122\n",
      "        11      -19642.9323         +48.2445\n",
      "        12      -19632.0401         +10.8922\n",
      "        13      -19627.9022          +4.1379\n",
      "        14      -19625.7346          +2.1676\n",
      "        15      -19624.4199          +1.3147\n",
      "        16      -19623.5421          +0.8778\n",
      "        17      -19622.9103          +0.6317\n",
      "        18      -19622.4298          +0.4805\n",
      "        19      -19622.0489          +0.3809\n",
      "        20      -19621.7369          +0.3120\n",
      "        21      -19621.4739          +0.2630\n",
      "        22      -19621.2465          +0.2274\n",
      "        23      -19621.0452          +0.2013\n",
      "        24      -19620.8631          +0.1821\n",
      "        25      -19620.6954          +0.1677\n"
     ]
    },
    {
     "name": "stdout",
     "output_type": "stream",
     "text": [
      "Model evaluation with 5 components\n",
      "\n"
     ]
    },
    {
     "name": "stderr",
     "output_type": "stream",
     "text": [
      "         1      -51376.8423             +nan\n",
      "         2      -48817.3205       +2559.5218\n",
      "         3      -46473.4022       +2343.9183\n",
      "         4      -38952.8173       +7520.5849\n",
      "         5      -26343.9406      +12608.8768\n",
      "         6      -20990.2697       +5353.6708\n",
      "         7      -19365.7324       +1624.5373\n",
      "         8      -19098.9602        +266.7722\n",
      "         9      -18966.6622        +132.2980\n",
      "        10      -18554.3391        +412.3231\n",
      "        11      -16957.2244       +1597.1147\n",
      "        12      -14039.2388       +2917.9856\n",
      "        13      -13239.4700        +799.7688\n",
      "        14      -13200.4977         +38.9722\n",
      "        15      -13195.7777          +4.7200\n",
      "        16      -13194.0265          +1.7512\n",
      "        17      -13192.9648          +1.0617\n",
      "        18      -13192.2414          +0.7233\n",
      "        19      -13191.7111          +0.5303\n",
      "        20      -13191.2957          +0.4154\n",
      "        21      -13190.9523          +0.3434\n",
      "        22      -13190.6571          +0.2952\n",
      "        23      -13190.3964          +0.2608\n",
      "        24      -13190.1617          +0.2347\n",
      "        25      -13189.9476          +0.2141\n"
     ]
    },
    {
     "name": "stdout",
     "output_type": "stream",
     "text": [
      "Model evaluation with 6 components\n",
      "\n"
     ]
    },
    {
     "name": "stderr",
     "output_type": "stream",
     "text": [
      "         1      -49938.7984             +nan\n",
      "         2      -48722.6716       +1216.1268\n",
      "         3      -46195.0545       +2527.6171\n",
      "         4      -39508.4317       +6686.6228\n",
      "         5      -31867.4838       +7640.9479\n",
      "         6      -28736.2454       +3131.2384\n",
      "         7      -24817.4501       +3918.7953\n",
      "         8      -19539.3494       +5278.1007\n",
      "         9      -14537.8761       +5001.4733\n",
      "        10      -12554.4927       +1983.3834\n",
      "        11       -9641.1117       +2913.3810\n",
      "        12       -8447.2361       +1193.8756\n",
      "        13       -8383.8863         +63.3499\n",
      "        14       -8379.3592          +4.5271\n",
      "        15       -8378.8755          +0.4836\n",
      "        16       -8378.7586          +0.1169\n",
      "        17       -8378.6999          +0.0587\n",
      "        18       -8378.6584          +0.0415\n",
      "        19       -8378.6243          +0.0341\n",
      "        20       -8378.5944          +0.0299\n",
      "        21       -8378.5673          +0.0271\n",
      "        22       -8378.5423          +0.0250\n",
      "        23       -8378.5190          +0.0232\n",
      "        24       -8378.4973          +0.0217\n",
      "        25       -8378.4770          +0.0204\n"
     ]
    },
    {
     "name": "stdout",
     "output_type": "stream",
     "text": [
      "Model evaluation with 7 components\n",
      "\n"
     ]
    },
    {
     "name": "stderr",
     "output_type": "stream",
     "text": [
      "         1      -50718.5324             +nan\n",
      "         2      -49037.5675       +1680.9649\n",
      "         3      -47401.3371       +1636.2304\n",
      "         4      -42368.3917       +5032.9454\n",
      "         5      -29933.7012      +12434.6905\n",
      "         6      -15401.0521      +14532.6491\n",
      "         7       -9769.3565       +5631.6956\n",
      "         8       -8545.5606       +1223.7960\n",
      "         9       -8459.8733         +85.6873\n",
      "        10       -8419.7635         +40.1098\n",
      "        11       -8403.3153         +16.4483\n",
      "        12       -8393.3383          +9.9769\n",
      "        13       -8387.2090          +6.1293\n",
      "        14       -8383.5659          +3.6432\n",
      "        15       -8381.3731          +2.1928\n",
      "        16       -8379.9819          +1.3912\n",
      "        17       -8379.0398          +0.9420\n",
      "        18       -8378.3622          +0.6776\n",
      "        19       -8377.8491          +0.5132\n",
      "        20       -8377.4433          +0.4058\n",
      "        21       -8377.1106          +0.3327\n",
      "        22       -8376.8297          +0.2808\n",
      "        23       -8376.5869          +0.2428\n",
      "        24       -8376.3728          +0.2142\n",
      "        25       -8376.1806          +0.1921\n"
     ]
    },
    {
     "name": "stdout",
     "output_type": "stream",
     "text": [
      "Model evaluation with 8 components\n",
      "\n"
     ]
    },
    {
     "name": "stderr",
     "output_type": "stream",
     "text": [
      "         1      -50534.6610             +nan\n",
      "         2      -49537.3891        +997.2719\n",
      "         3      -48969.8017        +567.5874\n",
      "         4      -47095.4059       +1874.3958\n",
      "         5      -41060.4131       +6034.9928\n",
      "         6      -31701.4406       +9358.9725\n",
      "         7      -23561.1107       +8140.3298\n",
      "         8      -19633.9308       +3927.1800\n",
      "         9      -16250.0328       +3383.8979\n",
      "        10      -14580.9753       +1669.0575\n",
      "        11      -14264.8781        +316.0971\n",
      "        12      -14221.7495         +43.1286\n",
      "        13      -14212.3568          +9.3927\n",
      "        14      -14207.1283          +5.2286\n",
      "        15      -14203.0263          +4.1020\n",
      "        16      -14199.3491          +3.6772\n",
      "        17      -14195.7384          +3.6107\n",
      "        18      -14191.9906          +3.7478\n",
      "        19      -14188.0121          +3.9785\n",
      "        20      -14183.7941          +4.2180\n",
      "        21      -14179.3968          +4.3973\n",
      "        22      -14174.9296          +4.4672\n",
      "        23      -14170.5285          +4.4012\n",
      "        24      -14166.3268          +4.2017\n",
      "        25      -14162.3606          +3.9662\n"
     ]
    },
    {
     "name": "stdout",
     "output_type": "stream",
     "text": [
      "Model evaluation with 9 components\n",
      "\n"
     ]
    },
    {
     "name": "stderr",
     "output_type": "stream",
     "text": [
      "         1      -50483.1842             +nan\n",
      "         2      -49442.4182       +1040.7660\n",
      "         3      -48835.9847        +606.4335\n",
      "         4      -47438.9482       +1397.0365\n",
      "         5      -43406.1593       +4032.7889\n",
      "         6      -33999.4745       +9406.6849\n",
      "         7      -21141.6466      +12857.8278\n",
      "         8      -12762.3671       +8379.2795\n",
      "         9       -9596.8834       +3165.4837\n",
      "        10       -8503.5570       +1093.3264\n",
      "        11       -8409.1431         +94.4139\n",
      "        12       -8395.0339         +14.1092\n",
      "        13       -8388.0430          +6.9909\n",
      "        14       -8382.9623          +5.0806\n",
      "        15       -8378.0497          +4.9126\n",
      "        16       -8371.7858          +6.2639\n",
      "        17       -8362.5831          +9.2028\n",
      "        18       -8355.4896          +7.0935\n",
      "        19       -8351.3421          +4.1475\n",
      "        20       -8348.1159          +3.2262\n",
      "        21       -8345.1928          +2.9231\n",
      "        22       -8342.3886          +2.8042\n",
      "        23       -8339.6828          +2.7058\n",
      "        24       -8337.1148          +2.5680\n",
      "        25       -8334.7106          +2.4041\n"
     ]
    },
    {
     "name": "stdout",
     "output_type": "stream",
     "text": [
      "Model evaluation with 10 components\n",
      "\n"
     ]
    },
    {
     "name": "stderr",
     "output_type": "stream",
     "text": [
      "         1      -50192.7080             +nan\n",
      "         2      -48820.1816       +1372.5265\n",
      "         3      -46493.0261       +2327.1554\n",
      "         4      -39521.8906       +6971.1356\n",
      "         5      -29478.1915      +10043.6991\n",
      "         6      -20944.7432       +8533.4483\n",
      "         7      -15565.7472       +5378.9959\n",
      "         8      -13305.0373       +2260.7100\n",
      "         9      -10422.5905       +2882.4468\n",
      "        10       -8648.4392       +1774.1512\n",
      "        11       -8402.6415        +245.7977\n",
      "        12       -8384.8345         +17.8070\n",
      "        13       -8381.3849          +3.4497\n",
      "        14       -8379.7188          +1.6661\n",
      "        15       -8378.4306          +1.2881\n",
      "        16       -8377.3039          +1.1267\n",
      "        17       -8376.2838          +1.0201\n",
      "        18       -8375.3460          +0.9378\n",
      "        19       -8374.4754          +0.8706\n",
      "        20       -8373.6609          +0.8145\n",
      "        21       -8372.8941          +0.7668\n",
      "        22       -8372.1683          +0.7258\n",
      "        23       -8371.4783          +0.6900\n",
      "        24       -8370.8198          +0.6585\n"
     ]
    },
    {
     "name": "stdout",
     "output_type": "stream",
     "text": [
      "Model evaluation with 11 components\n",
      "\n"
     ]
    },
    {
     "name": "stderr",
     "output_type": "stream",
     "text": [
      "        25       -8370.1893          +0.6305\n"
     ]
    }
   ],
   "source": [
    "for i in range(1,12):\n",
    "    lab_model = hmm.MultinomialHMM(n_components=i, n_iter=25, verbose=True).fit(data_lab, lab_lengths)\n",
    "    print(f\"Model evaluation with {i} components\\n\")\n"
   ]
  },
  {
   "cell_type": "code",
   "execution_count": 55,
   "metadata": {},
   "outputs": [],
   "source": [
    "labEval = [-50797, -34546, -27282, -18513, -19620, -13189, -8378, -8376, -14162,  -8334, -8370] \n",
    "# TODO: Divide numbers by number of data samples to get a per sample evaluation."
   ]
  },
  {
   "cell_type": "code",
   "execution_count": 4,
   "metadata": {},
   "outputs": [
    {
     "name": "stderr",
     "output_type": "stream",
     "text": [
      "         1    -1383472.8843             +nan\n",
      "         2    -1302381.7676      +81091.1167\n",
      "         3    -1302381.7676          +0.0000\n"
     ]
    },
    {
     "name": "stdout",
     "output_type": "stream",
     "text": [
      "Model evaluation with 1 components\n",
      "\n"
     ]
    },
    {
     "name": "stderr",
     "output_type": "stream",
     "text": [
      "         1    -1465197.7036             +nan\n",
      "         2    -1300826.8002     +164370.9034\n",
      "         3    -1298537.7497       +2289.0505\n",
      "         4    -1293757.0251       +4780.7246\n",
      "         5    -1281756.7911      +12000.2340\n",
      "         6    -1248957.5861      +32799.2050\n",
      "         7    -1161332.8329      +87624.7532\n",
      "         8    -1000201.9277     +161130.9052\n",
      "         9     -910884.4528      +89317.4749\n",
      "        10     -904772.8867       +6111.5661\n",
      "        11     -904173.9144        +598.9724\n",
      "        12     -904100.2196         +73.6948\n",
      "        13     -904082.1091         +18.1104\n",
      "        14     -904074.8031          +7.3061\n",
      "        15     -904071.0602          +3.7429\n",
      "        16     -904068.9298          +2.1303\n",
      "        17     -904067.6432          +1.2866\n",
      "        18     -904066.8289          +0.8144\n",
      "        19     -904066.2905          +0.5383\n",
      "        20     -904065.9203          +0.3703\n",
      "        21     -904065.6567          +0.2636\n",
      "        22     -904065.4637          +0.1930\n",
      "        23     -904065.3193          +0.1444\n",
      "        24     -904065.2093          +0.1100\n",
      "        25     -904065.1245          +0.0848\n"
     ]
    },
    {
     "name": "stdout",
     "output_type": "stream",
     "text": [
      "Model evaluation with 2 components\n",
      "\n"
     ]
    },
    {
     "name": "stderr",
     "output_type": "stream",
     "text": [
      "         1    -1475547.5880             +nan\n",
      "         2    -1278509.7724     +197037.8156\n",
      "         3    -1231740.1444      +46769.6280\n",
      "         4    -1126566.3658     +105173.7787\n",
      "         5     -970031.0043     +156535.3615\n",
      "         6     -830441.6826     +139589.3217\n",
      "         7     -771434.2941      +59007.3885\n",
      "         8     -756575.4044      +14858.8897\n",
      "         9     -751492.6798       +5082.7246\n",
      "        10     -749937.9083       +1554.7715\n",
      "        11     -749614.2647        +323.6437\n",
      "        12     -749549.8628         +64.4018\n",
      "        13     -749537.9608         +11.9020\n",
      "        14     -749534.7313          +3.2295\n",
      "        15     -749533.4624          +1.2690\n",
      "        16     -749532.8746          +0.5878\n",
      "        17     -749532.5757          +0.2989\n",
      "        18     -749532.4107          +0.1650\n",
      "        19     -749532.3113          +0.0994\n",
      "        20     -749532.2458          +0.0655\n",
      "        21     -749532.1991          +0.0467\n",
      "        22     -749532.1635          +0.0356\n",
      "        23     -749532.1351          +0.0284\n",
      "        24     -749532.1116          +0.0235\n",
      "        25     -749532.0918          +0.0199\n"
     ]
    },
    {
     "name": "stdout",
     "output_type": "stream",
     "text": [
      "Model evaluation with 3 components\n",
      "\n"
     ]
    },
    {
     "name": "stderr",
     "output_type": "stream",
     "text": [
      "         1    -1347930.9878             +nan\n",
      "         2    -1262051.6248      +85879.3630\n",
      "         3    -1181943.0106      +80108.6141\n",
      "         4     -993560.3403     +188382.6704\n",
      "         5     -708131.0937     +285429.2466\n",
      "         6     -614153.8899      +93977.2038\n",
      "         7     -606911.8702       +7242.0197\n",
      "         8     -606052.5363        +859.3339\n",
      "         9     -605878.8984        +173.6379\n",
      "        10     -605782.4141         +96.4843\n",
      "        11     -605691.8350         +90.5791\n",
      "        12     -605594.2852         +97.5498\n",
      "        13     -605485.7303        +108.5548\n",
      "        14     -605363.7667        +121.9637\n",
      "        15     -605226.2134        +137.5533\n",
      "        16     -605070.8069        +155.4065\n",
      "        17     -604895.1502        +175.6567\n",
      "        18     -604696.7303        +198.4199\n",
      "        19     -604472.9471        +223.7833\n",
      "        20     -604221.1205        +251.8266\n",
      "        21     -603938.4467        +282.6738\n",
      "        22     -603621.8752        +316.5715\n",
      "        23     -603267.8969        +353.9783\n",
      "        24     -602872.2723        +395.6245\n",
      "        25     -602429.7976        +442.4748\n"
     ]
    },
    {
     "name": "stdout",
     "output_type": "stream",
     "text": [
      "Model evaluation with 4 components\n",
      "\n"
     ]
    },
    {
     "name": "stderr",
     "output_type": "stream",
     "text": [
      "         1    -1372107.4362             +nan\n",
      "         2    -1294888.7050      +77218.7312\n",
      "         3    -1283255.7551      +11632.9499\n",
      "         4    -1257767.3201      +25488.4350\n",
      "         5    -1188683.5528      +69083.7673\n",
      "         6     -987536.6036     +201146.9492\n",
      "         7     -708022.1428     +279514.4608\n",
      "         8     -625503.8267      +82518.3161\n",
      "         9     -595077.5967      +30426.2300\n",
      "        10     -530247.5207      +64830.0760\n",
      "        11     -453562.9874      +76684.5332\n",
      "        12     -429212.0221      +24350.9653\n",
      "        13     -365999.9579      +63212.0642\n",
      "        14     -332102.4847      +33897.4732\n",
      "        15     -329283.4777       +2819.0070\n",
      "        16     -328910.6423        +372.8354\n",
      "        17     -328805.5958        +105.0465\n",
      "        18     -328766.0532         +39.5425\n",
      "        19     -328749.8941         +16.1592\n",
      "        20     -328743.1422          +6.7519\n",
      "        21     -328740.3097          +2.8325\n",
      "        22     -328739.1207          +1.1890\n",
      "        23     -328738.6209          +0.4998\n",
      "        24     -328738.4100          +0.2108\n",
      "        25     -328738.3206          +0.0894\n"
     ]
    },
    {
     "name": "stdout",
     "output_type": "stream",
     "text": [
      "Model evaluation with 5 components\n",
      "\n"
     ]
    },
    {
     "name": "stderr",
     "output_type": "stream",
     "text": [
      "         1    -1389813.6303             +nan\n",
      "         2    -1282192.8431     +107620.7872\n",
      "         3    -1232303.2307      +49889.6123\n",
      "         4    -1051099.8181     +181203.4127\n",
      "         5     -733118.0401     +317981.7780\n",
      "         6     -582172.6234     +150945.4167\n",
      "         7     -496489.5740      +85683.0494\n",
      "         8     -456554.0990      +39935.4750\n",
      "         9     -454566.8938       +1987.2052\n",
      "        10     -454052.3408        +514.5530\n",
      "        11     -453570.6464        +481.6944\n",
      "        12     -453044.7597        +525.8867\n",
      "        13     -452450.7311        +594.0286\n",
      "        14     -451776.0063        +674.7248\n",
      "        15     -451019.3542        +756.6522\n",
      "        16     -450187.3877        +831.9664\n",
      "        17     -449290.3075        +897.0802\n",
      "        18     -448346.8696        +943.4379\n",
      "        19     -447396.3414        +950.5282\n",
      "        20     -446503.0275        +893.3139\n",
      "        21     -445743.6098        +759.4177\n",
      "        22     -445175.1138        +568.4960\n",
      "        23     -444806.0544        +369.0594\n",
      "        24     -444598.4860        +207.5684\n",
      "        25     -444495.6809        +102.8051\n"
     ]
    },
    {
     "name": "stdout",
     "output_type": "stream",
     "text": [
      "Model evaluation with 6 components\n",
      "\n"
     ]
    },
    {
     "name": "stderr",
     "output_type": "stream",
     "text": [
      "         1    -1446661.6833             +nan\n",
      "         2    -1258049.5924     +188612.0909\n",
      "         3    -1160158.4979      +97891.0945\n",
      "         4    -1006942.7955     +153215.7025\n",
      "         5     -809782.5683     +197160.2271\n",
      "         6     -600774.2465     +209008.3218\n",
      "         7     -446292.2941     +154481.9524\n",
      "         8     -351924.1124      +94368.1817\n",
      "         9     -329720.1474      +22203.9650\n",
      "        10     -326799.8974       +2920.2500\n",
      "        11     -325239.5355       +1560.3619\n",
      "        12     -323812.2873       +1427.2482\n",
      "        13     -322480.5581       +1331.7292\n",
      "        14     -321303.2145       +1177.3435\n",
      "        15     -320370.0529        +933.1617\n",
      "        16     -319730.6514        +639.4014\n",
      "        17     -319354.5446        +376.1068\n",
      "        18     -319164.0226        +190.5221\n",
      "        19     -319079.3259         +84.6967\n",
      "        20     -319044.4596         +34.8664\n",
      "        21     -319029.8629         +14.5966\n",
      "        22     -319022.7551          +7.1078\n",
      "        23     -319018.2283          +4.5268\n",
      "        24     -319014.5546          +3.6737\n",
      "        25     -319011.2395          +3.3151\n"
     ]
    },
    {
     "name": "stdout",
     "output_type": "stream",
     "text": [
      "Model evaluation with 7 components\n",
      "\n"
     ]
    },
    {
     "name": "stderr",
     "output_type": "stream",
     "text": [
      "         1    -1366276.4108             +nan\n",
      "         2    -1263232.3740     +103044.0367\n",
      "         3    -1168263.6230      +94968.7510\n",
      "         4     -979130.7882     +189132.8348\n",
      "         5     -850572.6949     +128558.0933\n",
      "         6     -754661.5100      +95911.1849\n",
      "         7     -662791.3320      +91870.1781\n",
      "         8     -606957.6499      +55833.6820\n",
      "         9     -496968.4504     +109989.1996\n",
      "        10     -387221.4756     +109746.9747\n",
      "        11     -322493.3838      +64728.0918\n",
      "        12     -316554.1737       +5939.2101\n",
      "        13     -315545.2626       +1008.9111\n",
      "        14     -314396.1995       +1149.0631\n",
      "        15     -312382.9262       +2013.2733\n",
      "        16     -306377.6194       +6005.3068\n",
      "        17     -272465.8877      +33911.7317\n",
      "        18     -209453.2114      +63012.6763\n",
      "        19     -198850.5757      +10602.6357\n",
      "        20     -197642.6175       +1207.9582\n",
      "        21     -196721.0187        +921.5988\n",
      "        22     -196051.8024        +669.2163\n",
      "        23     -195639.1773        +412.6251\n",
      "        24     -195422.9713        +216.2061\n",
      "        25     -195323.6537         +99.3176\n"
     ]
    },
    {
     "name": "stdout",
     "output_type": "stream",
     "text": [
      "Model evaluation with 8 components\n",
      "\n"
     ]
    },
    {
     "name": "stderr",
     "output_type": "stream",
     "text": [
      "         1    -1415458.2823             +nan\n",
      "         2    -1283398.1396     +132060.1427\n",
      "         3    -1234835.5273      +48562.6124\n",
      "         4    -1087632.8082     +147202.7190\n",
      "         5     -865402.7082     +222230.1000\n",
      "         6     -695055.4324     +170347.2758\n",
      "         7     -615188.1693      +79867.2631\n",
      "         8     -582783.5862      +32404.5831\n",
      "         9     -505982.8065      +76800.7797\n",
      "        10     -453547.6621      +52435.1443\n",
      "        11     -449648.3611       +3899.3011\n",
      "        12     -449064.7434        +583.6176\n",
      "        13     -448629.6015        +435.1420\n",
      "        14     -447880.8651        +748.7364\n",
      "        15     -445893.5458       +1987.3193\n",
      "        16     -437166.1204       +8727.4254\n",
      "        17     -393507.0473      +43659.0731\n",
      "        18     -333034.0238      +60473.0235\n",
      "        19     -324776.9504       +8257.0735\n",
      "        20     -324137.3704        +639.5800\n",
      "        21     -323824.0154        +313.3549\n",
      "        22     -323527.7245        +296.2909\n",
      "        23     -323215.7696        +311.9549\n",
      "        24     -322878.6271        +337.1425\n",
      "        25     -322508.6271        +370.0000\n"
     ]
    },
    {
     "name": "stdout",
     "output_type": "stream",
     "text": [
      "Model evaluation with 9 components\n",
      "\n"
     ]
    },
    {
     "name": "stderr",
     "output_type": "stream",
     "text": [
      "         1    -1373358.9473             +nan\n",
      "         2    -1294793.6282      +78565.3190\n",
      "         3    -1282678.5031      +12115.1252\n",
      "         4    -1251708.5550      +30969.9480\n",
      "         5    -1157056.5334      +94652.0216\n",
      "         6     -958792.0480     +198264.4854\n",
      "         7     -658354.0925     +300437.9556\n",
      "         8     -455689.5311     +202664.5613\n",
      "         9     -403943.9403      +51745.5908\n",
      "        10     -396611.7740       +7332.1663\n",
      "        11     -395026.3995       +1585.3744\n",
      "        12     -394221.6707        +804.7289\n",
      "        13     -393540.9680        +680.7027\n",
      "        14     -392745.1079        +795.8601\n",
      "        15     -391524.5239       +1220.5840\n",
      "        16     -389133.6613       +2390.8626\n",
      "        17     -383397.2077       +5736.4536\n",
      "        18     -367452.6256      +15944.5822\n",
      "        19     -323434.2554      +44018.3702\n",
      "        20     -248452.3606      +74981.8948\n",
      "        21     -208714.1826      +39738.1780\n",
      "        22     -203293.6885       +5420.4940\n",
      "        23     -201937.0552       +1356.6333\n",
      "        24     -200544.0120       +1393.0432\n",
      "        25     -199044.7221       +1499.2899\n"
     ]
    },
    {
     "name": "stdout",
     "output_type": "stream",
     "text": [
      "Model evaluation with 10 components\n",
      "\n"
     ]
    },
    {
     "name": "stderr",
     "output_type": "stream",
     "text": [
      "         1    -1370984.2189             +nan\n",
      "         2    -1281799.3192      +89184.8997\n",
      "         3    -1238974.0846      +42825.2347\n",
      "         4    -1110981.9987     +127992.0858\n",
      "         5     -867881.5122     +243100.4866\n",
      "         6     -617526.4916     +250355.0206\n",
      "         7     -429327.8754     +188198.6162\n",
      "         8     -367055.9354      +62271.9400\n",
      "         9     -323159.8224      +43896.1130\n",
      "        10     -316870.9705       +6288.8519\n",
      "        11     -315784.9671       +1086.0034\n",
      "        12     -314794.9878        +989.9792\n",
      "        13     -313808.1156        +986.8723\n",
      "        14     -312903.3110        +904.8046\n",
      "        15     -312112.8232        +790.4878\n",
      "        16     -311387.2281        +725.5951\n",
      "        17     -310661.2564        +725.9717\n",
      "        18     -309902.8461        +758.4103\n",
      "        19     -309123.7095        +779.1366\n",
      "        20     -308370.1511        +753.5584\n",
      "        21     -307703.6488        +666.5023\n",
      "        22     -307176.2825        +527.3663\n",
      "        23     -306808.5003        +367.7823\n",
      "        24     -306582.1137        +226.3866\n"
     ]
    },
    {
     "name": "stdout",
     "output_type": "stream",
     "text": [
      "Model evaluation with 11 components\n",
      "\n"
     ]
    },
    {
     "name": "stderr",
     "output_type": "stream",
     "text": [
      "        25     -306455.5320        +126.5816\n"
     ]
    }
   ],
   "source": [
    "for i in range(1,12):\n",
    "    turk_model = hmm.MultinomialHMM(n_components=i, n_iter=25, verbose=True).fit(data_turk, turk_lengths)\n",
    "    print(f\"Model evaluation with {i} components\\n\")\n"
   ]
  },
  {
   "cell_type": "code",
   "execution_count": 54,
   "metadata": {},
   "outputs": [],
   "source": [
    "turkEval = [-1302381, -904065, -749532, -602429, -328738, -444495, -319011, -195323, -322508, -199044, -306582]"
   ]
  },
  {
   "cell_type": "code",
   "execution_count": 44,
   "metadata": {},
   "outputs": [
    {
     "data": {
      "text/plain": [
       "Text(0, 0.5, 'Model Evaluation')"
      ]
     },
     "execution_count": 44,
     "metadata": {},
     "output_type": "execute_result"
    },
    {
     "data": {
      "image/png": "[encoded data removed]",
      "text/plain": [
       "<Figure size 432x288 with 1 Axes>"
      ]
     },
     "metadata": {
      "needs_background": "light"
     },
     "output_type": "display_data"
    }
   ],
   "source": [
    "plt.plot(range(1,len(labEval)+1), labEval)\n",
    "plt.title('Lab HMM model with differnt number of hidden states')\n",
    "plt.xlabel('Number of hidden states')\n",
    "plt.ylabel('Model Evaluation')"
   ]
  },
  {
   "cell_type": "code",
   "execution_count": 42,
   "metadata": {},
   "outputs": [
    {
     "data": {
      "text/plain": [
       "Text(0, 0.5, 'Model Evaluation')"
      ]
     },
     "execution_count": 42,
     "metadata": {},
     "output_type": "execute_result"
    },
    {
     "data": {
      "image/png": "[encoded data removed]",
      "text/plain": [
       "<Figure size 432x288 with 1 Axes>"
      ]
     },
     "metadata": {
      "needs_background": "light"
     },
     "output_type": "display_data"
    }
   ],
   "source": [
    "plt.plot(range(1,len(turkEval)+1), turkEval)\n",
    "plt.title('Turk HMM model with differnt number of hidden states')\n",
    "plt.xlabel('Number of hidden states')\n",
    "plt.ylabel('Model Evaluation')"
   ]
  },
  {
   "cell_type": "markdown",
   "metadata": {},
   "source": [
    "# See if model improves with 12+ states"
   ]
  },
  {
   "cell_type": "code",
   "execution_count": 45,
   "metadata": {},
   "outputs": [
    {
     "name": "stderr",
     "output_type": "stream",
     "text": [
      "         1      -50882.4007             +nan\n",
      "         2      -49040.9901       +1841.4106\n",
      "         3      -47484.0436       +1556.9465\n",
      "         4      -43567.3415       +3916.7021\n",
      "         5      -36687.3462       +6879.9953\n",
      "         6      -27106.0959       +9581.2503\n",
      "         7      -17022.0040      +10084.0919\n",
      "         8      -12423.2915       +4598.7126\n",
      "         9       -9318.0266       +3105.2649\n",
      "        10       -8440.8788        +877.1478\n",
      "        11       -8387.0318         +53.8470\n",
      "        12       -8374.6681         +12.3637\n",
      "        13       -8367.6831          +6.9849\n",
      "        14       -8362.0269          +5.6562\n",
      "        15       -8356.5672          +5.4597\n",
      "        16       -8350.7949          +5.7723\n",
      "        17       -8344.3673          +6.4276\n",
      "        18       -8337.0941          +7.2732\n",
      "        19       -8329.1035          +7.9906\n",
      "        20       -8320.7723          +8.3313\n",
      "        21       -8312.4905          +8.2817\n",
      "        22       -8304.6565          +7.8340\n",
      "        23       -8297.6652          +6.9913\n",
      "        24       -8291.7202          +5.9450\n",
      "        25       -8286.5108          +5.2094\n"
     ]
    },
    {
     "name": "stdout",
     "output_type": "stream",
     "text": [
      "Model evaluation with 12 components\n",
      "\n"
     ]
    },
    {
     "name": "stderr",
     "output_type": "stream",
     "text": [
      "         1      -50691.9668             +nan\n",
      "         2      -49430.0738       +1261.8930\n",
      "         3      -48646.1505        +783.9232\n",
      "         4      -46099.8459       +2546.3047\n",
      "         5      -37738.0545       +8361.7914\n",
      "         6      -26343.1059      +11394.9486\n",
      "         7      -20282.3450       +6060.7609\n",
      "         8      -15758.7271       +4523.6179\n",
      "         9      -12956.6901       +2802.0370\n",
      "        10      -10536.2786       +2420.4115\n",
      "        11       -8530.0110       +2006.2676\n",
      "        12       -8399.8628        +130.1482\n",
      "        13       -8382.3111         +17.5517\n",
      "        14       -8375.3073          +7.0038\n",
      "        15       -8371.3519          +3.9553\n",
      "        16       -8368.3663          +2.9857\n",
      "        17       -8365.8505          +2.5158\n",
      "        18       -8363.6363          +2.2141\n",
      "        19       -8361.6441          +1.9922\n",
      "        20       -8359.8232          +1.8209\n",
      "        21       -8358.1354          +1.6879\n",
      "        22       -8356.5495          +1.5859\n",
      "        23       -8355.0398          +1.5097\n",
      "        24       -8353.5849          +1.4550\n",
      "        25       -8352.1665          +1.4183\n"
     ]
    },
    {
     "name": "stdout",
     "output_type": "stream",
     "text": [
      "Model evaluation with 13 components\n",
      "\n"
     ]
    },
    {
     "name": "stderr",
     "output_type": "stream",
     "text": [
      "         1      -50599.2843             +nan\n",
      "         2      -48801.9817       +1797.3026\n",
      "         3      -46411.3816       +2390.6001\n",
      "         4      -39529.4972       +6881.8844\n",
      "         5      -30277.4792       +9252.0180\n",
      "         6      -23744.7486       +6532.7306\n",
      "         7      -21074.7737       +2669.9749\n",
      "         8      -20428.1685        +646.6052\n",
      "         9      -20305.5181        +122.6504\n",
      "        10      -20262.2972         +43.2208\n",
      "        11      -20228.9615         +33.3357\n",
      "        12      -20186.8540         +42.1075\n",
      "        13      -20142.4120         +44.4420\n",
      "        14      -20087.4644         +54.9476\n",
      "        15      -19914.4979        +172.9665\n",
      "        16      -17566.0764       +2348.4215\n",
      "        17      -15038.5172       +2527.5593\n",
      "        18      -14828.3614        +210.1557\n",
      "        19      -14797.9934         +30.3681\n",
      "        20      -14788.0888          +9.9045\n",
      "        21      -14780.2617          +7.8271\n",
      "        22      -14770.8936          +9.3681\n",
      "        23      -14760.8399         +10.0537\n",
      "        24      -14753.6572          +7.1827\n",
      "        25      -14748.4774          +5.1799\n"
     ]
    },
    {
     "name": "stdout",
     "output_type": "stream",
     "text": [
      "Model evaluation with 14 components\n",
      "\n"
     ]
    },
    {
     "name": "stderr",
     "output_type": "stream",
     "text": [
      "         1      -50196.8018             +nan\n",
      "         2      -49357.0061        +839.7957\n",
      "         3      -48405.5553        +951.4508\n",
      "         4      -44965.3565       +3440.1988\n",
      "         5      -32093.7405      +12871.6160\n",
      "         6      -17181.6853      +14912.0552\n",
      "         7      -14193.2511       +2988.4342\n",
      "         8      -13894.3242        +298.9269\n",
      "         9      -13835.0436         +59.2807\n",
      "        10      -13801.8717         +33.1719\n",
      "        11      -13774.3371         +27.5346\n",
      "        12      -13746.0028         +28.3343\n",
      "        13      -13710.5582         +35.4446\n",
      "        14      -13649.0523         +61.5059\n",
      "        15      -13299.4743        +349.5780\n",
      "        16      -10169.4967       +3129.9776\n",
      "        17       -8433.2737       +1736.2230\n",
      "        18       -8309.8298        +123.4438\n",
      "        19       -8290.0197         +19.8102\n",
      "        20       -8277.3976         +12.6221\n",
      "        21       -8267.9381          +9.4595\n",
      "        22       -8260.9695          +6.9686\n",
      "        23       -8255.4529          +5.5166\n",
      "        24       -8250.9258          +4.5271\n"
     ]
    },
    {
     "name": "stdout",
     "output_type": "stream",
     "text": [
      "Model evaluation with 15 components\n",
      "\n"
     ]
    },
    {
     "name": "stderr",
     "output_type": "stream",
     "text": [
      "        25       -8247.0699          +3.8559\n"
     ]
    }
   ],
   "source": [
    "for i in range(12,16):\n",
    "    lab_model = hmm.MultinomialHMM(n_components=i, n_iter=25, verbose=True).fit(data_lab, lab_lengths)\n",
    "    print(f\"Model evaluation with {i} components\\n\")"
   ]
  },
  {
   "cell_type": "code",
   "execution_count": 58,
   "metadata": {},
   "outputs": [],
   "source": [
    "labEval.extend([-8286, -8352, -14748, -8250])"
   ]
  },
  {
   "cell_type": "code",
   "execution_count": 46,
   "metadata": {},
   "outputs": [
    {
     "name": "stderr",
     "output_type": "stream",
     "text": [
      "         1    -1434878.9513             +nan\n",
      "         2    -1283870.0926     +151008.8587\n",
      "         3    -1250701.9658      +33168.1268\n",
      "         4    -1162330.6635      +88371.3024\n",
      "         5     -966531.2544     +195799.4091\n",
      "         6     -767722.8034     +198808.4510\n",
      "         7     -576182.1786     +191540.6248\n",
      "         8     -441926.8142     +134255.3644\n",
      "         9     -337758.9159     +104167.8983\n",
      "        10     -228775.3607     +108983.5552\n",
      "        11     -206262.3478      +22513.0129\n",
      "        12     -205186.0732       +1076.2746\n",
      "        13     -204524.4524        +661.6208\n",
      "        14     -203720.4230        +804.0293\n",
      "        15     -202714.3139       +1006.1092\n",
      "        16     -201530.9134       +1183.4005\n",
      "        17     -200244.2376       +1286.6758\n",
      "        18     -198937.5020       +1306.7356\n",
      "        19     -197710.9262       +1226.5758\n",
      "        20     -196688.4902       +1022.4360\n",
      "        21     -195952.3311        +736.1590\n",
      "        22     -195494.1305        +458.2006\n",
      "        23     -195240.9934        +253.1371\n",
      "        24     -195106.2664        +134.7270\n",
      "        25     -195027.0630         +79.2034\n"
     ]
    },
    {
     "name": "stdout",
     "output_type": "stream",
     "text": [
      "Model evaluation with 12 components\n",
      "\n"
     ]
    },
    {
     "name": "stderr",
     "output_type": "stream",
     "text": [
      "         1    -1366399.9169             +nan\n",
      "         2    -1285181.8077      +81218.1092\n",
      "         3    -1247944.4050      +37237.4027\n",
      "         4    -1121308.5725     +126635.8325\n",
      "         5     -826043.3711     +295265.2014\n",
      "         6     -528780.4398     +297262.9312\n",
      "         7     -353917.9700     +174862.4698\n",
      "         8     -325347.6146      +28570.3554\n",
      "         9     -323416.9489       +1930.6657\n",
      "        10     -321426.2135       +1990.7354\n",
      "        11     -315942.5623       +5483.6512\n",
      "        12     -295670.2664      +20272.2959\n",
      "        13     -242634.3203      +53035.9460\n",
      "        14     -206946.2181      +35688.1023\n",
      "        15     -204017.0649       +2929.1531\n",
      "        16     -203454.7266        +562.3384\n",
      "        17     -202999.8031        +454.9235\n",
      "        18     -202537.5596        +462.2435\n",
      "        19     -202053.7365        +483.8231\n",
      "        20     -201541.9032        +511.8333\n",
      "        21     -200996.9892        +544.9140\n",
      "        22     -200414.7732        +582.2159\n",
      "        23     -199792.4049        +622.3684\n",
      "        24     -199129.9328        +662.4721\n",
      "        25     -198432.6441        +697.2887\n"
     ]
    },
    {
     "name": "stdout",
     "output_type": "stream",
     "text": [
      "Model evaluation with 13 components\n",
      "\n"
     ]
    },
    {
     "name": "stderr",
     "output_type": "stream",
     "text": [
      "         1    -1354051.3966             +nan\n",
      "         2    -1286910.8064      +67140.5902\n",
      "         3    -1247290.4077      +39620.3987\n",
      "         4    -1104965.1644     +142325.2433\n",
      "         5     -821083.5401     +283881.6243\n",
      "         6     -601671.4937     +219412.0464\n",
      "         7     -477513.5812     +124157.9125\n",
      "         8     -344551.3725     +132962.2087\n",
      "         9     -225072.2320     +119479.1405\n",
      "        10     -206869.5649      +18202.6671\n",
      "        11     -205666.6057       +1202.9592\n",
      "        12     -205131.5688        +535.0370\n",
      "        13     -204668.7092        +462.8596\n",
      "        14     -204218.1509        +450.5583\n",
      "        15     -203761.1690        +456.9818\n",
      "        16     -203278.6096        +482.5594\n",
      "        17     -202751.7730        +526.8367\n",
      "        18     -202166.9635        +584.8095\n",
      "        19     -201517.8789        +649.0846\n",
      "        20     -200804.8243        +713.0546\n",
      "        21     -200031.2254        +773.5989\n",
      "        22     -199201.9981        +829.2273\n",
      "        23     -198328.0485        +873.9496\n",
      "        24     -197436.2263        +891.8222\n",
      "        25     -196577.0138        +859.2126\n"
     ]
    },
    {
     "name": "stdout",
     "output_type": "stream",
     "text": [
      "Model evaluation with 14 components\n",
      "\n"
     ]
    },
    {
     "name": "stderr",
     "output_type": "stream",
     "text": [
      "         1    -1411952.8443             +nan\n",
      "         2    -1283507.5820     +128445.2623\n",
      "         3    -1244416.2941      +39091.2878\n",
      "         4    -1108587.6414     +135828.6527\n",
      "         5     -771540.7995     +337046.8419\n",
      "         6     -451267.2659     +320273.5336\n",
      "         7     -264610.8124     +186656.4535\n",
      "         8     -208424.3379      +56186.4746\n",
      "         9     -204904.5703       +3519.7676\n",
      "        10     -204129.2935        +775.2768\n",
      "        11     -203422.1825        +707.1110\n",
      "        12     -202576.8914        +845.2912\n",
      "        13     -201592.0120        +984.8794\n",
      "        14     -200540.7933       +1051.2187\n",
      "        15     -199498.8336       +1041.9597\n",
      "        16     -198527.0349        +971.7987\n",
      "        17     -197668.0158        +859.0191\n",
      "        18     -196936.8389        +731.1770\n",
      "        19     -196330.8250        +606.0138\n",
      "        20     -195849.1378        +481.6872\n",
      "        21     -195487.3426        +361.7952\n",
      "        22     -195228.2610        +259.0816\n",
      "        23     -195049.0880        +179.1730\n",
      "        24     -194926.6024        +122.4856\n"
     ]
    },
    {
     "name": "stdout",
     "output_type": "stream",
     "text": [
      "Model evaluation with 15 components\n",
      "\n"
     ]
    },
    {
     "name": "stderr",
     "output_type": "stream",
     "text": [
      "        25     -194840.3199         +86.2825\n"
     ]
    }
   ],
   "source": [
    "for i in range(12,16):\n",
    "    turk_model = hmm.MultinomialHMM(n_components=i, n_iter=25, verbose=True).fit(data_turk, turk_lengths)\n",
    "    print(f\"Model evaluation with {i} components\\n\")\n"
   ]
  },
  {
   "cell_type": "code",
   "execution_count": 56,
   "metadata": {},
   "outputs": [],
   "source": [
    "turkEval.extend([-195027, -198432, -196577])"
   ]
  },
  {
   "cell_type": "code",
   "execution_count": 57,
   "metadata": {},
   "outputs": [
    {
     "data": {
      "text/plain": [
       "[-1302381,\n",
       " -904065,\n",
       " -749532,\n",
       " -602429,\n",
       " -328738,\n",
       " -444495,\n",
       " -319011,\n",
       " -195323,\n",
       " -322508,\n",
       " -199044,\n",
       " -306582,\n",
       " -195027,\n",
       " -198432,\n",
       " -196577]"
      ]
     },
     "execution_count": 57,
     "metadata": {},
     "output_type": "execute_result"
    }
   ],
   "source": [
    "turkEval"
   ]
  },
  {
   "cell_type": "code",
   "execution_count": 59,
   "metadata": {},
   "outputs": [
    {
     "data": {
      "text/plain": [
       "Text(0, 0.5, 'Model Evaluation')"
      ]
     },
     "execution_count": 59,
     "metadata": {},
     "output_type": "execute_result"
    },
    {
     "data": {
      "image/png": "[encoded data removed]",
      "text/plain": [
       "<Figure size 432x288 with 1 Axes>"
      ]
     },
     "metadata": {
      "needs_background": "light"
     },
     "output_type": "display_data"
    }
   ],
   "source": [
    "plt.plot(range(1,len(labEval)+1), labEval)\n",
    "plt.title('Lab HMM model with differnt number of hidden states')\n",
    "plt.xlabel('Number of hidden states')\n",
    "plt.ylabel('Model Evaluation')"
   ]
  },
  {
   "cell_type": "code",
   "execution_count": 60,
   "metadata": {},
   "outputs": [
    {
     "data": {
      "text/plain": [
       "Text(0, 0.5, 'Model Evaluation')"
      ]
     },
     "execution_count": 60,
     "metadata": {},
     "output_type": "execute_result"
    },
    {
     "data": {
      "image/png": "[encoded data removed]",
      "text/plain": [
       "<Figure size 432x288 with 1 Axes>"
      ]
     },
     "metadata": {
      "needs_background": "light"
     },
     "output_type": "display_data"
    }
   ],
   "source": [
    "plt.plot(range(1,len(turkEval)+1), turkEval)\n",
    "plt.title('Turk HMM model with differnt number of hidden states')\n",
    "plt.xlabel('Number of hidden states')\n",
    "plt.ylabel('Model Evaluation')"
   ]
  },
  {
   "cell_type": "code",
   "execution_count": 63,
   "metadata": {},
   "outputs": [
    {
     "data": {
      "image/png": "[encoded data removed]",
      "text/plain": [
       "<Figure size 432x288 with 1 Axes>"
      ]
     },
     "metadata": {
      "needs_background": "light"
     },
     "output_type": "display_data"
    },
    {
     "data": {
      "image/png": "[encoded data removed]",
      "text/plain": [
       "<Figure size 432x288 with 1 Axes>"
      ]
     },
     "metadata": {
      "needs_background": "light"
     },
     "output_type": "display_data"
    }
   ],
   "source": [
    "# Data from google colab, each model is trained with 50 iterations\n",
    "\n",
    "LabEval  = [-49841, -33731, -25826, -20937, -13682, -8378, -13179, -8359, -8316, -8307, -8224]\n",
    "TurkEval = [-1302381, -878660, -678653, -496042, -461424, -322624, -317170, -449264, -195265, -193896,  -194017]\n",
    "\n",
    "plt.plot(range(1,len(LabEval)+1), LabEval)\n",
    "plt.title('Lab HMM model with differnt number of hidden states')\n",
    "plt.xlabel('Number of hidden states')\n",
    "plt.ylabel('Model Evaluation')\n",
    "plt.show()\n",
    "\n",
    "plt.plot(range(1,len(TurkEval)+1), TurkEval)\n",
    "plt.title('Turk HMM model with differnt number of hidden states')\n",
    "plt.xlabel('Number of hidden states')\n",
    "plt.ylabel('Model Evaluation')\n",
    "plt.show()"
   ]
  },
  {
   "cell_type": "code",
   "execution_count": 11,
   "metadata": {},
   "outputs": [
    {
     "data": {
      "image/png": "[encoded data removed]",
      "image/svg+xml": "<?xml version=\"1.0\" encoding=\"utf-8\" standalone=\"no\"?>\r\n<!DOCTYPE svg PUBLIC \"-//W3C//DTD SVG 1.1//EN\"\r\n  \"http://www.w3.org/Graphics/SVG/1.1/DTD/svg11.dtd\">\r\n<!-- Created with matplotlib (https://matplotlib.org/) -->\r\n<svg height=\"277.314375pt\" version=\"1.1\" viewBox=\"0 0 403.707812 277.314375\" width=\"403.707812pt\" xmlns=\"http://www.w3.org/2000/svg\" xmlns:xlink=\"http://www.w3.org/1999/xlink\">\r\n <defs>\r\n  <style type=\"text/css\">\r\n*{stroke-linecap:butt;stroke-linejoin:round;}\r\n  </style>\r\n </defs>\r\n <g id=\"figure_1\">\r\n  <g id=\"patch_1\">\r\n   <path d=\"M 0 277.314375 \r\nL 403.707812 277.314375 \r\nL 403.707812 0 \r\nL 0 0 \r\nz\r\n\" style=\"fill:none;\"/>\r\n  </g>\r\n  <g id=\"axes_1\">\r\n   <g id=\"patch_2\">\r\n    <path d=\"M 61.707813 239.758125 \r\nL 396.507812 239.758125 \r\nL 396.507812 22.318125 \r\nL 61.707813 22.318125 \r\nz\r\n\" style=\"fill:#ffffff;\"/>\r\n   </g>\r\n   <g id=\"matplotlib.axis_1\">\r\n    <g id=\"xtick_1\">\r\n     <g id=\"line2d_1\">\r\n      <path clip-path=\"url(#pa514026703)\" d=\"M 107.362358 239.758125 \r\nL 107.362358 22.318125 \r\n\" style=\"fill:none;stroke:#b0b0b0;stroke-dasharray:0.8,1.32;stroke-dashoffset:0;stroke-width:0.8;\"/>\r\n     </g>\r\n     <g id=\"line2d_2\">\r\n      <defs>\r\n       <path d=\"M 0 0 \r\nL 0 3.5 \r\n\" id=\"mf34b0eacef\" style=\"stroke:#000000;stroke-width:0.8;\"/>\r\n      </defs>\r\n      <g>\r\n       <use style=\"stroke:#000000;stroke-width:0.8;\" x=\"107.362358\" xlink:href=\"#mf34b0eacef\" y=\"239.758125\"/>\r\n      </g>\r\n     </g>\r\n     <g id=\"text_1\">\r\n      <!-- 2 -->\r\n      <defs>\r\n       <path d=\"M 19.1875 8.296875 \r\nL 53.609375 8.296875 \r\nL 53.609375 0 \r\nL 7.328125 0 \r\nL 7.328125 8.296875 \r\nQ 12.9375 14.109375 22.625 23.890625 \r\nQ 32.328125 33.6875 34.8125 36.53125 \r\nQ 39.546875 41.84375 41.421875 45.53125 \r\nQ 43.3125 49.21875 43.3125 52.78125 \r\nQ 43.3125 58.59375 39.234375 62.25 \r\nQ 35.15625 65.921875 28.609375 65.921875 \r\nQ 23.96875 65.921875 18.8125 64.3125 \r\nQ 13.671875 62.703125 7.8125 59.421875 \r\nL 7.8125 69.390625 \r\nQ 13.765625 71.78125 18.9375 73 \r\nQ 24.125 74.21875 28.421875 74.21875 \r\nQ 39.75 74.21875 46.484375 68.546875 \r\nQ 53.21875 62.890625 53.21875 53.421875 \r\nQ 53.21875 48.921875 51.53125 44.890625 \r\nQ 49.859375 40.875 45.40625 35.40625 \r\nQ 44.1875 33.984375 37.640625 27.21875 \r\nQ 31.109375 20.453125 19.1875 8.296875 \r\nz\r\n\" id=\"DejaVuSans-50\"/>\r\n      </defs>\r\n      <g transform=\"translate(104.181108 254.356562)scale(0.1 -0.1)\">\r\n       <use xlink:href=\"#DejaVuSans-50\"/>\r\n      </g>\r\n     </g>\r\n    </g>\r\n    <g id=\"xtick_2\">\r\n     <g id=\"line2d_3\">\r\n      <path clip-path=\"url(#pa514026703)\" d=\"M 168.235085 239.758125 \r\nL 168.235085 22.318125 \r\n\" style=\"fill:none;stroke:#b0b0b0;stroke-dasharray:0.8,1.32;stroke-dashoffset:0;stroke-width:0.8;\"/>\r\n     </g>\r\n     <g id=\"line2d_4\">\r\n      <g>\r\n       <use style=\"stroke:#000000;stroke-width:0.8;\" x=\"168.235085\" xlink:href=\"#mf34b0eacef\" y=\"239.758125\"/>\r\n      </g>\r\n     </g>\r\n     <g id=\"text_2\">\r\n      <!-- 4 -->\r\n      <defs>\r\n       <path d=\"M 37.796875 64.3125 \r\nL 12.890625 25.390625 \r\nL 37.796875 25.390625 \r\nz\r\nM 35.203125 72.90625 \r\nL 47.609375 72.90625 \r\nL 47.609375 25.390625 \r\nL 58.015625 25.390625 \r\nL 58.015625 17.1875 \r\nL 47.609375 17.1875 \r\nL 47.609375 0 \r\nL 37.796875 0 \r\nL 37.796875 17.1875 \r\nL 4.890625 17.1875 \r\nL 4.890625 26.703125 \r\nz\r\n\" id=\"DejaVuSans-52\"/>\r\n      </defs>\r\n      <g transform=\"translate(165.053835 254.356562)scale(0.1 -0.1)\">\r\n       <use xlink:href=\"#DejaVuSans-52\"/>\r\n      </g>\r\n     </g>\r\n    </g>\r\n    <g id=\"xtick_3\">\r\n     <g id=\"line2d_5\">\r\n      <path clip-path=\"url(#pa514026703)\" d=\"M 229.107813 239.758125 \r\nL 229.107813 22.318125 \r\n\" style=\"fill:none;stroke:#b0b0b0;stroke-dasharray:0.8,1.32;stroke-dashoffset:0;stroke-width:0.8;\"/>\r\n     </g>\r\n     <g id=\"line2d_6\">\r\n      <g>\r\n       <use style=\"stroke:#000000;stroke-width:0.8;\" x=\"229.107813\" xlink:href=\"#mf34b0eacef\" y=\"239.758125\"/>\r\n      </g>\r\n     </g>\r\n     <g id=\"text_3\">\r\n      <!-- 6 -->\r\n      <defs>\r\n       <path d=\"M 33.015625 40.375 \r\nQ 26.375 40.375 22.484375 35.828125 \r\nQ 18.609375 31.296875 18.609375 23.390625 \r\nQ 18.609375 15.53125 22.484375 10.953125 \r\nQ 26.375 6.390625 33.015625 6.390625 \r\nQ 39.65625 6.390625 43.53125 10.953125 \r\nQ 47.40625 15.53125 47.40625 23.390625 \r\nQ 47.40625 31.296875 43.53125 35.828125 \r\nQ 39.65625 40.375 33.015625 40.375 \r\nz\r\nM 52.59375 71.296875 \r\nL 52.59375 62.3125 \r\nQ 48.875 64.0625 45.09375 64.984375 \r\nQ 41.3125 65.921875 37.59375 65.921875 \r\nQ 27.828125 65.921875 22.671875 59.328125 \r\nQ 17.53125 52.734375 16.796875 39.40625 \r\nQ 19.671875 43.65625 24.015625 45.921875 \r\nQ 28.375 48.1875 33.59375 48.1875 \r\nQ 44.578125 48.1875 50.953125 41.515625 \r\nQ 57.328125 34.859375 57.328125 23.390625 \r\nQ 57.328125 12.15625 50.6875 5.359375 \r\nQ 44.046875 -1.421875 33.015625 -1.421875 \r\nQ 20.359375 -1.421875 13.671875 8.265625 \r\nQ 6.984375 17.96875 6.984375 36.375 \r\nQ 6.984375 53.65625 15.1875 63.9375 \r\nQ 23.390625 74.21875 37.203125 74.21875 \r\nQ 40.921875 74.21875 44.703125 73.484375 \r\nQ 48.484375 72.75 52.59375 71.296875 \r\nz\r\n\" id=\"DejaVuSans-54\"/>\r\n      </defs>\r\n      <g transform=\"translate(225.926563 254.356562)scale(0.1 -0.1)\">\r\n       <use xlink:href=\"#DejaVuSans-54\"/>\r\n      </g>\r\n     </g>\r\n    </g>\r\n    <g id=\"xtick_4\">\r\n     <g id=\"line2d_7\">\r\n      <path clip-path=\"url(#pa514026703)\" d=\"M 289.98054 239.758125 \r\nL 289.98054 22.318125 \r\n\" style=\"fill:none;stroke:#b0b0b0;stroke-dasharray:0.8,1.32;stroke-dashoffset:0;stroke-width:0.8;\"/>\r\n     </g>\r\n     <g id=\"line2d_8\">\r\n      <g>\r\n       <use style=\"stroke:#000000;stroke-width:0.8;\" x=\"289.98054\" xlink:href=\"#mf34b0eacef\" y=\"239.758125\"/>\r\n      </g>\r\n     </g>\r\n     <g id=\"text_4\">\r\n      <!-- 8 -->\r\n      <defs>\r\n       <path d=\"M 31.78125 34.625 \r\nQ 24.75 34.625 20.71875 30.859375 \r\nQ 16.703125 27.09375 16.703125 20.515625 \r\nQ 16.703125 13.921875 20.71875 10.15625 \r\nQ 24.75 6.390625 31.78125 6.390625 \r\nQ 38.8125 6.390625 42.859375 10.171875 \r\nQ 46.921875 13.96875 46.921875 20.515625 \r\nQ 46.921875 27.09375 42.890625 30.859375 \r\nQ 38.875 34.625 31.78125 34.625 \r\nz\r\nM 21.921875 38.8125 \r\nQ 15.578125 40.375 12.03125 44.71875 \r\nQ 8.5 49.078125 8.5 55.328125 \r\nQ 8.5 64.0625 14.71875 69.140625 \r\nQ 20.953125 74.21875 31.78125 74.21875 \r\nQ 42.671875 74.21875 48.875 69.140625 \r\nQ 55.078125 64.0625 55.078125 55.328125 \r\nQ 55.078125 49.078125 51.53125 44.71875 \r\nQ 48 40.375 41.703125 38.8125 \r\nQ 48.828125 37.15625 52.796875 32.3125 \r\nQ 56.78125 27.484375 56.78125 20.515625 \r\nQ 56.78125 9.90625 50.3125 4.234375 \r\nQ 43.84375 -1.421875 31.78125 -1.421875 \r\nQ 19.734375 -1.421875 13.25 4.234375 \r\nQ 6.78125 9.90625 6.78125 20.515625 \r\nQ 6.78125 27.484375 10.78125 32.3125 \r\nQ 14.796875 37.15625 21.921875 38.8125 \r\nz\r\nM 18.3125 54.390625 \r\nQ 18.3125 48.734375 21.84375 45.5625 \r\nQ 25.390625 42.390625 31.78125 42.390625 \r\nQ 38.140625 42.390625 41.71875 45.5625 \r\nQ 45.3125 48.734375 45.3125 54.390625 \r\nQ 45.3125 60.0625 41.71875 63.234375 \r\nQ 38.140625 66.40625 31.78125 66.40625 \r\nQ 25.390625 66.40625 21.84375 63.234375 \r\nQ 18.3125 60.0625 18.3125 54.390625 \r\nz\r\n\" id=\"DejaVuSans-56\"/>\r\n      </defs>\r\n      <g transform=\"translate(286.79929 254.356562)scale(0.1 -0.1)\">\r\n       <use xlink:href=\"#DejaVuSans-56\"/>\r\n      </g>\r\n     </g>\r\n    </g>\r\n    <g id=\"xtick_5\">\r\n     <g id=\"line2d_9\">\r\n      <path clip-path=\"url(#pa514026703)\" d=\"M 350.853267 239.758125 \r\nL 350.853267 22.318125 \r\n\" style=\"fill:none;stroke:#b0b0b0;stroke-dasharray:0.8,1.32;stroke-dashoffset:0;stroke-width:0.8;\"/>\r\n     </g>\r\n     <g id=\"line2d_10\">\r\n      <g>\r\n       <use style=\"stroke:#000000;stroke-width:0.8;\" x=\"350.853267\" xlink:href=\"#mf34b0eacef\" y=\"239.758125\"/>\r\n      </g>\r\n     </g>\r\n     <g id=\"text_5\">\r\n      <!-- 10 -->\r\n      <defs>\r\n       <path d=\"M 12.40625 8.296875 \r\nL 28.515625 8.296875 \r\nL 28.515625 63.921875 \r\nL 10.984375 60.40625 \r\nL 10.984375 69.390625 \r\nL 28.421875 72.90625 \r\nL 38.28125 72.90625 \r\nL 38.28125 8.296875 \r\nL 54.390625 8.296875 \r\nL 54.390625 0 \r\nL 12.40625 0 \r\nz\r\n\" id=\"DejaVuSans-49\"/>\r\n       <path d=\"M 31.78125 66.40625 \r\nQ 24.171875 66.40625 20.328125 58.90625 \r\nQ 16.5 51.421875 16.5 36.375 \r\nQ 16.5 21.390625 20.328125 13.890625 \r\nQ 24.171875 6.390625 31.78125 6.390625 \r\nQ 39.453125 6.390625 43.28125 13.890625 \r\nQ 47.125 21.390625 47.125 36.375 \r\nQ 47.125 51.421875 43.28125 58.90625 \r\nQ 39.453125 66.40625 31.78125 66.40625 \r\nz\r\nM 31.78125 74.21875 \r\nQ 44.046875 74.21875 50.515625 64.515625 \r\nQ 56.984375 54.828125 56.984375 36.375 \r\nQ 56.984375 17.96875 50.515625 8.265625 \r\nQ 44.046875 -1.421875 31.78125 -1.421875 \r\nQ 19.53125 -1.421875 13.0625 8.265625 \r\nQ 6.59375 17.96875 6.59375 36.375 \r\nQ 6.59375 54.828125 13.0625 64.515625 \r\nQ 19.53125 74.21875 31.78125 74.21875 \r\nz\r\n\" id=\"DejaVuSans-48\"/>\r\n      </defs>\r\n      <g transform=\"translate(344.490767 254.356562)scale(0.1 -0.1)\">\r\n       <use xlink:href=\"#DejaVuSans-49\"/>\r\n       <use x=\"63.623047\" xlink:href=\"#DejaVuSans-48\"/>\r\n      </g>\r\n     </g>\r\n    </g>\r\n    <g id=\"text_6\">\r\n     <!-- Number of hidden states -->\r\n     <defs>\r\n      <path d=\"M 9.8125 72.90625 \r\nL 23.09375 72.90625 \r\nL 55.421875 11.921875 \r\nL 55.421875 72.90625 \r\nL 64.984375 72.90625 \r\nL 64.984375 0 \r\nL 51.703125 0 \r\nL 19.390625 60.984375 \r\nL 19.390625 0 \r\nL 9.8125 0 \r\nz\r\n\" id=\"DejaVuSans-78\"/>\r\n      <path d=\"M 8.5 21.578125 \r\nL 8.5 54.6875 \r\nL 17.484375 54.6875 \r\nL 17.484375 21.921875 \r\nQ 17.484375 14.15625 20.5 10.265625 \r\nQ 23.53125 6.390625 29.59375 6.390625 \r\nQ 36.859375 6.390625 41.078125 11.03125 \r\nQ 45.3125 15.671875 45.3125 23.6875 \r\nL 45.3125 54.6875 \r\nL 54.296875 54.6875 \r\nL 54.296875 0 \r\nL 45.3125 0 \r\nL 45.3125 8.40625 \r\nQ 42.046875 3.421875 37.71875 1 \r\nQ 33.40625 -1.421875 27.6875 -1.421875 \r\nQ 18.265625 -1.421875 13.375 4.4375 \r\nQ 8.5 10.296875 8.5 21.578125 \r\nz\r\nM 31.109375 56 \r\nz\r\n\" id=\"DejaVuSans-117\"/>\r\n      <path d=\"M 52 44.1875 \r\nQ 55.375 50.25 60.0625 53.125 \r\nQ 64.75 56 71.09375 56 \r\nQ 79.640625 56 84.28125 50.015625 \r\nQ 88.921875 44.046875 88.921875 33.015625 \r\nL 88.921875 0 \r\nL 79.890625 0 \r\nL 79.890625 32.71875 \r\nQ 79.890625 40.578125 77.09375 44.375 \r\nQ 74.3125 48.1875 68.609375 48.1875 \r\nQ 61.625 48.1875 57.5625 43.546875 \r\nQ 53.515625 38.921875 53.515625 30.90625 \r\nL 53.515625 0 \r\nL 44.484375 0 \r\nL 44.484375 32.71875 \r\nQ 44.484375 40.625 41.703125 44.40625 \r\nQ 38.921875 48.1875 33.109375 48.1875 \r\nQ 26.21875 48.1875 22.15625 43.53125 \r\nQ 18.109375 38.875 18.109375 30.90625 \r\nL 18.109375 0 \r\nL 9.078125 0 \r\nL 9.078125 54.6875 \r\nL 18.109375 54.6875 \r\nL 18.109375 46.1875 \r\nQ 21.1875 51.21875 25.484375 53.609375 \r\nQ 29.78125 56 35.6875 56 \r\nQ 41.65625 56 45.828125 52.96875 \r\nQ 50 49.953125 52 44.1875 \r\nz\r\n\" id=\"DejaVuSans-109\"/>\r\n      <path d=\"M 48.6875 27.296875 \r\nQ 48.6875 37.203125 44.609375 42.84375 \r\nQ 40.53125 48.484375 33.40625 48.484375 \r\nQ 26.265625 48.484375 22.1875 42.84375 \r\nQ 18.109375 37.203125 18.109375 27.296875 \r\nQ 18.109375 17.390625 22.1875 11.75 \r\nQ 26.265625 6.109375 33.40625 6.109375 \r\nQ 40.53125 6.109375 44.609375 11.75 \r\nQ 48.6875 17.390625 48.6875 27.296875 \r\nz\r\nM 18.109375 46.390625 \r\nQ 20.953125 51.265625 25.265625 53.625 \r\nQ 29.59375 56 35.59375 56 \r\nQ 45.5625 56 51.78125 48.09375 \r\nQ 58.015625 40.1875 58.015625 27.296875 \r\nQ 58.015625 14.40625 51.78125 6.484375 \r\nQ 45.5625 -1.421875 35.59375 -1.421875 \r\nQ 29.59375 -1.421875 25.265625 0.953125 \r\nQ 20.953125 3.328125 18.109375 8.203125 \r\nL 18.109375 0 \r\nL 9.078125 0 \r\nL 9.078125 75.984375 \r\nL 18.109375 75.984375 \r\nz\r\n\" id=\"DejaVuSans-98\"/>\r\n      <path d=\"M 56.203125 29.59375 \r\nL 56.203125 25.203125 \r\nL 14.890625 25.203125 \r\nQ 15.484375 15.921875 20.484375 11.0625 \r\nQ 25.484375 6.203125 34.421875 6.203125 \r\nQ 39.59375 6.203125 44.453125 7.46875 \r\nQ 49.3125 8.734375 54.109375 11.28125 \r\nL 54.109375 2.78125 \r\nQ 49.265625 0.734375 44.1875 -0.34375 \r\nQ 39.109375 -1.421875 33.890625 -1.421875 \r\nQ 20.796875 -1.421875 13.15625 6.1875 \r\nQ 5.515625 13.8125 5.515625 26.8125 \r\nQ 5.515625 40.234375 12.765625 48.109375 \r\nQ 20.015625 56 32.328125 56 \r\nQ 43.359375 56 49.78125 48.890625 \r\nQ 56.203125 41.796875 56.203125 29.59375 \r\nz\r\nM 47.21875 32.234375 \r\nQ 47.125 39.59375 43.09375 43.984375 \r\nQ 39.0625 48.390625 32.421875 48.390625 \r\nQ 24.90625 48.390625 20.390625 44.140625 \r\nQ 15.875 39.890625 15.1875 32.171875 \r\nz\r\n\" id=\"DejaVuSans-101\"/>\r\n      <path d=\"M 41.109375 46.296875 \r\nQ 39.59375 47.171875 37.8125 47.578125 \r\nQ 36.03125 48 33.890625 48 \r\nQ 26.265625 48 22.1875 43.046875 \r\nQ 18.109375 38.09375 18.109375 28.8125 \r\nL 18.109375 0 \r\nL 9.078125 0 \r\nL 9.078125 54.6875 \r\nL 18.109375 54.6875 \r\nL 18.109375 46.1875 \r\nQ 20.953125 51.171875 25.484375 53.578125 \r\nQ 30.03125 56 36.53125 56 \r\nQ 37.453125 56 38.578125 55.875 \r\nQ 39.703125 55.765625 41.0625 55.515625 \r\nz\r\n\" id=\"DejaVuSans-114\"/>\r\n      <path id=\"DejaVuSans-32\"/>\r\n      <path d=\"M 30.609375 48.390625 \r\nQ 23.390625 48.390625 19.1875 42.75 \r\nQ 14.984375 37.109375 14.984375 27.296875 \r\nQ 14.984375 17.484375 19.15625 11.84375 \r\nQ 23.34375 6.203125 30.609375 6.203125 \r\nQ 37.796875 6.203125 41.984375 11.859375 \r\nQ 46.1875 17.53125 46.1875 27.296875 \r\nQ 46.1875 37.015625 41.984375 42.703125 \r\nQ 37.796875 48.390625 30.609375 48.390625 \r\nz\r\nM 30.609375 56 \r\nQ 42.328125 56 49.015625 48.375 \r\nQ 55.71875 40.765625 55.71875 27.296875 \r\nQ 55.71875 13.875 49.015625 6.21875 \r\nQ 42.328125 -1.421875 30.609375 -1.421875 \r\nQ 18.84375 -1.421875 12.171875 6.21875 \r\nQ 5.515625 13.875 5.515625 27.296875 \r\nQ 5.515625 40.765625 12.171875 48.375 \r\nQ 18.84375 56 30.609375 56 \r\nz\r\n\" id=\"DejaVuSans-111\"/>\r\n      <path d=\"M 37.109375 75.984375 \r\nL 37.109375 68.5 \r\nL 28.515625 68.5 \r\nQ 23.6875 68.5 21.796875 66.546875 \r\nQ 19.921875 64.59375 19.921875 59.515625 \r\nL 19.921875 54.6875 \r\nL 34.71875 54.6875 \r\nL 34.71875 47.703125 \r\nL 19.921875 47.703125 \r\nL 19.921875 0 \r\nL 10.890625 0 \r\nL 10.890625 47.703125 \r\nL 2.296875 47.703125 \r\nL 2.296875 54.6875 \r\nL 10.890625 54.6875 \r\nL 10.890625 58.5 \r\nQ 10.890625 67.625 15.140625 71.796875 \r\nQ 19.390625 75.984375 28.609375 75.984375 \r\nz\r\n\" id=\"DejaVuSans-102\"/>\r\n      <path d=\"M 54.890625 33.015625 \r\nL 54.890625 0 \r\nL 45.90625 0 \r\nL 45.90625 32.71875 \r\nQ 45.90625 40.484375 42.875 44.328125 \r\nQ 39.84375 48.1875 33.796875 48.1875 \r\nQ 26.515625 48.1875 22.3125 43.546875 \r\nQ 18.109375 38.921875 18.109375 30.90625 \r\nL 18.109375 0 \r\nL 9.078125 0 \r\nL 9.078125 75.984375 \r\nL 18.109375 75.984375 \r\nL 18.109375 46.1875 \r\nQ 21.34375 51.125 25.703125 53.5625 \r\nQ 30.078125 56 35.796875 56 \r\nQ 45.21875 56 50.046875 50.171875 \r\nQ 54.890625 44.34375 54.890625 33.015625 \r\nz\r\n\" id=\"DejaVuSans-104\"/>\r\n      <path d=\"M 9.421875 54.6875 \r\nL 18.40625 54.6875 \r\nL 18.40625 0 \r\nL 9.421875 0 \r\nz\r\nM 9.421875 75.984375 \r\nL 18.40625 75.984375 \r\nL 18.40625 64.59375 \r\nL 9.421875 64.59375 \r\nz\r\n\" id=\"DejaVuSans-105\"/>\r\n      <path d=\"M 45.40625 46.390625 \r\nL 45.40625 75.984375 \r\nL 54.390625 75.984375 \r\nL 54.390625 0 \r\nL 45.40625 0 \r\nL 45.40625 8.203125 \r\nQ 42.578125 3.328125 38.25 0.953125 \r\nQ 33.9375 -1.421875 27.875 -1.421875 \r\nQ 17.96875 -1.421875 11.734375 6.484375 \r\nQ 5.515625 14.40625 5.515625 27.296875 \r\nQ 5.515625 40.1875 11.734375 48.09375 \r\nQ 17.96875 56 27.875 56 \r\nQ 33.9375 56 38.25 53.625 \r\nQ 42.578125 51.265625 45.40625 46.390625 \r\nz\r\nM 14.796875 27.296875 \r\nQ 14.796875 17.390625 18.875 11.75 \r\nQ 22.953125 6.109375 30.078125 6.109375 \r\nQ 37.203125 6.109375 41.296875 11.75 \r\nQ 45.40625 17.390625 45.40625 27.296875 \r\nQ 45.40625 37.203125 41.296875 42.84375 \r\nQ 37.203125 48.484375 30.078125 48.484375 \r\nQ 22.953125 48.484375 18.875 42.84375 \r\nQ 14.796875 37.203125 14.796875 27.296875 \r\nz\r\n\" id=\"DejaVuSans-100\"/>\r\n      <path d=\"M 54.890625 33.015625 \r\nL 54.890625 0 \r\nL 45.90625 0 \r\nL 45.90625 32.71875 \r\nQ 45.90625 40.484375 42.875 44.328125 \r\nQ 39.84375 48.1875 33.796875 48.1875 \r\nQ 26.515625 48.1875 22.3125 43.546875 \r\nQ 18.109375 38.921875 18.109375 30.90625 \r\nL 18.109375 0 \r\nL 9.078125 0 \r\nL 9.078125 54.6875 \r\nL 18.109375 54.6875 \r\nL 18.109375 46.1875 \r\nQ 21.34375 51.125 25.703125 53.5625 \r\nQ 30.078125 56 35.796875 56 \r\nQ 45.21875 56 50.046875 50.171875 \r\nQ 54.890625 44.34375 54.890625 33.015625 \r\nz\r\n\" id=\"DejaVuSans-110\"/>\r\n      <path d=\"M 44.28125 53.078125 \r\nL 44.28125 44.578125 \r\nQ 40.484375 46.53125 36.375 47.5 \r\nQ 32.28125 48.484375 27.875 48.484375 \r\nQ 21.1875 48.484375 17.84375 46.4375 \r\nQ 14.5 44.390625 14.5 40.28125 \r\nQ 14.5 37.15625 16.890625 35.375 \r\nQ 19.28125 33.59375 26.515625 31.984375 \r\nL 29.59375 31.296875 \r\nQ 39.15625 29.25 43.1875 25.515625 \r\nQ 47.21875 21.78125 47.21875 15.09375 \r\nQ 47.21875 7.46875 41.1875 3.015625 \r\nQ 35.15625 -1.421875 24.609375 -1.421875 \r\nQ 20.21875 -1.421875 15.453125 -0.5625 \r\nQ 10.6875 0.296875 5.421875 2 \r\nL 5.421875 11.28125 \r\nQ 10.40625 8.6875 15.234375 7.390625 \r\nQ 20.0625 6.109375 24.8125 6.109375 \r\nQ 31.15625 6.109375 34.5625 8.28125 \r\nQ 37.984375 10.453125 37.984375 14.40625 \r\nQ 37.984375 18.0625 35.515625 20.015625 \r\nQ 33.0625 21.96875 24.703125 23.78125 \r\nL 21.578125 24.515625 \r\nQ 13.234375 26.265625 9.515625 29.90625 \r\nQ 5.8125 33.546875 5.8125 39.890625 \r\nQ 5.8125 47.609375 11.28125 51.796875 \r\nQ 16.75 56 26.8125 56 \r\nQ 31.78125 56 36.171875 55.265625 \r\nQ 40.578125 54.546875 44.28125 53.078125 \r\nz\r\n\" id=\"DejaVuSans-115\"/>\r\n      <path d=\"M 18.3125 70.21875 \r\nL 18.3125 54.6875 \r\nL 36.8125 54.6875 \r\nL 36.8125 47.703125 \r\nL 18.3125 47.703125 \r\nL 18.3125 18.015625 \r\nQ 18.3125 11.328125 20.140625 9.421875 \r\nQ 21.96875 7.515625 27.59375 7.515625 \r\nL 36.8125 7.515625 \r\nL 36.8125 0 \r\nL 27.59375 0 \r\nQ 17.1875 0 13.234375 3.875 \r\nQ 9.28125 7.765625 9.28125 18.015625 \r\nL 9.28125 47.703125 \r\nL 2.6875 47.703125 \r\nL 2.6875 54.6875 \r\nL 9.28125 54.6875 \r\nL 9.28125 70.21875 \r\nz\r\n\" id=\"DejaVuSans-116\"/>\r\n      <path d=\"M 34.28125 27.484375 \r\nQ 23.390625 27.484375 19.1875 25 \r\nQ 14.984375 22.515625 14.984375 16.5 \r\nQ 14.984375 11.71875 18.140625 8.90625 \r\nQ 21.296875 6.109375 26.703125 6.109375 \r\nQ 34.1875 6.109375 38.703125 11.40625 \r\nQ 43.21875 16.703125 43.21875 25.484375 \r\nL 43.21875 27.484375 \r\nz\r\nM 52.203125 31.203125 \r\nL 52.203125 0 \r\nL 43.21875 0 \r\nL 43.21875 8.296875 \r\nQ 40.140625 3.328125 35.546875 0.953125 \r\nQ 30.953125 -1.421875 24.3125 -1.421875 \r\nQ 15.921875 -1.421875 10.953125 3.296875 \r\nQ 6 8.015625 6 15.921875 \r\nQ 6 25.140625 12.171875 29.828125 \r\nQ 18.359375 34.515625 30.609375 34.515625 \r\nL 43.21875 34.515625 \r\nL 43.21875 35.40625 \r\nQ 43.21875 41.609375 39.140625 45 \r\nQ 35.0625 48.390625 27.6875 48.390625 \r\nQ 23 48.390625 18.546875 47.265625 \r\nQ 14.109375 46.140625 10.015625 43.890625 \r\nL 10.015625 52.203125 \r\nQ 14.9375 54.109375 19.578125 55.046875 \r\nQ 24.21875 56 28.609375 56 \r\nQ 40.484375 56 46.34375 49.84375 \r\nQ 52.203125 43.703125 52.203125 31.203125 \r\nz\r\n\" id=\"DejaVuSans-97\"/>\r\n     </defs>\r\n     <g transform=\"translate(167.013281 268.034687)scale(0.1 -0.1)\">\r\n      <use xlink:href=\"#DejaVuSans-78\"/>\r\n      <use x=\"74.804688\" xlink:href=\"#DejaVuSans-117\"/>\r\n      <use x=\"138.183594\" xlink:href=\"#DejaVuSans-109\"/>\r\n      <use x=\"235.595703\" xlink:href=\"#DejaVuSans-98\"/>\r\n      <use x=\"299.072266\" xlink:href=\"#DejaVuSans-101\"/>\r\n      <use x=\"360.595703\" xlink:href=\"#DejaVuSans-114\"/>\r\n      <use x=\"401.708984\" xlink:href=\"#DejaVuSans-32\"/>\r\n      <use x=\"433.496094\" xlink:href=\"#DejaVuSans-111\"/>\r\n      <use x=\"494.677734\" xlink:href=\"#DejaVuSans-102\"/>\r\n      <use x=\"529.882812\" xlink:href=\"#DejaVuSans-32\"/>\r\n      <use x=\"561.669922\" xlink:href=\"#DejaVuSans-104\"/>\r\n      <use x=\"625.048828\" xlink:href=\"#DejaVuSans-105\"/>\r\n      <use x=\"652.832031\" xlink:href=\"#DejaVuSans-100\"/>\r\n      <use x=\"716.308594\" xlink:href=\"#DejaVuSans-100\"/>\r\n      <use x=\"779.785156\" xlink:href=\"#DejaVuSans-101\"/>\r\n      <use x=\"841.308594\" xlink:href=\"#DejaVuSans-110\"/>\r\n      <use x=\"904.6875\" xlink:href=\"#DejaVuSans-32\"/>\r\n      <use x=\"936.474609\" xlink:href=\"#DejaVuSans-115\"/>\r\n      <use x=\"988.574219\" xlink:href=\"#DejaVuSans-116\"/>\r\n      <use x=\"1027.783203\" xlink:href=\"#DejaVuSans-97\"/>\r\n      <use x=\"1089.0625\" xlink:href=\"#DejaVuSans-116\"/>\r\n      <use x=\"1128.271484\" xlink:href=\"#DejaVuSans-101\"/>\r\n      <use x=\"1189.794922\" xlink:href=\"#DejaVuSans-115\"/>\r\n     </g>\r\n    </g>\r\n   </g>\r\n   <g id=\"matplotlib.axis_2\">\r\n    <g id=\"ytick_1\">\r\n     <g id=\"line2d_11\">\r\n      <path clip-path=\"url(#pa514026703)\" d=\"M 61.707813 226.092171 \r\nL 396.507812 226.092171 \r\n\" style=\"fill:none;stroke:#b0b0b0;stroke-dasharray:0.8,1.32;stroke-dashoffset:0;stroke-width:0.8;\"/>\r\n     </g>\r\n     <g id=\"line2d_12\">\r\n      <defs>\r\n       <path d=\"M 0 0 \r\nL -3.5 0 \r\n\" id=\"m41559aeb8f\" style=\"stroke:#000000;stroke-width:0.8;\"/>\r\n      </defs>\r\n      <g>\r\n       <use style=\"stroke:#000000;stroke-width:0.8;\" x=\"61.707813\" xlink:href=\"#m41559aeb8f\" y=\"226.092171\"/>\r\n      </g>\r\n     </g>\r\n     <g id=\"text_7\">\r\n      <!-- −3500 -->\r\n      <defs>\r\n       <path d=\"M 10.59375 35.5 \r\nL 73.1875 35.5 \r\nL 73.1875 27.203125 \r\nL 10.59375 27.203125 \r\nz\r\n\" id=\"DejaVuSans-8722\"/>\r\n       <path d=\"M 40.578125 39.3125 \r\nQ 47.65625 37.796875 51.625 33 \r\nQ 55.609375 28.21875 55.609375 21.1875 \r\nQ 55.609375 10.40625 48.1875 4.484375 \r\nQ 40.765625 -1.421875 27.09375 -1.421875 \r\nQ 22.515625 -1.421875 17.65625 -0.515625 \r\nQ 12.796875 0.390625 7.625 2.203125 \r\nL 7.625 11.71875 \r\nQ 11.71875 9.328125 16.59375 8.109375 \r\nQ 21.484375 6.890625 26.8125 6.890625 \r\nQ 36.078125 6.890625 40.9375 10.546875 \r\nQ 45.796875 14.203125 45.796875 21.1875 \r\nQ 45.796875 27.640625 41.28125 31.265625 \r\nQ 36.765625 34.90625 28.71875 34.90625 \r\nL 20.21875 34.90625 \r\nL 20.21875 43.015625 \r\nL 29.109375 43.015625 \r\nQ 36.375 43.015625 40.234375 45.921875 \r\nQ 44.09375 48.828125 44.09375 54.296875 \r\nQ 44.09375 59.90625 40.109375 62.90625 \r\nQ 36.140625 65.921875 28.71875 65.921875 \r\nQ 24.65625 65.921875 20.015625 65.03125 \r\nQ 15.375 64.15625 9.8125 62.3125 \r\nL 9.8125 71.09375 \r\nQ 15.4375 72.65625 20.34375 73.4375 \r\nQ 25.25 74.21875 29.59375 74.21875 \r\nQ 40.828125 74.21875 47.359375 69.109375 \r\nQ 53.90625 64.015625 53.90625 55.328125 \r\nQ 53.90625 49.265625 50.4375 45.09375 \r\nQ 46.96875 40.921875 40.578125 39.3125 \r\nz\r\n\" id=\"DejaVuSans-51\"/>\r\n       <path d=\"M 10.796875 72.90625 \r\nL 49.515625 72.90625 \r\nL 49.515625 64.59375 \r\nL 19.828125 64.59375 \r\nL 19.828125 46.734375 \r\nQ 21.96875 47.46875 24.109375 47.828125 \r\nQ 26.265625 48.1875 28.421875 48.1875 \r\nQ 40.625 48.1875 47.75 41.5 \r\nQ 54.890625 34.8125 54.890625 23.390625 \r\nQ 54.890625 11.625 47.5625 5.09375 \r\nQ 40.234375 -1.421875 26.90625 -1.421875 \r\nQ 22.3125 -1.421875 17.546875 -0.640625 \r\nQ 12.796875 0.140625 7.71875 1.703125 \r\nL 7.71875 11.625 \r\nQ 12.109375 9.234375 16.796875 8.0625 \r\nQ 21.484375 6.890625 26.703125 6.890625 \r\nQ 35.15625 6.890625 40.078125 11.328125 \r\nQ 45.015625 15.765625 45.015625 23.390625 \r\nQ 45.015625 31 40.078125 35.4375 \r\nQ 35.15625 39.890625 26.703125 39.890625 \r\nQ 22.75 39.890625 18.8125 39.015625 \r\nQ 14.890625 38.140625 10.796875 36.28125 \r\nz\r\n\" id=\"DejaVuSans-53\"/>\r\n      </defs>\r\n      <g transform=\"translate(20.878125 229.89139)scale(0.1 -0.1)\">\r\n       <use xlink:href=\"#DejaVuSans-8722\"/>\r\n       <use x=\"83.789062\" xlink:href=\"#DejaVuSans-51\"/>\r\n       <use x=\"147.412109\" xlink:href=\"#DejaVuSans-53\"/>\r\n       <use x=\"211.035156\" xlink:href=\"#DejaVuSans-48\"/>\r\n       <use x=\"274.658203\" xlink:href=\"#DejaVuSans-48\"/>\r\n      </g>\r\n     </g>\r\n    </g>\r\n    <g id=\"ytick_2\">\r\n     <g id=\"line2d_13\">\r\n      <path clip-path=\"url(#pa514026703)\" d=\"M 61.707813 194.610336 \r\nL 396.507812 194.610336 \r\n\" style=\"fill:none;stroke:#b0b0b0;stroke-dasharray:0.8,1.32;stroke-dashoffset:0;stroke-width:0.8;\"/>\r\n     </g>\r\n     <g id=\"line2d_14\">\r\n      <g>\r\n       <use style=\"stroke:#000000;stroke-width:0.8;\" x=\"61.707813\" xlink:href=\"#m41559aeb8f\" y=\"194.610336\"/>\r\n      </g>\r\n     </g>\r\n     <g id=\"text_8\">\r\n      <!-- −3000 -->\r\n      <g transform=\"translate(20.878125 198.409554)scale(0.1 -0.1)\">\r\n       <use xlink:href=\"#DejaVuSans-8722\"/>\r\n       <use x=\"83.789062\" xlink:href=\"#DejaVuSans-51\"/>\r\n       <use x=\"147.412109\" xlink:href=\"#DejaVuSans-48\"/>\r\n       <use x=\"211.035156\" xlink:href=\"#DejaVuSans-48\"/>\r\n       <use x=\"274.658203\" xlink:href=\"#DejaVuSans-48\"/>\r\n      </g>\r\n     </g>\r\n    </g>\r\n    <g id=\"ytick_3\">\r\n     <g id=\"line2d_15\">\r\n      <path clip-path=\"url(#pa514026703)\" d=\"M 61.707813 163.1285 \r\nL 396.507812 163.1285 \r\n\" style=\"fill:none;stroke:#b0b0b0;stroke-dasharray:0.8,1.32;stroke-dashoffset:0;stroke-width:0.8;\"/>\r\n     </g>\r\n     <g id=\"line2d_16\">\r\n      <g>\r\n       <use style=\"stroke:#000000;stroke-width:0.8;\" x=\"61.707813\" xlink:href=\"#m41559aeb8f\" y=\"163.1285\"/>\r\n      </g>\r\n     </g>\r\n     <g id=\"text_9\">\r\n      <!-- −2500 -->\r\n      <g transform=\"translate(20.878125 166.927719)scale(0.1 -0.1)\">\r\n       <use xlink:href=\"#DejaVuSans-8722\"/>\r\n       <use x=\"83.789062\" xlink:href=\"#DejaVuSans-50\"/>\r\n       <use x=\"147.412109\" xlink:href=\"#DejaVuSans-53\"/>\r\n       <use x=\"211.035156\" xlink:href=\"#DejaVuSans-48\"/>\r\n       <use x=\"274.658203\" xlink:href=\"#DejaVuSans-48\"/>\r\n      </g>\r\n     </g>\r\n    </g>\r\n    <g id=\"ytick_4\">\r\n     <g id=\"line2d_17\">\r\n      <path clip-path=\"url(#pa514026703)\" d=\"M 61.707813 131.646665 \r\nL 396.507812 131.646665 \r\n\" style=\"fill:none;stroke:#b0b0b0;stroke-dasharray:0.8,1.32;stroke-dashoffset:0;stroke-width:0.8;\"/>\r\n     </g>\r\n     <g id=\"line2d_18\">\r\n      <g>\r\n       <use style=\"stroke:#000000;stroke-width:0.8;\" x=\"61.707813\" xlink:href=\"#m41559aeb8f\" y=\"131.646665\"/>\r\n      </g>\r\n     </g>\r\n     <g id=\"text_10\">\r\n      <!-- −2000 -->\r\n      <g transform=\"translate(20.878125 135.445884)scale(0.1 -0.1)\">\r\n       <use xlink:href=\"#DejaVuSans-8722\"/>\r\n       <use x=\"83.789062\" xlink:href=\"#DejaVuSans-50\"/>\r\n       <use x=\"147.412109\" xlink:href=\"#DejaVuSans-48\"/>\r\n       <use x=\"211.035156\" xlink:href=\"#DejaVuSans-48\"/>\r\n       <use x=\"274.658203\" xlink:href=\"#DejaVuSans-48\"/>\r\n      </g>\r\n     </g>\r\n    </g>\r\n    <g id=\"ytick_5\">\r\n     <g id=\"line2d_19\">\r\n      <path clip-path=\"url(#pa514026703)\" d=\"M 61.707813 100.16483 \r\nL 396.507812 100.16483 \r\n\" style=\"fill:none;stroke:#b0b0b0;stroke-dasharray:0.8,1.32;stroke-dashoffset:0;stroke-width:0.8;\"/>\r\n     </g>\r\n     <g id=\"line2d_20\">\r\n      <g>\r\n       <use style=\"stroke:#000000;stroke-width:0.8;\" x=\"61.707813\" xlink:href=\"#m41559aeb8f\" y=\"100.16483\"/>\r\n      </g>\r\n     </g>\r\n     <g id=\"text_11\">\r\n      <!-- −1500 -->\r\n      <g transform=\"translate(20.878125 103.964048)scale(0.1 -0.1)\">\r\n       <use xlink:href=\"#DejaVuSans-8722\"/>\r\n       <use x=\"83.789062\" xlink:href=\"#DejaVuSans-49\"/>\r\n       <use x=\"147.412109\" xlink:href=\"#DejaVuSans-53\"/>\r\n       <use x=\"211.035156\" xlink:href=\"#DejaVuSans-48\"/>\r\n       <use x=\"274.658203\" xlink:href=\"#DejaVuSans-48\"/>\r\n      </g>\r\n     </g>\r\n    </g>\r\n    <g id=\"ytick_6\">\r\n     <g id=\"line2d_21\">\r\n      <path clip-path=\"url(#pa514026703)\" d=\"M 61.707813 68.682994 \r\nL 396.507812 68.682994 \r\n\" style=\"fill:none;stroke:#b0b0b0;stroke-dasharray:0.8,1.32;stroke-dashoffset:0;stroke-width:0.8;\"/>\r\n     </g>\r\n     <g id=\"line2d_22\">\r\n      <g>\r\n       <use style=\"stroke:#000000;stroke-width:0.8;\" x=\"61.707813\" xlink:href=\"#m41559aeb8f\" y=\"68.682994\"/>\r\n      </g>\r\n     </g>\r\n     <g id=\"text_12\">\r\n      <!-- −1000 -->\r\n      <g transform=\"translate(20.878125 72.482213)scale(0.1 -0.1)\">\r\n       <use xlink:href=\"#DejaVuSans-8722\"/>\r\n       <use x=\"83.789062\" xlink:href=\"#DejaVuSans-49\"/>\r\n       <use x=\"147.412109\" xlink:href=\"#DejaVuSans-48\"/>\r\n       <use x=\"211.035156\" xlink:href=\"#DejaVuSans-48\"/>\r\n       <use x=\"274.658203\" xlink:href=\"#DejaVuSans-48\"/>\r\n      </g>\r\n     </g>\r\n    </g>\r\n    <g id=\"ytick_7\">\r\n     <g id=\"line2d_23\">\r\n      <path clip-path=\"url(#pa514026703)\" d=\"M 61.707813 37.201159 \r\nL 396.507812 37.201159 \r\n\" style=\"fill:none;stroke:#b0b0b0;stroke-dasharray:0.8,1.32;stroke-dashoffset:0;stroke-width:0.8;\"/>\r\n     </g>\r\n     <g id=\"line2d_24\">\r\n      <g>\r\n       <use style=\"stroke:#000000;stroke-width:0.8;\" x=\"61.707813\" xlink:href=\"#m41559aeb8f\" y=\"37.201159\"/>\r\n      </g>\r\n     </g>\r\n     <g id=\"text_13\">\r\n      <!-- −500 -->\r\n      <g transform=\"translate(27.240625 41.000378)scale(0.1 -0.1)\">\r\n       <use xlink:href=\"#DejaVuSans-8722\"/>\r\n       <use x=\"83.789062\" xlink:href=\"#DejaVuSans-53\"/>\r\n       <use x=\"147.412109\" xlink:href=\"#DejaVuSans-48\"/>\r\n       <use x=\"211.035156\" xlink:href=\"#DejaVuSans-48\"/>\r\n      </g>\r\n     </g>\r\n    </g>\r\n    <g id=\"text_14\">\r\n     <!-- Model Evaluation -->\r\n     <defs>\r\n      <path d=\"M 9.8125 72.90625 \r\nL 24.515625 72.90625 \r\nL 43.109375 23.296875 \r\nL 61.8125 72.90625 \r\nL 76.515625 72.90625 \r\nL 76.515625 0 \r\nL 66.890625 0 \r\nL 66.890625 64.015625 \r\nL 48.09375 14.015625 \r\nL 38.1875 14.015625 \r\nL 19.390625 64.015625 \r\nL 19.390625 0 \r\nL 9.8125 0 \r\nz\r\n\" id=\"DejaVuSans-77\"/>\r\n      <path d=\"M 9.421875 75.984375 \r\nL 18.40625 75.984375 \r\nL 18.40625 0 \r\nL 9.421875 0 \r\nz\r\n\" id=\"DejaVuSans-108\"/>\r\n      <path d=\"M 9.8125 72.90625 \r\nL 55.90625 72.90625 \r\nL 55.90625 64.59375 \r\nL 19.671875 64.59375 \r\nL 19.671875 43.015625 \r\nL 54.390625 43.015625 \r\nL 54.390625 34.71875 \r\nL 19.671875 34.71875 \r\nL 19.671875 8.296875 \r\nL 56.78125 8.296875 \r\nL 56.78125 0 \r\nL 9.8125 0 \r\nz\r\n\" id=\"DejaVuSans-69\"/>\r\n      <path d=\"M 2.984375 54.6875 \r\nL 12.5 54.6875 \r\nL 29.59375 8.796875 \r\nL 46.6875 54.6875 \r\nL 56.203125 54.6875 \r\nL 35.6875 0 \r\nL 23.484375 0 \r\nz\r\n\" id=\"DejaVuSans-118\"/>\r\n     </defs>\r\n     <g transform=\"translate(14.798438 174.0225)rotate(-90)scale(0.1 -0.1)\">\r\n      <use xlink:href=\"#DejaVuSans-77\"/>\r\n      <use x=\"86.279297\" xlink:href=\"#DejaVuSans-111\"/>\r\n      <use x=\"147.460938\" xlink:href=\"#DejaVuSans-100\"/>\r\n      <use x=\"210.9375\" xlink:href=\"#DejaVuSans-101\"/>\r\n      <use x=\"272.460938\" xlink:href=\"#DejaVuSans-108\"/>\r\n      <use x=\"300.244141\" xlink:href=\"#DejaVuSans-32\"/>\r\n      <use x=\"332.03125\" xlink:href=\"#DejaVuSans-69\"/>\r\n      <use x=\"395.214844\" xlink:href=\"#DejaVuSans-118\"/>\r\n      <use x=\"454.394531\" xlink:href=\"#DejaVuSans-97\"/>\r\n      <use x=\"515.673828\" xlink:href=\"#DejaVuSans-108\"/>\r\n      <use x=\"543.457031\" xlink:href=\"#DejaVuSans-117\"/>\r\n      <use x=\"606.835938\" xlink:href=\"#DejaVuSans-97\"/>\r\n      <use x=\"668.115234\" xlink:href=\"#DejaVuSans-116\"/>\r\n      <use x=\"707.324219\" xlink:href=\"#DejaVuSans-105\"/>\r\n      <use x=\"735.107422\" xlink:href=\"#DejaVuSans-111\"/>\r\n      <use x=\"796.289062\" xlink:href=\"#DejaVuSans-110\"/>\r\n     </g>\r\n    </g>\r\n   </g>\r\n   <g id=\"line2d_25\">\r\n    <path clip-path=\"url(#pa514026703)\" d=\"M 76.925994 229.874489 \r\nL 107.362358 157.421293 \r\nL 137.798722 121.869306 \r\nL 168.235085 99.881493 \r\nL 198.671449 67.252819 \r\nL 229.107813 43.398583 \r\nL 259.544176 64.990625 \r\nL 289.98054 43.313132 \r\nL 320.416903 43.119744 \r\nL 350.853267 43.079267 \r\nL 381.289631 42.705983 \r\n\" style=\"fill:none;stroke:#1f77b4;stroke-linecap:square;stroke-width:1.5;\"/>\r\n   </g>\r\n   <g id=\"line2d_26\">\r\n    <path clip-path=\"url(#pa514026703)\" d=\"M 76.925994 183.599342 \r\nL 107.362358 125.72726 \r\nL 137.798722 98.410178 \r\nL 168.235085 73.469053 \r\nL 198.671449 68.740904 \r\nL 229.107813 49.783513 \r\nL 259.544176 49.038602 \r\nL 289.98054 67.080084 \r\nL 320.416903 32.38874 \r\nL 350.853267 32.201761 \r\nL 381.289631 32.218288 \r\n\" style=\"fill:none;stroke:#ff7f0e;stroke-linecap:square;stroke-width:1.5;\"/>\r\n   </g>\r\n   <g id=\"patch_3\">\r\n    <path d=\"M 61.707813 239.758125 \r\nL 61.707813 22.318125 \r\n\" style=\"fill:none;stroke:#000000;stroke-linecap:square;stroke-linejoin:miter;stroke-width:0.8;\"/>\r\n   </g>\r\n   <g id=\"patch_4\">\r\n    <path d=\"M 396.507812 239.758125 \r\nL 396.507812 22.318125 \r\n\" style=\"fill:none;stroke:#000000;stroke-linecap:square;stroke-linejoin:miter;stroke-width:0.8;\"/>\r\n   </g>\r\n   <g id=\"patch_5\">\r\n    <path d=\"M 61.707813 239.758125 \r\nL 396.507812 239.758125 \r\n\" style=\"fill:none;stroke:#000000;stroke-linecap:square;stroke-linejoin:miter;stroke-width:0.8;\"/>\r\n   </g>\r\n   <g id=\"patch_6\">\r\n    <path d=\"M 61.707813 22.318125 \r\nL 396.507812 22.318125 \r\n\" style=\"fill:none;stroke:#000000;stroke-linecap:square;stroke-linejoin:miter;stroke-width:0.8;\"/>\r\n   </g>\r\n   <g id=\"text_15\">\r\n    <!-- HMM models with varying number of hidden states -->\r\n    <defs>\r\n     <path d=\"M 9.8125 72.90625 \r\nL 19.671875 72.90625 \r\nL 19.671875 43.015625 \r\nL 55.515625 43.015625 \r\nL 55.515625 72.90625 \r\nL 65.375 72.90625 \r\nL 65.375 0 \r\nL 55.515625 0 \r\nL 55.515625 34.71875 \r\nL 19.671875 34.71875 \r\nL 19.671875 0 \r\nL 9.8125 0 \r\nz\r\n\" id=\"DejaVuSans-72\"/>\r\n     <path d=\"M 4.203125 54.6875 \r\nL 13.1875 54.6875 \r\nL 24.421875 12.015625 \r\nL 35.59375 54.6875 \r\nL 46.1875 54.6875 \r\nL 57.421875 12.015625 \r\nL 68.609375 54.6875 \r\nL 77.59375 54.6875 \r\nL 63.28125 0 \r\nL 52.6875 0 \r\nL 40.921875 44.828125 \r\nL 29.109375 0 \r\nL 18.5 0 \r\nz\r\n\" id=\"DejaVuSans-119\"/>\r\n     <path d=\"M 32.171875 -5.078125 \r\nQ 28.375 -14.84375 24.75 -17.8125 \r\nQ 21.140625 -20.796875 15.09375 -20.796875 \r\nL 7.90625 -20.796875 \r\nL 7.90625 -13.28125 \r\nL 13.1875 -13.28125 \r\nQ 16.890625 -13.28125 18.9375 -11.515625 \r\nQ 21 -9.765625 23.484375 -3.21875 \r\nL 25.09375 0.875 \r\nL 2.984375 54.6875 \r\nL 12.5 54.6875 \r\nL 29.59375 11.921875 \r\nL 46.6875 54.6875 \r\nL 56.203125 54.6875 \r\nz\r\n\" id=\"DejaVuSans-121\"/>\r\n     <path d=\"M 45.40625 27.984375 \r\nQ 45.40625 37.75 41.375 43.109375 \r\nQ 37.359375 48.484375 30.078125 48.484375 \r\nQ 22.859375 48.484375 18.828125 43.109375 \r\nQ 14.796875 37.75 14.796875 27.984375 \r\nQ 14.796875 18.265625 18.828125 12.890625 \r\nQ 22.859375 7.515625 30.078125 7.515625 \r\nQ 37.359375 7.515625 41.375 12.890625 \r\nQ 45.40625 18.265625 45.40625 27.984375 \r\nz\r\nM 54.390625 6.78125 \r\nQ 54.390625 -7.171875 48.1875 -13.984375 \r\nQ 42 -20.796875 29.203125 -20.796875 \r\nQ 24.46875 -20.796875 20.265625 -20.09375 \r\nQ 16.0625 -19.390625 12.109375 -17.921875 \r\nL 12.109375 -9.1875 \r\nQ 16.0625 -11.328125 19.921875 -12.34375 \r\nQ 23.78125 -13.375 27.78125 -13.375 \r\nQ 36.625 -13.375 41.015625 -8.765625 \r\nQ 45.40625 -4.15625 45.40625 5.171875 \r\nL 45.40625 9.625 \r\nQ 42.625 4.78125 38.28125 2.390625 \r\nQ 33.9375 0 27.875 0 \r\nQ 17.828125 0 11.671875 7.65625 \r\nQ 5.515625 15.328125 5.515625 27.984375 \r\nQ 5.515625 40.671875 11.671875 48.328125 \r\nQ 17.828125 56 27.875 56 \r\nQ 33.9375 56 38.28125 53.609375 \r\nQ 42.625 51.21875 45.40625 46.390625 \r\nL 45.40625 54.6875 \r\nL 54.390625 54.6875 \r\nz\r\n\" id=\"DejaVuSans-103\"/>\r\n    </defs>\r\n    <g transform=\"translate(75.725313 16.318125)scale(0.12 -0.12)\">\r\n     <use xlink:href=\"#DejaVuSans-72\"/>\r\n     <use x=\"75.195312\" xlink:href=\"#DejaVuSans-77\"/>\r\n     <use x=\"161.474609\" xlink:href=\"#DejaVuSans-77\"/>\r\n     <use x=\"247.753906\" xlink:href=\"#DejaVuSans-32\"/>\r\n     <use x=\"279.541016\" xlink:href=\"#DejaVuSans-109\"/>\r\n     <use x=\"376.953125\" xlink:href=\"#DejaVuSans-111\"/>\r\n     <use x=\"438.134766\" xlink:href=\"#DejaVuSans-100\"/>\r\n     <use x=\"501.611328\" xlink:href=\"#DejaVuSans-101\"/>\r\n     <use x=\"563.134766\" xlink:href=\"#DejaVuSans-108\"/>\r\n     <use x=\"590.917969\" xlink:href=\"#DejaVuSans-115\"/>\r\n     <use x=\"643.017578\" xlink:href=\"#DejaVuSans-32\"/>\r\n     <use x=\"674.804688\" xlink:href=\"#DejaVuSans-119\"/>\r\n     <use x=\"756.591797\" xlink:href=\"#DejaVuSans-105\"/>\r\n     <use x=\"784.375\" xlink:href=\"#DejaVuSans-116\"/>\r\n     <use x=\"823.583984\" xlink:href=\"#DejaVuSans-104\"/>\r\n     <use x=\"886.962891\" xlink:href=\"#DejaVuSans-32\"/>\r\n     <use x=\"918.75\" xlink:href=\"#DejaVuSans-118\"/>\r\n     <use x=\"977.929688\" xlink:href=\"#DejaVuSans-97\"/>\r\n     <use x=\"1039.208984\" xlink:href=\"#DejaVuSans-114\"/>\r\n     <use x=\"1080.322266\" xlink:href=\"#DejaVuSans-121\"/>\r\n     <use x=\"1139.501953\" xlink:href=\"#DejaVuSans-105\"/>\r\n     <use x=\"1167.285156\" xlink:href=\"#DejaVuSans-110\"/>\r\n     <use x=\"1230.664062\" xlink:href=\"#DejaVuSans-103\"/>\r\n     <use x=\"1294.140625\" xlink:href=\"#DejaVuSans-32\"/>\r\n     <use x=\"1325.927734\" xlink:href=\"#DejaVuSans-110\"/>\r\n     <use x=\"1389.306641\" xlink:href=\"#DejaVuSans-117\"/>\r\n     <use x=\"1452.685547\" xlink:href=\"#DejaVuSans-109\"/>\r\n     <use x=\"1550.097656\" xlink:href=\"#DejaVuSans-98\"/>\r\n     <use x=\"1613.574219\" xlink:href=\"#DejaVuSans-101\"/>\r\n     <use x=\"1675.097656\" xlink:href=\"#DejaVuSans-114\"/>\r\n     <use x=\"1716.210938\" xlink:href=\"#DejaVuSans-32\"/>\r\n     <use x=\"1747.998047\" xlink:href=\"#DejaVuSans-111\"/>\r\n     <use x=\"1809.179688\" xlink:href=\"#DejaVuSans-102\"/>\r\n     <use x=\"1844.384766\" xlink:href=\"#DejaVuSans-32\"/>\r\n     <use x=\"1876.171875\" xlink:href=\"#DejaVuSans-104\"/>\r\n     <use x=\"1939.550781\" xlink:href=\"#DejaVuSans-105\"/>\r\n     <use x=\"1967.333984\" xlink:href=\"#DejaVuSans-100\"/>\r\n     <use x=\"2030.810547\" xlink:href=\"#DejaVuSans-100\"/>\r\n     <use x=\"2094.287109\" xlink:href=\"#DejaVuSans-101\"/>\r\n     <use x=\"2155.810547\" xlink:href=\"#DejaVuSans-110\"/>\r\n     <use x=\"2219.189453\" xlink:href=\"#DejaVuSans-32\"/>\r\n     <use x=\"2250.976562\" xlink:href=\"#DejaVuSans-115\"/>\r\n     <use x=\"2303.076172\" xlink:href=\"#DejaVuSans-116\"/>\r\n     <use x=\"2342.285156\" xlink:href=\"#DejaVuSans-97\"/>\r\n     <use x=\"2403.564453\" xlink:href=\"#DejaVuSans-116\"/>\r\n     <use x=\"2442.773438\" xlink:href=\"#DejaVuSans-101\"/>\r\n     <use x=\"2504.296875\" xlink:href=\"#DejaVuSans-115\"/>\r\n    </g>\r\n   </g>\r\n   <g id=\"legend_1\">\r\n    <g id=\"patch_7\">\r\n     <path d=\"M 68.707813 59.674375 \r\nL 156.235938 59.674375 \r\nQ 158.235938 59.674375 158.235938 57.674375 \r\nL 158.235938 29.318125 \r\nQ 158.235938 27.318125 156.235938 27.318125 \r\nL 68.707813 27.318125 \r\nQ 66.707813 27.318125 66.707813 29.318125 \r\nL 66.707813 57.674375 \r\nQ 66.707813 59.674375 68.707813 59.674375 \r\nz\r\n\" style=\"fill:#ffffff;opacity:0.8;stroke:#cccccc;stroke-linejoin:miter;\"/>\r\n    </g>\r\n    <g id=\"line2d_27\">\r\n     <path d=\"M 70.707813 35.416562 \r\nL 90.707813 35.416562 \r\n\" style=\"fill:none;stroke:#1f77b4;stroke-linecap:square;stroke-width:1.5;\"/>\r\n    </g>\r\n    <g id=\"line2d_28\"/>\r\n    <g id=\"text_16\">\r\n     <!-- Lab Model -->\r\n     <defs>\r\n      <path d=\"M 9.8125 72.90625 \r\nL 19.671875 72.90625 \r\nL 19.671875 8.296875 \r\nL 55.171875 8.296875 \r\nL 55.171875 0 \r\nL 9.8125 0 \r\nz\r\n\" id=\"DejaVuSans-76\"/>\r\n     </defs>\r\n     <g transform=\"translate(98.707813 38.916562)scale(0.1 -0.1)\">\r\n      <use xlink:href=\"#DejaVuSans-76\"/>\r\n      <use x=\"55.712891\" xlink:href=\"#DejaVuSans-97\"/>\r\n      <use x=\"116.992188\" xlink:href=\"#DejaVuSans-98\"/>\r\n      <use x=\"180.46875\" xlink:href=\"#DejaVuSans-32\"/>\r\n      <use x=\"212.255859\" xlink:href=\"#DejaVuSans-77\"/>\r\n      <use x=\"298.535156\" xlink:href=\"#DejaVuSans-111\"/>\r\n      <use x=\"359.716797\" xlink:href=\"#DejaVuSans-100\"/>\r\n      <use x=\"423.193359\" xlink:href=\"#DejaVuSans-101\"/>\r\n      <use x=\"484.716797\" xlink:href=\"#DejaVuSans-108\"/>\r\n     </g>\r\n    </g>\r\n    <g id=\"line2d_29\">\r\n     <path d=\"M 70.707813 50.094687 \r\nL 90.707813 50.094687 \r\n\" style=\"fill:none;stroke:#ff7f0e;stroke-linecap:square;stroke-width:1.5;\"/>\r\n    </g>\r\n    <g id=\"line2d_30\"/>\r\n    <g id=\"text_17\">\r\n     <!-- Turk Model -->\r\n     <defs>\r\n      <path d=\"M -0.296875 72.90625 \r\nL 61.375 72.90625 \r\nL 61.375 64.59375 \r\nL 35.5 64.59375 \r\nL 35.5 0 \r\nL 25.59375 0 \r\nL 25.59375 64.59375 \r\nL -0.296875 64.59375 \r\nz\r\n\" id=\"DejaVuSans-84\"/>\r\n      <path d=\"M 9.078125 75.984375 \r\nL 18.109375 75.984375 \r\nL 18.109375 31.109375 \r\nL 44.921875 54.6875 \r\nL 56.390625 54.6875 \r\nL 27.390625 29.109375 \r\nL 57.625 0 \r\nL 45.90625 0 \r\nL 18.109375 26.703125 \r\nL 18.109375 0 \r\nL 9.078125 0 \r\nz\r\n\" id=\"DejaVuSans-107\"/>\r\n     </defs>\r\n     <g transform=\"translate(98.707813 53.594687)scale(0.1 -0.1)\">\r\n      <use xlink:href=\"#DejaVuSans-84\"/>\r\n      <use x=\"60.849609\" xlink:href=\"#DejaVuSans-117\"/>\r\n      <use x=\"124.228516\" xlink:href=\"#DejaVuSans-114\"/>\r\n      <use x=\"165.341797\" xlink:href=\"#DejaVuSans-107\"/>\r\n      <use x=\"223.251953\" xlink:href=\"#DejaVuSans-32\"/>\r\n      <use x=\"255.039062\" xlink:href=\"#DejaVuSans-77\"/>\r\n      <use x=\"341.318359\" xlink:href=\"#DejaVuSans-111\"/>\r\n      <use x=\"402.5\" xlink:href=\"#DejaVuSans-100\"/>\r\n      <use x=\"465.976562\" xlink:href=\"#DejaVuSans-101\"/>\r\n      <use x=\"527.5\" xlink:href=\"#DejaVuSans-108\"/>\r\n     </g>\r\n    </g>\r\n   </g>\r\n  </g>\r\n </g>\r\n <defs>\r\n  <clipPath id=\"pa514026703\">\r\n   <rect height=\"217.44\" width=\"334.8\" x=\"61.707813\" y=\"22.318125\"/>\r\n  </clipPath>\r\n </defs>\r\n</svg>\r\n",
      "text/plain": "<Figure size 432x288 with 1 Axes>"
     },
     "metadata": {
      "needs_background": "light"
     },
     "output_type": "display_data"
    }
   ],
   "source": [
    "# Do Normalised plot\n",
    "\n",
    "LabEval  = [-49841, -33731, -25826, -20937, -13682, -8378, -13179, -8359, -8316, -8307, -8224]\n",
    "TurkEval = [-1302381, -878660, -678653, -496042, -461424, -322624, -317170, -449264, -195265, -193896,  -194017]\n",
    "\n",
    "# Num of lab data is 14\n",
    "# Num of turk data is 461\n",
    "\n",
    "NormLabEval = [x / 14 for x in LabEval]\n",
    "NormTurkEval = [x / 461 for x in TurkEval]\n",
    "\n",
    "plt.plot(range(1,len(NormLabEval)+1), NormLabEval, label='Lab Model')\n",
    "plt.plot(range(1,len(NormTurkEval)+1), NormTurkEval, label='Turk Model')\n",
    "plt.title('HMM models with varying number of hidden states')\n",
    "plt.xlabel('Number of hidden states')\n",
    "plt.ylabel('Model Evaluation')\n",
    "plt.legend()\n",
    "plt.grid(linestyle='dotted')\n",
    "plt.show()\n",
    "\n"
   ]
  },
  {
   "cell_type": "code",
   "execution_count": null,
   "metadata": {},
   "outputs": [],
   "source": []
  }
 ],
 "metadata": {
  "kernelspec": {
   "display_name": "Python 3.7.6 64-bit ('Anaconda3': conda)",
   "language": "python",
   "name": "python37664bitanaconda3conda869ee3b15737460b8abcd30240fba0c8"
  },
  "language_info": {
   "codemirror_mode": {
    "name": "ipython",
    "version": 3
   },
   "file_extension": ".py",
   "mimetype": "text/x-python",
   "name": "python",
   "nbconvert_exporter": "python",
   "pygments_lexer": "ipython3",
   "version": "3.7.6-final"
  }
 },
 "nbformat": 4,
 "nbformat_minor": 4
}