{
 "cells": [
  {
   "source": [
    "## Notebook 2 - Natural Language Processing\n",
    "\n",
    "This notebook will contain only some NLP methods such as n-grams because the full notebook was getting too cumbersum.\n",
    "Data has been transformed in other notebook, we can just load it in here :)\n"
   ],
   "cell_type": "markdown",
   "metadata": {}
  },
  {
   "cell_type": "code",
   "execution_count": 2,
   "metadata": {},
   "outputs": [],
   "source": [
    "# imports\n",
    "import pandas as pd\n",
    "import numpy as np\n",
    "import nltk\n",
    "import matplotlib.pyplot as plt\n",
    "from datetime import datetime"
   ]
  },
  {
   "cell_type": "code",
   "execution_count": 3,
   "metadata": {},
   "outputs": [],
   "source": [
    "# index_col stops index being read as column\n",
    "df_turk = pd.read_csv('turk-Data-renamed.csv', index_col=0)\n",
    "df_lab = pd.read_csv('lab-Data-renamed.csv', index_col=0)"
   ]
  },
  {
   "cell_type": "code",
   "execution_count": 4,
   "metadata": {},
   "outputs": [
    {
     "data": {
      "text/html": [
       "<div>\n",
       "<style scoped>\n",
       "    .dataframe tbody tr th:only-of-type {\n",
       "        vertical-align: middle;\n",
       "    }\n",
       "\n",
       "    .dataframe tbody tr th {\n",
       "        vertical-align: top;\n",
       "    }\n",
       "\n",
       "    .dataframe thead th {\n",
       "        text-align: right;\n",
       "    }\n",
       "</style>\n",
       "<table border=\"1\" class=\"dataframe\">\n",
       "  <thead>\n",
       "    <tr style=\"text-align: right;\">\n",
       "      <th></th>\n",
       "      <th>button</th>\n",
       "      <th>event_type</th>\n",
       "      <th>target</th>\n",
       "      <th>time</th>\n",
       "      <th>x</th>\n",
       "      <th>y</th>\n",
       "      <th>step</th>\n",
       "      <th>turkId</th>\n",
       "    </tr>\n",
       "  </thead>\n",
       "  <tbody>\n",
       "    <tr>\n",
       "      <th>0</th>\n",
       "      <td>1</td>\n",
       "      <td>mousedown</td>\n",
       "      <td>alloc-slider-1</td>\n",
       "      <td>0.000</td>\n",
       "      <td>477.0</td>\n",
       "      <td>405.0</td>\n",
       "      <td>1</td>\n",
       "      <td>A35YFAFWP33C70</td>\n",
       "    </tr>\n",
       "    <tr>\n",
       "      <th>1</th>\n",
       "      <td>1</td>\n",
       "      <td>mouseup</td>\n",
       "      <td>alloc-slider-1</td>\n",
       "      <td>0.111</td>\n",
       "      <td>478.0</td>\n",
       "      <td>405.0</td>\n",
       "      <td>1</td>\n",
       "      <td>A35YFAFWP33C70</td>\n",
       "    </tr>\n",
       "    <tr>\n",
       "      <th>2</th>\n",
       "      <td>1</td>\n",
       "      <td>click</td>\n",
       "      <td>alloc-slider-1</td>\n",
       "      <td>0.111</td>\n",
       "      <td>478.0</td>\n",
       "      <td>405.0</td>\n",
       "      <td>1</td>\n",
       "      <td>A35YFAFWP33C70</td>\n",
       "    </tr>\n",
       "    <tr>\n",
       "      <th>3</th>\n",
       "      <td>1</td>\n",
       "      <td>mousedown</td>\n",
       "      <td>alloc-slider-1</td>\n",
       "      <td>1.516</td>\n",
       "      <td>479.0</td>\n",
       "      <td>405.0</td>\n",
       "      <td>1</td>\n",
       "      <td>A35YFAFWP33C70</td>\n",
       "    </tr>\n",
       "    <tr>\n",
       "      <th>4</th>\n",
       "      <td>1</td>\n",
       "      <td>mousedirchange</td>\n",
       "      <td>alloc-slider-1</td>\n",
       "      <td>2.395</td>\n",
       "      <td>543.0</td>\n",
       "      <td>403.0</td>\n",
       "      <td>1</td>\n",
       "      <td>A35YFAFWP33C70</td>\n",
       "    </tr>\n",
       "    <tr>\n",
       "      <th>...</th>\n",
       "      <td>...</td>\n",
       "      <td>...</td>\n",
       "      <td>...</td>\n",
       "      <td>...</td>\n",
       "      <td>...</td>\n",
       "      <td>...</td>\n",
       "      <td>...</td>\n",
       "      <td>...</td>\n",
       "    </tr>\n",
       "    <tr>\n",
       "      <th>1293068</th>\n",
       "      <td>1</td>\n",
       "      <td>click</td>\n",
       "      <td>html</td>\n",
       "      <td>258.656</td>\n",
       "      <td>500.0</td>\n",
       "      <td>2198.0</td>\n",
       "      <td>1</td>\n",
       "      <td>A15781PHGW377Y</td>\n",
       "    </tr>\n",
       "    <tr>\n",
       "      <th>1293069</th>\n",
       "      <td>1</td>\n",
       "      <td>click</td>\n",
       "      <td>html</td>\n",
       "      <td>258.656</td>\n",
       "      <td>500.0</td>\n",
       "      <td>2198.0</td>\n",
       "      <td>2</td>\n",
       "      <td>A15781PHGW377Y</td>\n",
       "    </tr>\n",
       "    <tr>\n",
       "      <th>1293070</th>\n",
       "      <td>1</td>\n",
       "      <td>click</td>\n",
       "      <td>html</td>\n",
       "      <td>258.656</td>\n",
       "      <td>500.0</td>\n",
       "      <td>2198.0</td>\n",
       "      <td>3</td>\n",
       "      <td>A15781PHGW377Y</td>\n",
       "    </tr>\n",
       "    <tr>\n",
       "      <th>1293071</th>\n",
       "      <td>1</td>\n",
       "      <td>click</td>\n",
       "      <td>html</td>\n",
       "      <td>258.656</td>\n",
       "      <td>500.0</td>\n",
       "      <td>2198.0</td>\n",
       "      <td>4</td>\n",
       "      <td>A15781PHGW377Y</td>\n",
       "    </tr>\n",
       "    <tr>\n",
       "      <th>1293072</th>\n",
       "      <td>1</td>\n",
       "      <td>click</td>\n",
       "      <td>html</td>\n",
       "      <td>258.656</td>\n",
       "      <td>500.0</td>\n",
       "      <td>2198.0</td>\n",
       "      <td>5</td>\n",
       "      <td>A15781PHGW377Y</td>\n",
       "    </tr>\n",
       "  </tbody>\n",
       "</table>\n",
       "<p>820673 rows × 8 columns</p>\n",
       "</div>"
      ],
      "text/plain": [
       "         button      event_type          target     time      x       y  step  \\\n",
       "0             1       mousedown  alloc-slider-1    0.000  477.0   405.0     1   \n",
       "1             1         mouseup  alloc-slider-1    0.111  478.0   405.0     1   \n",
       "2             1           click  alloc-slider-1    0.111  478.0   405.0     1   \n",
       "3             1       mousedown  alloc-slider-1    1.516  479.0   405.0     1   \n",
       "4             1  mousedirchange  alloc-slider-1    2.395  543.0   403.0     1   \n",
       "...         ...             ...             ...      ...    ...     ...   ...   \n",
       "1293068       1           click            html  258.656  500.0  2198.0     1   \n",
       "1293069       1           click            html  258.656  500.0  2198.0     2   \n",
       "1293070       1           click            html  258.656  500.0  2198.0     3   \n",
       "1293071       1           click            html  258.656  500.0  2198.0     4   \n",
       "1293072       1           click            html  258.656  500.0  2198.0     5   \n",
       "\n",
       "                 turkId  \n",
       "0        A35YFAFWP33C70  \n",
       "1        A35YFAFWP33C70  \n",
       "2        A35YFAFWP33C70  \n",
       "3        A35YFAFWP33C70  \n",
       "4        A35YFAFWP33C70  \n",
       "...                 ...  \n",
       "1293068  A15781PHGW377Y  \n",
       "1293069  A15781PHGW377Y  \n",
       "1293070  A15781PHGW377Y  \n",
       "1293071  A15781PHGW377Y  \n",
       "1293072  A15781PHGW377Y  \n",
       "\n",
       "[820673 rows x 8 columns]"
      ]
     },
     "execution_count": 4,
     "metadata": {},
     "output_type": "execute_result"
    }
   ],
   "source": [
    "df_turk"
   ]
  },
  {
   "cell_type": "code",
   "execution_count": 67,
   "metadata": {},
   "outputs": [
    {
     "data": {
      "image/png": "[encoded data removed]",
      "text/plain": [
       "<Figure size 720x360 with 1 Axes>"
      ]
     },
     "metadata": {
      "needs_background": "light"
     },
     "output_type": "display_data"
    }
   ],
   "source": [
    "# Numbers of pairs of bars you want\n",
    "N = 6\n",
    "\n",
    "# Data on X-axis\n",
    "\n",
    "# Specify the values of blue bars (height)\n",
    "blue_bar = df_lab['target'].value_counts().divide( df_lab['turkId'].nunique() \n",
    "                                                 ).reindex(index = ['html','alloc-slider-1','alloc-slider-2','alloc-slider-3','alloc-slider-4','alloc-slider-5'])\n",
    "# Specify the values of orange bars (height)\n",
    "orange_bar = df_turk['target'].value_counts().divide( df_turk['turkId'].nunique() \n",
    "                                                    ).reindex(index = ['html','alloc-slider-1','alloc-slider-2','alloc-slider-3','alloc-slider-4','alloc-slider-5'])\n",
    "\n",
    "# Position of bars on x-axis\n",
    "ind = np.arange(N)\n",
    "\n",
    "# Figure size\n",
    "plt.figure(figsize=(10,5))\n",
    "\n",
    "# Width of a bar \n",
    "width = 0.3       \n",
    "\n",
    "# Plotting\n",
    "plt.bar(ind, blue_bar , width, label='Turk data')\n",
    "plt.bar(ind + width, orange_bar, width, label='Lab data')\n",
    "\n",
    "plt.ylabel('Relative count of target')\n",
    "plt.title('Frequency of targets for both classes.')\n",
    "\n",
    "# xticks()\n",
    "# First argument - A list of positions at which ticks should be placed\n",
    "# Second argument -  A list of labels to place at the given locations\n",
    "plt.xticks(ind + width / 2, ('html','alloc-slider-1','alloc-slider-2','alloc-slider-3','alloc-slider-4','alloc-slider-5'))\n",
    "\n",
    "ax = plt.gca()\n",
    "ax.set_axisbelow(True)\n",
    "ax.yaxis.grid(color='gray', linestyle='dashed')\n",
    "\n",
    "# Finding the best position for legends and putting it\n",
    "plt.legend(loc='best')\n",
    "plt.show()"
   ]
  },
  {
   "cell_type": "markdown",
   "metadata": {},
   "source": [
    "# Bag Of Words Models\n",
    "\n",
    "Can treat each target as a word as use NLP methods such as bagofwords.\n",
    "Will lose data regarding order but that can be analysed later with HMMs.\n",
    "\n",
    "'In this model, a text (such as a sentence or a document) is represented as the bag (multiset) of its words, disregarding grammar and even word order but keeping multiplicity. The bag-of-words model has also been used for computer vision. - https://en.wikipedia.org/wiki/Bag-of-words_model'\n",
    "\n",
    "disregarding grammer means nothing with this specific dataset"
   ]
  },
  {
   "cell_type": "markdown",
   "metadata": {},
   "source": [
    "\n",
    "# Here they suggest bayes filtering can be used to detect language, maybe I use too?\n",
    "https://stackoverflow.com/questions/101569/algorithm-to-detect-similar-documents-in-python-script\n",
    "\n",
    "# Naive Bayes\n",
    "Another idea from SPAM detection is using a naive bayes, here they get the count of each word for each email and bayes it.\n",
    "Could even use this to get the counts of 2/3-grams to compare?\n",
    "https://towardsdatascience.com/spam-filtering-using-naive-bayes-98a341224038\n",
    "\n",
    "TODO: I think for any of these to be used we would have to properly rename all the mouse items so they match"
   ]
  },
  {
   "cell_type": "code",
   "execution_count": 5,
   "metadata": {},
   "outputs": [],
   "source": [
    "# Another idea from SPAM detection is using a naive bayes, here they get the count of each word for each email and bayes it.\n",
    "# Could even use this to get the counts of 2/3-grams to compare?\n",
    "# https://towardsdatascience.com/spam-filtering-using-naive-bayes-98a341224038\n",
    "\n",
    "from sklearn.feature_extraction.text import CountVectorizer\n",
    "from sklearn.naive_bayes import MultinomialNB\n",
    "\n",
    "from sklearn.model_selection import train_test_split\n",
    "from sklearn.metrics import accuracy_score\n",
    "from sklearn.metrics import confusion_matrix\n",
    "from sklearn.metrics import f1_score\n",
    "\n"
   ]
  },
  {
   "cell_type": "code",
   "execution_count": 6,
   "metadata": {},
   "outputs": [],
   "source": [
    "# Converts a pandas datafram of targets to a list of strings\n",
    "def targets_to_string(dataframe):\n",
    "    IDs = dataframe['turkId'].unique()\n",
    "    targets_text = []\n",
    "\n",
    "    for ID in IDs:\n",
    "        targets_series = dataframe[ dataframe['turkId'] == ID ] ['target']\n",
    "        targets =  ','.join(targets_series)\n",
    "        targets_text.append( targets)\n",
    "        #targets_text = targets\n",
    "\n",
    "    return targets_text\n",
    "\n",
    "turk_targets = targets_to_string(df_turk)\n",
    "lab_targets = targets_to_string(df_lab)\n",
    "turk_labels = np.zeros( len(turk_targets) )\n",
    "lab_labels = np.ones( len(lab_targets) )\n"
   ]
  },
  {
   "cell_type": "code",
   "execution_count": 7,
   "metadata": {},
   "outputs": [],
   "source": [
    "\n",
    "X = np.append(turk_targets, lab_targets)\n",
    "y = np.append(turk_labels, lab_labels)\n"
   ]
  },
  {
   "cell_type": "code",
   "execution_count": 8,
   "metadata": {},
   "outputs": [],
   "source": [
    "\n",
    "# Test train split\n",
    "X_train, X_test, y_train, y_test = train_test_split(X, y)"
   ]
  },
  {
   "cell_type": "code",
   "execution_count": 9,
   "metadata": {},
   "outputs": [
    {
     "data": {
      "text/plain": [
       "array([[ 266,  282,  353,  314,  277,   80],\n",
       "       [  98,  198,  168,  134,  186,   74],\n",
       "       [  91,  145,   71,   91,  123,  105],\n",
       "       ...,\n",
       "       [ 811, 1127,  672,  871, 1011,  111],\n",
       "       [ 127,  224,  157,   77,  144,   60],\n",
       "       [ 366,  151,  127,  514,  186,   35]], dtype=int64)"
      ]
     },
     "execution_count": 9,
     "metadata": {},
     "output_type": "execute_result"
    }
   ],
   "source": [
    "#Explore CountVecotrizer\n",
    "\n",
    "vectorizer = CountVectorizer(token_pattern='(.*?,)') \n",
    "counts = vectorizer.fit_transform(X_train)\n",
    "p = counts.toarray()\n",
    "p   \n",
    "# Normally with Bag-Of-Words models we end up with a spare matrix of mainly 0s. https://machinelearningmastery.com/gentle-introduction-bag-words-model/\n",
    "# However becuase our vocabulary is so limited (only 6 'words') the martix is full and so we dont have to wory about effeciency.\n",
    "# TF-IDF will not work due to small vocabulary.\n",
    "# Word hashing is used to help complexity but this is simple enough that we dont need it.\n",
    "\n",
    "# Limitations of bag of words are - need a carefuly designed vocabulary - Matrix can get very sparse - Context lost.\n",
    "# First 2 limitations dont apply to this data, last limitation is very relevant tho because we can imagine a user switching between sliders will have interesting order of targets that could be used in a model."
   ]
  },
  {
   "cell_type": "code",
   "execution_count": 10,
   "metadata": {},
   "outputs": [
    {
     "name": "stdout",
     "output_type": "stream",
     "text": [
      "['alloc-slider-1,', 'alloc-slider-2,', 'alloc-slider-3,', 'alloc-slider-4,', 'alloc-slider-5,', 'html,']\n"
     ]
    }
   ],
   "source": [
    "print(vectorizer.get_feature_names()) # Not sure if this worked correclty, lets try anyway lol."
   ]
  },
  {
   "cell_type": "code",
   "execution_count": 11,
   "metadata": {},
   "outputs": [
    {
     "data": {
      "text/plain": [
       "MultinomialNB(alpha=1.0, class_prior=None, fit_prior=True)"
      ]
     },
     "execution_count": 11,
     "metadata": {},
     "output_type": "execute_result"
    }
   ],
   "source": [
    "# Instantiating Multinomial Naive Bayes Classifier\n",
    "classifier = MultinomialNB()\n",
    "targets = y_train\n",
    "classifier.fit(counts, targets)"
   ]
  },
  {
   "cell_type": "code",
   "execution_count": 12,
   "metadata": {},
   "outputs": [
    {
     "data": {
      "text/plain": [
       "array([0., 1., 1., 0., 0., 1., 1., 0., 1., 1., 0., 1., 0., 1., 1., 1., 0.,\n",
       "       0., 1., 0., 1., 1., 1., 1., 1., 1., 1., 1., 1., 1., 1., 1., 1., 1.,\n",
       "       1., 1., 0., 1., 0., 0., 0., 0., 1., 1., 1., 1., 1., 0., 1., 1., 0.,\n",
       "       1., 1., 1., 1., 1., 1., 1., 0., 0., 1., 0., 0., 0., 1., 1., 1., 0.,\n",
       "       0., 1., 1., 1., 1., 1., 1., 1., 1., 1., 1., 0., 1., 1., 1., 1., 1.,\n",
       "       0., 1., 0., 1., 0., 0., 1., 0., 0., 0., 0., 1., 1.])"
      ]
     },
     "execution_count": 12,
     "metadata": {},
     "output_type": "execute_result"
    }
   ],
   "source": [
    "example_count = vectorizer.transform(X_test)\n",
    "predictions = classifier.predict(example_count)\n",
    "predictions"
   ]
  },
  {
   "cell_type": "code",
   "execution_count": 13,
   "metadata": {},
   "outputs": [
    {
     "name": "stdout",
     "output_type": "stream",
     "text": [
      "0.29591836734693877\n"
     ]
    },
    {
     "data": {
      "text/plain": [
       "array([[29, 66],\n",
       "       [ 3,  0]], dtype=int64)"
      ]
     },
     "execution_count": 13,
     "metadata": {},
     "output_type": "execute_result"
    }
   ],
   "source": [
    "from sklearn.metrics import accuracy_score\n",
    "\n",
    "print( accuracy_score(y_test, predictions) )\n",
    "\n",
    "from sklearn.metrics import confusion_matrix\n",
    "confusion_matrix(y_test, predictions)\n",
    "\n"
   ]
  },
  {
   "cell_type": "code",
   "execution_count": 14,
   "metadata": {},
   "outputs": [
    {
     "name": "stdout",
     "output_type": "stream",
     "text": [
      "Accuracy score: 0.29591836734693877\n",
      "F1 score: 0.2283464566929134\n",
      "[[29 66]\n",
      " [ 3  0]]\n"
     ]
    },
    {
     "data": {
      "image/png": "[encoded data removed]",
      "text/plain": [
       "<Figure size 288x288 with 2 Axes>"
      ]
     },
     "metadata": {
      "needs_background": "light"
     },
     "output_type": "display_data"
    }
   ],
   "source": [
    "\n",
    "print( f'Accuracy score: {accuracy_score(y_test, predictions)}' )\n",
    "f1 = f1_score(y_test, predictions, average='macro')\n",
    "print( f'F1 score: {f1}' )\n",
    "\n",
    "# High accuracy because of imbalenced classes \n",
    "# https://machinelearningmastery.com/failure-of-accuracy-for-imbalanced-class-distributions/\n",
    "# This website has some nice references about imblaenced class distributions. TODO: use in diss.\n",
    "# data sampling – customized algorithms– cost sensitive algorithms– one class algorithms – threshold moving – probability calibration\n",
    "\n",
    "\n",
    "# https://machinelearningmastery.com/tour-of-evaluation-metrics-for-imbalanced-classification/\n",
    "# Better ways of dealing with imbalenced data\n",
    "\n",
    "cm = confusion_matrix(y_test, predictions)\n",
    "print(cm)\n",
    "\n",
    "plt.matshow(cm)\n",
    "plt.title('Confusion matrix')\n",
    "plt.suptitle('0=online, 1=lab')\n",
    "plt.colorbar()\n",
    "plt.ylabel('True label')\n",
    "plt.xlabel('Predicted label')\n",
    "plt.show()"
   ]
  },
  {
   "cell_type": "code",
   "execution_count": 15,
   "metadata": {},
   "outputs": [
    {
     "name": "stdout",
     "output_type": "stream",
     "text": [
      "Length of lab and turk data: 28\n",
      "Accuracy score: 0.2857142857142857\n",
      "F1 score: 0.2857142857142857\n",
      "[[1 5]\n",
      " [0 1]]\n"
     ]
    }
   ],
   "source": [
    "# Above has too much online data so there are uneven classes.\n",
    "# Look at only the first X (20 or so) online data for training\n",
    "\n",
    "#X_train, X_test, y_train, y_test = train_test_split(X, y)\n",
    "\n",
    "# TODO: make classes balenced\n",
    "\n",
    "lab_length = len(lab_targets)\n",
    "\n",
    "X_balanced = np.append( turk_targets[ :lab_length ] , lab_targets)\n",
    "\n",
    "y_balanced = np.append(turk_labels[ :lab_length ], lab_labels)\n",
    "\n",
    "print(f'Length of lab and turk data: {len(X_balanced)}')\n",
    "\n",
    "X_train, X_test, y_train, y_test = train_test_split(X_balanced, y_balanced)\n",
    "\n",
    "vectorizer = CountVectorizer(token_pattern='(.*?,)') \n",
    "counts = vectorizer.fit_transform(X_train)\n",
    "\n",
    "classifier = MultinomialNB()\n",
    "targets = y_train\n",
    "classifier.fit(counts, targets)\n",
    "\n",
    "example_count = vectorizer.transform(X_test)\n",
    "predictions = classifier.predict(example_count)\n",
    "\n",
    "print( f'Accuracy score: {accuracy_score(y_test, predictions)}' )\n",
    "f1 = f1_score(y_test, predictions, average='macro')\n",
    "print( f'F1 score: {f1}' )\n",
    "cm = confusion_matrix(y_test, predictions)\n",
    "print(cm)\n"
   ]
  },
  {
   "cell_type": "code",
   "execution_count": 16,
   "metadata": {},
   "outputs": [
    {
     "data": {
      "image/png": "[encoded data removed]",
      "text/plain": [
       "<Figure size 288x288 with 2 Axes>"
      ]
     },
     "metadata": {
      "needs_background": "light"
     },
     "output_type": "display_data"
    }
   ],
   "source": [
    "plt.matshow(cm)\n",
    "plt.title('Confusion matrix')\n",
    "plt.suptitle('0=online, 1=lab')\n",
    "plt.colorbar()\n",
    "plt.ylabel('True label')\n",
    "plt.xlabel('Predicted label')\n",
    "plt.show()"
   ]
  },
  {
   "cell_type": "code",
   "execution_count": 17,
   "metadata": {},
   "outputs": [
    {
     "name": "stdout",
     "output_type": "stream",
     "text": [
      "Accuracy score: 0.42857142857142855\n",
      "F1 score: 0.4166666666666667\n",
      "[[2 4]\n",
      " [0 1]]\n"
     ]
    },
    {
     "data": {
      "image/png": "[encoded data removed]",
      "text/plain": [
       "<Figure size 288x288 with 2 Axes>"
      ]
     },
     "metadata": {
      "needs_background": "light"
     },
     "output_type": "display_data"
    }
   ],
   "source": [
    "# Try a different method of Spam classification\n",
    "# https://towardsdatascience.com/spam-detection-with-logistic-regression-23e3709e522\n",
    "\n",
    "\n",
    "from sklearn.linear_model import LogisticRegression\n",
    "\n",
    "######################\n",
    "# Even class sizes\n",
    "\n",
    "Spam_model = LogisticRegression(solver='liblinear', penalty='l1')\n",
    "Spam_model.fit(counts, y_train)\n",
    "\n",
    "example_count = vectorizer.transform(X_test)\n",
    "pred = Spam_model.predict(example_count)\n",
    "print( f'Accuracy score: {accuracy_score(y_test,pred)}' )\n",
    "f1 = f1_score(y_test, pred, average='macro')\n",
    "print( f'F1 score: {f1}' )\n",
    "# Accuracy of 0.66% not the best but also not bad.\n",
    "# TODO: Run this on bi/tri-grams data to see if that will be better.\n",
    "# Instead of having a matrix of the differnt words, have matrix of different ngrams.\n",
    "\n",
    "cm = confusion_matrix(y_test, pred)\n",
    "print(cm)\n",
    "plt.matshow(cm)\n",
    "plt.title('Confusion matrix')\n",
    "plt.suptitle('0=online, 1=lab')\n",
    "plt.colorbar()\n",
    "plt.ylabel('True label')\n",
    "plt.xlabel('Predicted label')\n",
    "plt.show()\n"
   ]
  },
  {
   "cell_type": "code",
   "execution_count": 18,
   "metadata": {},
   "outputs": [
    {
     "name": "stdout",
     "output_type": "stream",
     "text": [
      "Accuracy score: 0.9489795918367347\n",
      "F1 score: 0.4869109947643979\n",
      "[[93  0]\n",
      " [ 5  0]]\n"
     ]
    },
    {
     "data": {
      "image/png": "[encoded data removed]",
      "text/plain": [
       "<Figure size 288x288 with 2 Axes>"
      ]
     },
     "metadata": {
      "needs_background": "light"
     },
     "output_type": "display_data"
    }
   ],
   "source": [
    "# Try Logistical regression with unbalanced classes.\n",
    "#https://machinelearningmastery.com/what-is-imbalanced-classification/\n",
    "\n",
    "# X, y are still the full dataset.\n",
    "X_train, X_test, y_train, y_test = train_test_split(X, y)\n",
    "\n",
    "vectorizer = CountVectorizer(token_pattern='(.*?,)') \n",
    "counts = vectorizer.fit_transform(X_train)\n",
    "\n",
    "Spam_model = LogisticRegression(solver='liblinear', penalty='l1')\n",
    "Spam_model.fit(counts, y_train)\n",
    "\n",
    "example_count = vectorizer.transform(X_test)\n",
    "pred = Spam_model.predict(example_count)\n",
    "print( f'Accuracy score: {accuracy_score(y_test,pred)}' )\n",
    "f1 = f1_score(y_test, pred, average='macro')\n",
    "print( f'F1 score: {f1}' )\n",
    "# Accuracy of 0.66% not the best but also not bad.\n",
    "# TODO: Run this on bi/tri-grams data to see if that will be better.\n",
    "# Instead of having a matrix of the differnt words, have matrix of different ngrams.\n",
    "\n",
    "cm = confusion_matrix(y_test, pred)\n",
    "print(cm)\n",
    "plt.matshow(cm)\n",
    "plt.title('Confusion matrix')\n",
    "plt.suptitle('0=online, 1=lab')\n",
    "plt.colorbar()\n",
    "plt.ylabel('True label')\n",
    "plt.xlabel('Predicted label')\n",
    "plt.show()"
   ]
  },
  {
   "cell_type": "markdown",
   "metadata": {},
   "source": [
    "# N-Gram data rather than target count data\n",
    "\n",
    "The algorithms used above are just using the mouse target variables to varying success.\n",
    "Try similar approaches to the balanced methods, but use bi/tri-gram data rather than just none/unigrams.\n",
    "\n"
   ]
  },
  {
   "cell_type": "code",
   "execution_count": 27,
   "metadata": {},
   "outputs": [
    {
     "name": "stdout",
     "output_type": "stream",
     "text": [
      "['alloc-slider-1,', 'alloc-slider-1, alloc-slider-1,', 'alloc-slider-1, alloc-slider-1, alloc-slider-1,', 'alloc-slider-1, alloc-slider-1, alloc-slider-2,', 'alloc-slider-1, alloc-slider-1, alloc-slider-3,', 'alloc-slider-1, alloc-slider-1, alloc-slider-4,', 'alloc-slider-1, alloc-slider-1, alloc-slider-5,', 'alloc-slider-1, alloc-slider-1, html,', 'alloc-slider-1, alloc-slider-2,', 'alloc-slider-1, alloc-slider-2, alloc-slider-1,', 'alloc-slider-1, alloc-slider-2, alloc-slider-2,', 'alloc-slider-1, alloc-slider-2, alloc-slider-3,', 'alloc-slider-1, alloc-slider-2, alloc-slider-4,', 'alloc-slider-1, alloc-slider-2, html,', 'alloc-slider-1, alloc-slider-3,', 'alloc-slider-1, alloc-slider-3, alloc-slider-1,', 'alloc-slider-1, alloc-slider-3, alloc-slider-2,', 'alloc-slider-1, alloc-slider-3, alloc-slider-3,', 'alloc-slider-1, alloc-slider-3, alloc-slider-4,', 'alloc-slider-1, alloc-slider-3, html,', 'alloc-slider-1, alloc-slider-4,', 'alloc-slider-1, alloc-slider-4, alloc-slider-3,', 'alloc-slider-1, alloc-slider-4, alloc-slider-4,', 'alloc-slider-1, alloc-slider-4, alloc-slider-5,', 'alloc-slider-1, alloc-slider-4, html,', 'alloc-slider-1, alloc-slider-5,', 'alloc-slider-1, alloc-slider-5, alloc-slider-1,', 'alloc-slider-1, alloc-slider-5, alloc-slider-5,', 'alloc-slider-1, alloc-slider-5, html,', 'alloc-slider-1, html,', 'alloc-slider-1, html, alloc-slider-1,', 'alloc-slider-1, html, alloc-slider-2,', 'alloc-slider-1, html, alloc-slider-3,', 'alloc-slider-1, html, alloc-slider-4,', 'alloc-slider-1, html, alloc-slider-5,', 'alloc-slider-1, html, html,', 'alloc-slider-2,', 'alloc-slider-2, alloc-slider-1,', 'alloc-slider-2, alloc-slider-1, alloc-slider-1,', 'alloc-slider-2, alloc-slider-1, alloc-slider-2,', 'alloc-slider-2, alloc-slider-1, alloc-slider-4,', 'alloc-slider-2, alloc-slider-1, html,', 'alloc-slider-2, alloc-slider-2,', 'alloc-slider-2, alloc-slider-2, alloc-slider-1,', 'alloc-slider-2, alloc-slider-2, alloc-slider-2,', 'alloc-slider-2, alloc-slider-2, alloc-slider-3,', 'alloc-slider-2, alloc-slider-2, alloc-slider-4,', 'alloc-slider-2, alloc-slider-2, alloc-slider-5,', 'alloc-slider-2, alloc-slider-2, html,', 'alloc-slider-2, alloc-slider-3,', 'alloc-slider-2, alloc-slider-3, alloc-slider-1,', 'alloc-slider-2, alloc-slider-3, alloc-slider-2,', 'alloc-slider-2, alloc-slider-3, alloc-slider-3,', 'alloc-slider-2, alloc-slider-3, alloc-slider-4,', 'alloc-slider-2, alloc-slider-3, alloc-slider-5,', 'alloc-slider-2, alloc-slider-3, html,', 'alloc-slider-2, alloc-slider-4,', 'alloc-slider-2, alloc-slider-4, alloc-slider-1,', 'alloc-slider-2, alloc-slider-4, alloc-slider-3,', 'alloc-slider-2, alloc-slider-4, alloc-slider-4,', 'alloc-slider-2, alloc-slider-4, alloc-slider-5,', 'alloc-slider-2, alloc-slider-4, html,', 'alloc-slider-2, alloc-slider-5,', 'alloc-slider-2, alloc-slider-5, alloc-slider-4,', 'alloc-slider-2, alloc-slider-5, alloc-slider-5,', 'alloc-slider-2, html,', 'alloc-slider-2, html, alloc-slider-1,', 'alloc-slider-2, html, alloc-slider-2,', 'alloc-slider-2, html, alloc-slider-3,', 'alloc-slider-2, html, alloc-slider-4,', 'alloc-slider-2, html, alloc-slider-5,', 'alloc-slider-2, html, html,', 'alloc-slider-3,', 'alloc-slider-3, alloc-slider-1,', 'alloc-slider-3, alloc-slider-1, alloc-slider-1,', 'alloc-slider-3, alloc-slider-1, alloc-slider-2,', 'alloc-slider-3, alloc-slider-1, html,', 'alloc-slider-3, alloc-slider-2,', 'alloc-slider-3, alloc-slider-2, alloc-slider-1,', 'alloc-slider-3, alloc-slider-2, alloc-slider-2,', 'alloc-slider-3, alloc-slider-2, alloc-slider-3,', 'alloc-slider-3, alloc-slider-2, alloc-slider-4,', 'alloc-slider-3, alloc-slider-2, html,', 'alloc-slider-3, alloc-slider-3,', 'alloc-slider-3, alloc-slider-3, alloc-slider-1,', 'alloc-slider-3, alloc-slider-3, alloc-slider-2,', 'alloc-slider-3, alloc-slider-3, alloc-slider-3,', 'alloc-slider-3, alloc-slider-3, alloc-slider-4,', 'alloc-slider-3, alloc-slider-3, alloc-slider-5,', 'alloc-slider-3, alloc-slider-3, html,', 'alloc-slider-3, alloc-slider-4,', 'alloc-slider-3, alloc-slider-4, alloc-slider-1,', 'alloc-slider-3, alloc-slider-4, alloc-slider-2,', 'alloc-slider-3, alloc-slider-4, alloc-slider-3,', 'alloc-slider-3, alloc-slider-4, alloc-slider-4,', 'alloc-slider-3, alloc-slider-4, alloc-slider-5,', 'alloc-slider-3, alloc-slider-4, html,', 'alloc-slider-3, alloc-slider-5,', 'alloc-slider-3, alloc-slider-5, alloc-slider-4,', 'alloc-slider-3, alloc-slider-5, alloc-slider-5,', 'alloc-slider-3, alloc-slider-5, html,', 'alloc-slider-3, html,', 'alloc-slider-3, html, alloc-slider-1,', 'alloc-slider-3, html, alloc-slider-2,', 'alloc-slider-3, html, alloc-slider-3,', 'alloc-slider-3, html, alloc-slider-4,', 'alloc-slider-3, html, alloc-slider-5,', 'alloc-slider-3, html, html,', 'alloc-slider-4,', 'alloc-slider-4, alloc-slider-1,', 'alloc-slider-4, alloc-slider-1, alloc-slider-1,', 'alloc-slider-4, alloc-slider-1, html,', 'alloc-slider-4, alloc-slider-2,', 'alloc-slider-4, alloc-slider-2, alloc-slider-1,', 'alloc-slider-4, alloc-slider-2, alloc-slider-2,', 'alloc-slider-4, alloc-slider-2, alloc-slider-3,', 'alloc-slider-4, alloc-slider-2, alloc-slider-4,', 'alloc-slider-4, alloc-slider-2, html,', 'alloc-slider-4, alloc-slider-3,', 'alloc-slider-4, alloc-slider-3, alloc-slider-1,', 'alloc-slider-4, alloc-slider-3, alloc-slider-2,', 'alloc-slider-4, alloc-slider-3, alloc-slider-3,', 'alloc-slider-4, alloc-slider-3, alloc-slider-4,', 'alloc-slider-4, alloc-slider-3, html,', 'alloc-slider-4, alloc-slider-4,', 'alloc-slider-4, alloc-slider-4, alloc-slider-1,', 'alloc-slider-4, alloc-slider-4, alloc-slider-2,', 'alloc-slider-4, alloc-slider-4, alloc-slider-3,', 'alloc-slider-4, alloc-slider-4, alloc-slider-4,', 'alloc-slider-4, alloc-slider-4, alloc-slider-5,', 'alloc-slider-4, alloc-slider-4, html,', 'alloc-slider-4, alloc-slider-5,', 'alloc-slider-4, alloc-slider-5, alloc-slider-1,', 'alloc-slider-4, alloc-slider-5, alloc-slider-3,', 'alloc-slider-4, alloc-slider-5, alloc-slider-4,', 'alloc-slider-4, alloc-slider-5, alloc-slider-5,', 'alloc-slider-4, alloc-slider-5, html,', 'alloc-slider-4, html,', 'alloc-slider-4, html, alloc-slider-1,', 'alloc-slider-4, html, alloc-slider-2,', 'alloc-slider-4, html, alloc-slider-3,', 'alloc-slider-4, html, alloc-slider-4,', 'alloc-slider-4, html, alloc-slider-5,', 'alloc-slider-4, html, html,', 'alloc-slider-5,', 'alloc-slider-5, alloc-slider-1,', 'alloc-slider-5, alloc-slider-1, alloc-slider-1,', 'alloc-slider-5, alloc-slider-1, alloc-slider-2,', 'alloc-slider-5, alloc-slider-1, alloc-slider-3,', 'alloc-slider-5, alloc-slider-1, html,', 'alloc-slider-5, alloc-slider-2,', 'alloc-slider-5, alloc-slider-2, alloc-slider-1,', 'alloc-slider-5, alloc-slider-2, alloc-slider-2,', 'alloc-slider-5, alloc-slider-2, alloc-slider-5,', 'alloc-slider-5, alloc-slider-2, html,', 'alloc-slider-5, alloc-slider-3,', 'alloc-slider-5, alloc-slider-3, alloc-slider-2,', 'alloc-slider-5, alloc-slider-3, alloc-slider-3,', 'alloc-slider-5, alloc-slider-3, alloc-slider-4,', 'alloc-slider-5, alloc-slider-3, html,', 'alloc-slider-5, alloc-slider-4,', 'alloc-slider-5, alloc-slider-4, alloc-slider-2,', 'alloc-slider-5, alloc-slider-4, alloc-slider-3,', 'alloc-slider-5, alloc-slider-4, alloc-slider-4,', 'alloc-slider-5, alloc-slider-4, alloc-slider-5,', 'alloc-slider-5, alloc-slider-4, html,', 'alloc-slider-5, alloc-slider-5,', 'alloc-slider-5, alloc-slider-5, alloc-slider-1,', 'alloc-slider-5, alloc-slider-5, alloc-slider-2,', 'alloc-slider-5, alloc-slider-5, alloc-slider-3,', 'alloc-slider-5, alloc-slider-5, alloc-slider-4,', 'alloc-slider-5, alloc-slider-5, alloc-slider-5,', 'alloc-slider-5, alloc-slider-5, html,', 'alloc-slider-5, html,', 'alloc-slider-5, html, alloc-slider-1,', 'alloc-slider-5, html, alloc-slider-2,', 'alloc-slider-5, html, alloc-slider-3,', 'alloc-slider-5, html, alloc-slider-4,', 'alloc-slider-5, html, alloc-slider-5,', 'alloc-slider-5, html, html,', 'html,', 'html, alloc-slider-1,', 'html, alloc-slider-1, alloc-slider-1,', 'html, alloc-slider-1, alloc-slider-2,', 'html, alloc-slider-1, alloc-slider-3,', 'html, alloc-slider-1, alloc-slider-5,', 'html, alloc-slider-1, html,', 'html, alloc-slider-2,', 'html, alloc-slider-2, alloc-slider-1,', 'html, alloc-slider-2, alloc-slider-2,', 'html, alloc-slider-2, alloc-slider-3,', 'html, alloc-slider-2, alloc-slider-4,', 'html, alloc-slider-2, alloc-slider-5,', 'html, alloc-slider-2, html,', 'html, alloc-slider-3,', 'html, alloc-slider-3, alloc-slider-1,', 'html, alloc-slider-3, alloc-slider-2,', 'html, alloc-slider-3, alloc-slider-3,', 'html, alloc-slider-3, alloc-slider-4,', 'html, alloc-slider-3, alloc-slider-5,', 'html, alloc-slider-3, html,', 'html, alloc-slider-4,', 'html, alloc-slider-4, alloc-slider-1,', 'html, alloc-slider-4, alloc-slider-2,', 'html, alloc-slider-4, alloc-slider-3,', 'html, alloc-slider-4, alloc-slider-4,', 'html, alloc-slider-4, alloc-slider-5,', 'html, alloc-slider-4, html,', 'html, alloc-slider-5,', 'html, alloc-slider-5, alloc-slider-1,', 'html, alloc-slider-5, alloc-slider-2,', 'html, alloc-slider-5, alloc-slider-3,', 'html, alloc-slider-5, alloc-slider-4,', 'html, alloc-slider-5, alloc-slider-5,', 'html, alloc-slider-5, html,', 'html, html,', 'html, html, alloc-slider-1,', 'html, html, alloc-slider-2,', 'html, html, alloc-slider-3,', 'html, html, alloc-slider-4,', 'html, html, alloc-slider-5,', 'html, html, html,']\n"
     ]
    }
   ],
   "source": [
    "# TODO get a list of bi grams for each user.\n",
    "# Turns out the Count Vectorizer has an ngram feature :/\n",
    "\n",
    "# First do with unbalanced classes, then balanced.\n",
    "X_train, X_test, y_train, y_test = train_test_split(X, y)\n",
    "\n",
    "vectorizer_ngram = CountVectorizer(token_pattern='(.*?,)', ngram_range=(1, 3))\n",
    "ngram_counts = vectorizer_ngram.fit_transform(X_train)\n",
    "print(vectorizer_ngram.get_feature_names()) # Not sure if this worked correclty, lets try anyway lol.\n",
    "\n",
    "X_test = vectorizer_ngram.transform(X_test) # TODO: SHould be treating alloc-slider-1/alloc-slider-2 as different n-grams.\n"
   ]
  },
  {
   "cell_type": "code",
   "execution_count": 28,
   "metadata": {},
   "outputs": [
    {
     "data": {
      "text/plain": [
       "222"
      ]
     },
     "execution_count": 28,
     "metadata": {},
     "output_type": "execute_result"
    }
   ],
   "source": [
    "len(vectorizer_ngram.get_feature_names())"
   ]
  },
  {
   "cell_type": "code",
   "execution_count": 29,
   "metadata": {},
   "outputs": [
    {
     "name": "stdout",
     "output_type": "stream",
     "text": [
      "Accuracy score: 0.3877551020408163\n",
      "F1 score: 0.3244485294117647\n",
      "[[34 59]\n",
      " [ 1  4]]\n"
     ]
    },
    {
     "data": {
      "image/png": "[encoded data removed]",
      "text/plain": [
       "<Figure size 288x288 with 2 Axes>"
      ]
     },
     "metadata": {
      "needs_background": "light"
     },
     "output_type": "display_data"
    }
   ],
   "source": [
    "\n",
    "ngram_model = MultinomialNB()\n",
    "ngram_model.fit(ngram_counts, y_train)\n",
    "\n",
    "pred = ngram_model.predict(X_test)\n",
    "print( f'Accuracy score: {accuracy_score(y_test, pred)}' )\n",
    "f1 = f1_score(y_test, pred, average='macro')\n",
    "print( f'F1 score: {f1}' )\n",
    "# Accuracy of 0.96 on unbalanced data\n",
    "\n",
    "cm = confusion_matrix(y_test, pred)\n",
    "print(cm)\n",
    "plt.matshow(cm)\n",
    "plt.title('Confusion matrix')\n",
    "plt.suptitle('0=online, 1=lab')\n",
    "plt.colorbar()\n",
    "plt.ylabel('True label')\n",
    "plt.xlabel('Predicted label')\n",
    "plt.show()"
   ]
  },
  {
   "cell_type": "code",
   "execution_count": null,
   "metadata": {},
   "outputs": [],
   "source": [
    "# Try with n-grams and balanced data.\n",
    "\n",
    "X_train, X_test, y_train, y_test = train_test_split(X_balanced, y_balanced)\n",
    "\n",
    "vectorizer_ngram = CountVectorizer(token_pattern='(.*?,)', ngram_range=(2, 2))\n",
    "ngram_counts = vectorizer_ngram.fit_transform(X_train)\n",
    "print(vectorizer_ngram.get_feature_names()) # Not sure if this worked correclty, lets try anyway lol.\n",
    "\n",
    "X_test = vectorizer_ngram.transform(X_test)\n",
    "\n",
    "Spam_model = LogisticRegression(solver='liblinear', penalty='l1')\n",
    "Spam_model.fit(ngram_counts, y_train)\n",
    "\n",
    "pred = Spam_model.predict(X_test)\n",
    "print( f'\\nAccuracy score: {accuracy_score(y_test, pred)}' )\n",
    "f1 = f1_score(y_test, pred, average='macro')\n",
    "print( f'F1 score: {f1}' )\n",
    "# Accuracy of 0.777 on balanced data\n",
    "# Prety good, I imagine if this was working proberly itd be even better\n",
    "\n",
    "\n",
    "cm = confusion_matrix(y_train, Spam_model.predict(ngram_counts))\n",
    "print('Train data matrix: \\n', cm)\n",
    "cm = confusion_matrix(y_test, pred)\n",
    "print('Test data matrix: \\n', cm)\n",
    "\n",
    "plt.matshow(cm)\n",
    "plt.title('Confusion matrix')\n",
    "plt.suptitle('0=online, 1=lab')\n",
    "plt.colorbar()\n",
    "plt.ylabel('True label')\n",
    "plt.xlabel('Predicted label')\n",
    "plt.show()\n"
   ]
  },
  {
   "cell_type": "code",
   "execution_count": null,
   "metadata": {},
   "outputs": [],
   "source": [
    "# BALENCED TRIGRAMS\n",
    "\n",
    "# Try with n-grams and balanced data.\n",
    "\n",
    "X_train, X_test, y_train, y_test = train_test_split(X_balanced, y_balanced)\n",
    "\n",
    "vectorizer_ngram = CountVectorizer(token_pattern='(.*?,)', ngram_range=(3, 3))\n",
    "ngram_counts = vectorizer_ngram.fit_transform(X_train)\n",
    "print(vectorizer_ngram.get_feature_names()[:10]) # Not sure if this worked correclty, lets try anyway lol.\n",
    "\n",
    "X_test = vectorizer_ngram.transform(X_test)\n",
    "\n",
    "Spam_model = LogisticRegression(solver='liblinear', penalty='l1')\n",
    "Spam_model.fit(ngram_counts, y_train)\n",
    "\n",
    "pred = Spam_model.predict(X_test)\n",
    "print( f'\\nAccuracy score: {accuracy_score(y_test, pred)}' )\n",
    "f1 = f1_score(y_test, pred, average='macro')\n",
    "print( f'F1 score: {f1}' )\n",
    "# Accuracy of 0.777 on balanced data\n",
    "# Prety good, I imagine if this was working proberly itd be even better\n",
    "\n",
    "\n",
    "cm = confusion_matrix(y_train, Spam_model.predict(ngram_counts))\n",
    "print('Train data matrix: \\n', cm)\n",
    "cm = confusion_matrix(y_test, pred)\n",
    "print('Test data matrix: \\n', cm)\n",
    "\n",
    "plt.matshow(cm)\n",
    "plt.title('Confusion matrix')\n",
    "plt.suptitle('0=online, 1=lab')\n",
    "plt.colorbar()\n",
    "plt.ylabel('True label')\n",
    "plt.xlabel('Predicted label')\n",
    "plt.show()\n"
   ]
  },
  {
   "cell_type": "code",
   "execution_count": null,
   "metadata": {},
   "outputs": [],
   "source": [
    "# BALENCED UNI and BiGRAMS\n",
    "\n",
    "# Try with n-grams and balanced data.\n",
    "\n",
    "X_train, X_test, y_train, y_test = train_test_split(X_balanced, y_balanced)\n",
    "\n",
    "vectorizer_ngram = CountVectorizer(token_pattern='(.*?,)', ngram_range=(1, 2))\n",
    "ngram_counts = vectorizer_ngram.fit_transform(X_train)\n",
    "print(vectorizer_ngram.get_feature_names()[:10]) # Not sure if this worked correclty, lets try anyway lol.\n",
    "\n",
    "X_test = vectorizer_ngram.transform(X_test)\n",
    "\n",
    "Spam_model = LogisticRegression(solver='liblinear', penalty='l1')\n",
    "Spam_model.fit(ngram_counts, y_train)\n",
    "\n",
    "pred = Spam_model.predict(X_test)\n",
    "print( f'\\nAccuracy score: {accuracy_score(y_test, pred)}' )\n",
    "f1 = f1_score(y_test, pred, average='macro')\n",
    "print( f'F1 score: {f1}' )\n",
    "# Accuracy of 0.777 on balanced data\n",
    "# Prety good, I imagine if this was working proberly itd be even better\n",
    "\n",
    "\n",
    "cm = confusion_matrix(y_train, Spam_model.predict(ngram_counts))\n",
    "print('Train data matrix: \\n', cm)\n",
    "cm = confusion_matrix(y_test, pred)\n",
    "print('Test data matrix: \\n', cm)\n",
    "\n",
    "plt.matshow(cm)\n",
    "plt.title('Confusion matrix')\n",
    "plt.suptitle('0=online, 1=lab')\n",
    "plt.colorbar()\n",
    "plt.ylabel('True label')\n",
    "plt.xlabel('Predicted label')\n",
    "plt.show()\n"
   ]
  },
  {
   "cell_type": "markdown",
   "metadata": {},
   "source": [
    "# Try HMM\n",
    "\n",
    "Will have a generic attempt of implementing a Hidden Markov Model here, then in the next notebooks we can create relevant ones.\n",
    "Not entirely sure how these work but will word it out as I go along. \n",
    "\n",
    "This article is more complicated, but also indepth and explains stuff more. - https://towardsdatascience.com/markov-chains-and-hmms-ceaf2c854788\n",
    "\n",
    "Some guys github repository using HMM for binary sentimental analysis of tweets - https://github.com/FantacherJOY/Hidden-Markov-Model-for-NLP\n",
    "\n",
    "\"In the case one label is way more frequent than the other (say Class B appears for every 100 samples of Class A), or in the case one category is broader than the other (have more variance, i.e. Class A is an expected behavior of a process and Class B is all the cases that are abnormal), then we might want to train a unique HMM for Class A. For each new sample, we compute the likelihood to the model, and if it falls below a pre-defined threshold (that can be chosen with respect to some validation sample, or in the worst case, from the training samples themselves) we assign this sample to Class B. If the likelihood is above the threshold, we assign the sample to Class A.\" - https://datascience.stackexchange.com/questions/8560/can-hmm-be-used-as-a-binary-classifier"
   ]
  },
  {
   "cell_type": "code",
   "execution_count": null,
   "metadata": {},
   "outputs": [],
   "source": [
    "# https://hmmlearn.readthedocs.io/en/latest/tutorial.html\n",
    "# experimenting with the Working with multiple sequences part.]\n",
    "\n",
    "#https://stackoverflow.com/questions/52515134/hmmlearn-classification-usage\n",
    "\n",
    "from hmmlearn import hmm\n",
    "\n",
    "X1 = [[0.5], [1.0], [-1.0], [0.42], [0.24]]\n",
    "X2 = [[2.4], [4.2], [0.5], [-0.24]]\n",
    "X = np.concatenate([X1, X2]) # X = 1D array of length 9\n",
    "lengths = [len(X1), len(X2)] # lengths = [5,4], array of length 2"
   ]
  },
  {
   "cell_type": "code",
   "execution_count": null,
   "metadata": {},
   "outputs": [],
   "source": [
    "model = hmm.GaussianHMM(n_components=3).fit(X, lengths)\n",
    "model"
   ]
  },
  {
   "cell_type": "code",
   "execution_count": null,
   "metadata": {},
   "outputs": [],
   "source": [
    "# 'The HMM is a generative probabilistic model, in which \n",
    "# a sequence of observable X variables is generated by a sequence of internal hidden states Z.\n",
    "# The hidden states are not observed directly.'\n",
    "\n",
    "X, Z = model.sample(10)"
   ]
  },
  {
   "cell_type": "code",
   "execution_count": null,
   "metadata": {},
   "outputs": [],
   "source": [
    "X, Z"
   ]
  },
  {
   "cell_type": "code",
   "execution_count": null,
   "metadata": {},
   "outputs": [],
   "source": [
    "# Now compare the models transisiton matrix to the actual one.\n",
    "# Might want this at the beginning to feed into model.\n",
    "# https://stackoverflow.com/questions/46657221/generating-markov-transition-matrix-in-python\n",
    "\n",
    "#the following code takes a list such as\n",
    "#[1,1,2,6,8,5,5,7,8,8,1,1,4,5,5,0,0,0,1,1,4,4,5,1,3,3,4,5,4,1,1]\n",
    "#with states labeled as successive integers starting with 0\n",
    "#and returns a transition matrix, M,\n",
    "#where M[i][j] is the probability of transitioning from i to j\n",
    "\n",
    "def transition_matrix(transitions):\n",
    "    n = 1+ max(transitions) #number of states\n",
    "\n",
    "    M = [[0]*n for _ in range(n)]\n",
    "\n",
    "    for (i,j) in zip(transitions,transitions[1:]):\n",
    "        M[i][j] += 1\n",
    "\n",
    "    #now convert to probabilities:\n",
    "    for row in M:\n",
    "        s = sum(row)\n",
    "        if s > 0:\n",
    "            row[:] = [f/s for f in row]\n",
    "    return M\n",
    "\n",
    "#test:\n",
    "transition_matrix(np.array(X).flatten())\n"
   ]
  },
  {
   "cell_type": "markdown",
   "metadata": {},
   "source": [
    "# Practise HMM Done\n",
    "\n",
    "Finished the initial exploration as to how the HMM implementation in python works.\n",
    "Now try to apply it to my data."
   ]
  }
 ],
 "metadata": {
  "file_extension": ".py",
  "kernelspec": {
   "display_name": "Python 3.7.6 64-bit ('Anaconda3': conda)",
   "language": "python",
   "name": "python37664bitanaconda3conda869ee3b15737460b8abcd30240fba0c8"
  },
  "language_info": {
   "codemirror_mode": {
    "name": "ipython",
    "version": 3
   },
   "file_extension": ".py",
   "mimetype": "text/x-python",
   "name": "python",
   "nbconvert_exporter": "python",
   "pygments_lexer": "ipython3",
   "version": "3.7.6"
  },
  "mimetype": "text/x-python",
  "name": "python",
  "npconvert_exporter": "python",
  "pygments_lexer": "ipython3",
  "version": 3
 },
 "nbformat": 4,
 "nbformat_minor": 2
}