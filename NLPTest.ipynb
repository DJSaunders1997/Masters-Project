{
 "nbformat": 4,
 "nbformat_minor": 2,
 "metadata": {
  "language_info": {
   "name": "python",
   "codemirror_mode": {
    "name": "ipython",
    "version": 3
   },
   "version": "3.7.6-final"
  },
  "orig_nbformat": 2,
  "file_extension": ".py",
  "mimetype": "text/x-python",
  "name": "python",
  "npconvert_exporter": "python",
  "pygments_lexer": "ipython3",
  "version": 3,
  "kernelspec": {
   "name": "python3",
   "display_name": "Python 3"
  }
 },
 "cells": [
  {
   "cell_type": "code",
   "execution_count": 2,
   "metadata": {},
   "outputs": [],
   "source": [
    "# TRY using NLP method of NGrams\n",
    "# Maybe tidy up items more now.\n",
    "# Look at most frequent n-grams for both classes. Get average and shit.\n",
    "# Measure frequent n-grams for test items and classify attention or not with a naiive bayes algorithm.\n",
    "# Frequency of certain n-grams will show me any data.\n",
    "\n",
    "import pandas as pd"
   ]
  },
  {
   "cell_type": "code",
   "execution_count": 3,
   "metadata": {},
   "outputs": [],
   "source": [
    "# Online Turk Data\n",
    "df = pd.read_csv('Turk-Data.csv')\n",
    "df = df.drop(['Unnamed: 0'], axis =1)   # drop strange column\n",
    "df['target'] = df['target'].replace('html > body > main > div#content > form#portfolio-selection > div.row > div.large-12.columns.text-center > button.buy-button', 'Buy-Button')  # Replace html element with smaller string\n",
    "df['target'] = df['target'].replace('html > body > main > div#content > form#portfolio-selection > div.investment-test > div.portfolio-interface.row > div.stock-selection.large-7.columns > div.row > div.large-12.columns.text-center > button.save-portfolio', 'Buy-Button')  # Replace html element with smaller string\n",
    "\n",
    "\n",
    "# Lab Study Data\n",
    "df_lab = pd.read_csv('Lab-Data.csv')\n",
    "df_lab = df_lab.drop(['Unnamed: 0'], axis =1)   # drop strange column\n",
    "# Need to replace stuff like '[id=\"alloc-slider-return-4\"]>svg>g>circle'\n"
   ]
  },
  {
   "cell_type": "code",
   "execution_count": 4,
   "metadata": {},
   "outputs": [],
   "source": [
    "#df\n",
    "#df_lab\n"
   ]
  },
  {
   "cell_type": "code",
   "execution_count": 5,
   "metadata": {},
   "outputs": [
    {
     "name": "stdout",
     "output_type": "stream",
     "text": "[(1, 2), (2, 3), (3, 3), (3, 3), (3, 4), (4, 5), (5, 3), (3, 3), (3, 3), (3, 3)]\n"
    },
    {
     "data": {
      "text/plain": "[((3, 3), 2), ((1, 2), 1), ((2, 3), 1), ((3, 4), 1), ((4, 5), 1)]"
     },
     "execution_count": 5,
     "metadata": {},
     "output_type": "execute_result"
    }
   ],
   "source": [
    "import ngram as ng\n",
    "# or \n",
    "from nltk.util import ngrams    #   https://kite.com/python/docs/nltk.ngrams\n",
    "import nltk\n",
    "\n",
    "print(list(ngrams([1,2,3,3,3,4,5,3,3,3,3], 2)))\n",
    "bigram_fd = nltk.FreqDist(ngrams([1,2,3,3,3,4,5], 2))\n",
    "\n",
    "#list(ngrams(['Dave', 'Goes', 'Dave', 'Goes', 'To', 'The', 'Shop'], 2))\n",
    "\n",
    "bigram_fd.most_common()"
   ]
  },
  {
   "cell_type": "code",
   "execution_count": 6,
   "metadata": {},
   "outputs": [
    {
     "data": {
      "text/plain": "('alloc-slider-1',\n 'alloc-slider-1',\n 'alloc-slider-1',\n 'alloc-slider-1',\n 'alloc-slider-1',\n 'alloc-slider-1',\n 'alloc-slider-1',\n 'alloc-slider-2',\n 'alloc-slider-2',\n 'alloc-slider-2',\n 'alloc-slider-2',\n 'alloc-slider-2',\n 'alloc-slider-2',\n 'alloc-slider-3',\n 'alloc-slider-3',\n 'alloc-slider-3',\n 'alloc-slider-3',\n 'alloc-slider-3',\n 'alloc-slider-4',\n 'alloc-slider-4',\n 'alloc-slider-4',\n 'alloc-slider-4',\n 'alloc-slider-4',\n 'alloc-slider-4',\n 'alloc-slider-4',\n 'alloc-slider-5',\n 'alloc-slider-5',\n 'alloc-slider-5',\n 'Buy-Button',\n 'Buy-Button',\n 'Buy-Button',\n 'alloc-slider-1',\n 'alloc-slider-1',\n 'alloc-slider-1',\n 'alloc-slider-1',\n 'alloc-slider-1',\n 'alloc-slider-1',\n 'alloc-slider-1',\n 'alloc-slider-1',\n 'alloc-slider-1',\n 'alloc-slider-1',\n 'alloc-slider-1',\n 'alloc-slider-1',\n 'alloc-slider-2',\n 'alloc-slider-2',\n 'alloc-slider-2',\n 'alloc-slider-2',\n 'alloc-slider-2',\n 'alloc-slider-2',\n 'alloc-slider-2',\n 'alloc-slider-2',\n 'alloc-slider-2',\n 'alloc-slider-2',\n 'alloc-slider-2',\n 'alloc-slider-2',\n 'alloc-slider-2',\n 'alloc-slider-2',\n 'alloc-slider-2',\n 'alloc-slider-2',\n 'alloc-slider-2',\n 'alloc-slider-2',\n 'alloc-slider-3',\n 'alloc-slider-3',\n 'alloc-slider-3',\n 'alloc-slider-3',\n 'alloc-slider-3',\n 'alloc-slider-3',\n 'alloc-slider-3',\n 'alloc-slider-3',\n 'alloc-slider-3',\n 'alloc-slider-3',\n 'alloc-slider-3',\n 'alloc-slider-3',\n 'alloc-slider-3',\n 'alloc-slider-3',\n 'alloc-slider-3',\n 'alloc-slider-3',\n 'alloc-slider-3',\n 'alloc-slider-3',\n 'alloc-slider-3',\n 'alloc-slider-3',\n 'alloc-slider-3',\n 'alloc-slider-3',\n 'alloc-slider-3',\n 'alloc-slider-3',\n 'alloc-slider-3',\n 'alloc-slider-3',\n 'alloc-slider-3',\n 'alloc-slider-3',\n 'alloc-slider-3',\n 'alloc-slider-3',\n 'alloc-slider-3',\n 'alloc-slider-3',\n 'alloc-slider-3',\n 'alloc-slider-3',\n 'alloc-slider-3',\n 'alloc-slider-3',\n 'alloc-slider-3',\n 'alloc-slider-3',\n 'alloc-slider-3',\n 'alloc-slider-3',\n 'alloc-slider-3',\n 'alloc-slider-3',\n 'alloc-slider-3',\n 'alloc-slider-4',\n 'alloc-slider-4',\n 'alloc-slider-4',\n 'alloc-slider-4',\n 'alloc-slider-4',\n 'alloc-slider-4',\n 'alloc-slider-4',\n 'alloc-slider-4',\n 'alloc-slider-4',\n 'alloc-slider-4',\n 'alloc-slider-4',\n 'alloc-slider-4',\n 'alloc-slider-4',\n 'alloc-slider-4',\n 'alloc-slider-4',\n 'alloc-slider-4',\n 'alloc-slider-4',\n 'alloc-slider-4',\n 'alloc-slider-4',\n 'alloc-slider-4',\n 'alloc-slider-4',\n 'alloc-slider-4',\n 'alloc-slider-5',\n 'alloc-slider-5',\n 'alloc-slider-5',\n 'alloc-slider-5',\n 'alloc-slider-5',\n 'alloc-slider-5',\n 'alloc-slider-1',\n 'alloc-slider-1',\n 'alloc-slider-1',\n 'alloc-slider-1',\n 'alloc-slider-1',\n 'alloc-slider-1',\n 'alloc-slider-1',\n 'alloc-slider-1',\n 'alloc-slider-1',\n 'alloc-slider-1',\n 'alloc-slider-1',\n 'alloc-slider-1',\n 'alloc-slider-1',\n 'alloc-slider-1',\n 'alloc-slider-1',\n 'alloc-slider-1',\n 'alloc-slider-1',\n 'alloc-slider-1',\n 'alloc-slider-1',\n 'Buy-Button',\n 'Buy-Button',\n 'Buy-Button',\n 'Buy-Button',\n 'Buy-Button',\n 'Buy-Button',\n 'alloc-slider-1',\n 'alloc-slider-1',\n 'alloc-slider-1',\n 'alloc-slider-1',\n 'alloc-slider-1',\n 'alloc-slider-1',\n 'alloc-slider-1',\n 'alloc-slider-1',\n 'alloc-slider-1',\n 'alloc-slider-1',\n 'alloc-slider-1',\n 'alloc-slider-1',\n 'alloc-slider-1',\n 'alloc-slider-1',\n 'alloc-slider-1',\n 'alloc-slider-1',\n 'alloc-slider-1',\n 'alloc-slider-1',\n 'alloc-slider-1',\n 'alloc-slider-1',\n 'alloc-slider-1',\n 'alloc-slider-1',\n 'alloc-slider-1',\n 'alloc-slider-1',\n 'alloc-slider-1',\n 'alloc-slider-1',\n 'alloc-slider-1',\n 'alloc-slider-1',\n 'alloc-slider-2',\n 'alloc-slider-2',\n 'alloc-slider-2',\n 'alloc-slider-2',\n 'alloc-slider-2',\n 'alloc-slider-2',\n 'alloc-slider-2',\n 'alloc-slider-2',\n 'alloc-slider-2',\n 'alloc-slider-2',\n 'alloc-slider-2',\n 'alloc-slider-2',\n 'alloc-slider-2',\n 'alloc-slider-2',\n 'alloc-slider-2',\n 'alloc-slider-2',\n 'alloc-slider-2',\n 'alloc-slider-3',\n 'alloc-slider-3',\n 'alloc-slider-3',\n 'alloc-slider-3',\n 'alloc-slider-3',\n 'alloc-slider-3',\n 'alloc-slider-3',\n 'alloc-slider-3',\n 'alloc-slider-3',\n 'alloc-slider-3',\n 'alloc-slider-3',\n 'alloc-slider-3',\n 'alloc-slider-3',\n 'alloc-slider-3',\n 'alloc-slider-3',\n 'alloc-slider-3',\n 'alloc-slider-3',\n 'alloc-slider-3',\n 'alloc-slider-3',\n 'alloc-slider-3',\n 'alloc-slider-3',\n 'alloc-slider-3',\n 'alloc-slider-3',\n 'alloc-slider-3',\n 'alloc-slider-3',\n 'alloc-slider-3',\n 'alloc-slider-3',\n 'alloc-slider-3',\n 'alloc-slider-3',\n 'alloc-slider-3',\n 'alloc-slider-3',\n 'alloc-slider-3',\n 'alloc-slider-3',\n 'alloc-slider-3',\n 'alloc-slider-3',\n 'alloc-slider-4',\n 'alloc-slider-4',\n 'alloc-slider-4',\n 'alloc-slider-4',\n 'alloc-slider-4',\n 'alloc-slider-4',\n 'alloc-slider-4',\n 'alloc-slider-4',\n 'alloc-slider-4',\n 'alloc-slider-4',\n 'alloc-slider-4',\n 'alloc-slider-4',\n 'alloc-slider-4',\n 'alloc-slider-4',\n 'alloc-slider-4',\n 'alloc-slider-4',\n 'alloc-slider-4',\n 'alloc-slider-4',\n 'alloc-slider-4',\n 'alloc-slider-4',\n 'alloc-slider-4',\n 'alloc-slider-4',\n 'alloc-slider-4',\n 'alloc-slider-4',\n 'alloc-slider-4',\n 'alloc-slider-4',\n 'alloc-slider-4',\n 'alloc-slider-4',\n 'alloc-slider-4',\n 'alloc-slider-4',\n 'alloc-slider-4',\n 'alloc-slider-4',\n 'alloc-slider-4',\n 'alloc-slider-4',\n 'alloc-slider-4',\n 'alloc-slider-4',\n 'alloc-slider-4',\n 'alloc-slider-4',\n 'alloc-slider-4',\n 'alloc-slider-4',\n 'alloc-slider-4',\n 'alloc-slider-4',\n 'alloc-slider-4',\n 'alloc-slider-4',\n 'alloc-slider-4',\n 'alloc-slider-4',\n 'alloc-slider-4',\n 'alloc-slider-4',\n 'alloc-slider-4',\n 'alloc-slider-4',\n 'alloc-slider-5',\n 'alloc-slider-5',\n 'alloc-slider-5',\n 'alloc-slider-5',\n 'alloc-slider-5',\n 'alloc-slider-5',\n 'alloc-slider-5',\n 'alloc-slider-5',\n 'alloc-slider-5',\n 'alloc-slider-5',\n 'alloc-slider-5',\n 'alloc-slider-5',\n 'alloc-slider-5',\n 'alloc-slider-5',\n 'alloc-slider-5',\n 'alloc-slider-5',\n 'alloc-slider-5',\n 'alloc-slider-5',\n 'alloc-slider-5',\n 'alloc-slider-5',\n 'alloc-slider-5',\n 'alloc-slider-5',\n 'alloc-slider-5',\n 'alloc-slider-5',\n 'alloc-slider-5',\n 'alloc-slider-5',\n 'alloc-slider-5',\n 'alloc-slider-5',\n 'alloc-slider-5',\n 'alloc-slider-5',\n 'alloc-slider-5',\n 'alloc-slider-5',\n 'alloc-slider-5',\n 'alloc-slider-5',\n 'alloc-slider-5',\n 'alloc-slider-5',\n 'alloc-slider-5',\n 'alloc-slider-5',\n 'alloc-slider-5',\n 'alloc-slider-5',\n 'alloc-slider-5',\n 'alloc-slider-5',\n 'alloc-slider-5',\n 'alloc-slider-5',\n 'alloc-slider-5',\n 'alloc-slider-5',\n 'alloc-slider-5',\n 'alloc-slider-5',\n 'alloc-slider-5',\n 'alloc-slider-5',\n 'alloc-slider-5',\n 'alloc-slider-5',\n 'alloc-slider-5',\n 'alloc-slider-5',\n 'alloc-slider-5',\n 'alloc-slider-5',\n 'alloc-slider-5',\n 'alloc-slider-5',\n 'alloc-slider-5',\n 'alloc-slider-5',\n 'alloc-slider-5',\n 'alloc-slider-5',\n 'alloc-slider-5',\n 'alloc-slider-5',\n 'Buy-Button',\n 'Buy-Button',\n 'Buy-Button',\n 'Buy-Button',\n 'Buy-Button',\n 'Buy-Button',\n 'Buy-Button',\n 'Buy-Button',\n 'Buy-Button',\n 'alloc-slider-1',\n 'alloc-slider-1',\n 'alloc-slider-1',\n 'alloc-slider-1',\n 'alloc-slider-1',\n 'alloc-slider-1',\n 'alloc-slider-1',\n 'alloc-slider-1',\n 'alloc-slider-1',\n 'alloc-slider-1',\n 'alloc-slider-1',\n 'alloc-slider-1',\n 'alloc-slider-1',\n 'alloc-slider-1',\n 'alloc-slider-1',\n 'alloc-slider-1',\n 'alloc-slider-1',\n 'alloc-slider-1',\n 'alloc-slider-1',\n 'alloc-slider-1',\n 'alloc-slider-1',\n 'alloc-slider-1',\n 'alloc-slider-1',\n 'alloc-slider-1',\n 'alloc-slider-1',\n 'alloc-slider-1',\n 'alloc-slider-1',\n 'alloc-slider-1',\n 'alloc-slider-1',\n 'alloc-slider-1',\n 'alloc-slider-1',\n 'alloc-slider-1',\n 'alloc-slider-1',\n 'alloc-slider-1',\n 'alloc-slider-1',\n 'alloc-slider-1',\n 'alloc-slider-2',\n 'alloc-slider-2',\n 'alloc-slider-2',\n 'alloc-slider-2',\n 'alloc-slider-2',\n 'alloc-slider-2',\n 'alloc-slider-2',\n 'alloc-slider-2',\n 'alloc-slider-2',\n 'alloc-slider-2',\n 'alloc-slider-2',\n 'alloc-slider-2',\n 'alloc-slider-2',\n 'alloc-slider-2',\n 'alloc-slider-2',\n 'alloc-slider-2',\n 'alloc-slider-2',\n 'alloc-slider-2',\n 'alloc-slider-2',\n 'alloc-slider-2',\n 'alloc-slider-2',\n 'alloc-slider-2',\n 'alloc-slider-2',\n 'alloc-slider-2',\n 'alloc-slider-2',\n 'alloc-slider-2',\n 'alloc-slider-2',\n 'alloc-slider-2',\n 'alloc-slider-2',\n 'alloc-slider-2',\n 'alloc-slider-2',\n 'alloc-slider-2',\n 'alloc-slider-2',\n 'alloc-slider-2',\n 'alloc-slider-2',\n 'alloc-slider-2',\n 'alloc-slider-2',\n 'alloc-slider-2',\n 'alloc-slider-2',\n 'alloc-slider-2',\n 'alloc-slider-2',\n 'alloc-slider-2',\n 'alloc-slider-2',\n 'alloc-slider-2',\n 'alloc-slider-2',\n 'alloc-slider-2',\n 'alloc-slider-2',\n 'alloc-slider-2',\n 'alloc-slider-2',\n 'alloc-slider-3',\n 'alloc-slider-3',\n 'alloc-slider-3',\n 'alloc-slider-3',\n 'alloc-slider-3',\n 'alloc-slider-3',\n 'alloc-slider-3',\n 'alloc-slider-3',\n 'alloc-slider-3',\n 'alloc-slider-3',\n 'alloc-slider-3',\n 'alloc-slider-3',\n 'alloc-slider-3',\n 'alloc-slider-3',\n 'alloc-slider-4',\n 'alloc-slider-4',\n 'alloc-slider-4',\n 'alloc-slider-4',\n 'alloc-slider-4',\n 'alloc-slider-4',\n 'alloc-slider-4',\n 'alloc-slider-4',\n 'alloc-slider-4',\n 'alloc-slider-4',\n 'alloc-slider-4',\n 'alloc-slider-4',\n 'alloc-slider-4',\n 'alloc-slider-4',\n 'alloc-slider-4',\n 'alloc-slider-4',\n 'alloc-slider-4',\n 'alloc-slider-4',\n 'alloc-slider-4',\n 'alloc-slider-4',\n 'alloc-slider-4',\n 'alloc-slider-4',\n 'alloc-slider-5',\n 'alloc-slider-5',\n 'alloc-slider-5',\n 'alloc-slider-5',\n 'alloc-slider-5',\n 'alloc-slider-5',\n 'alloc-slider-5',\n 'alloc-slider-5',\n 'alloc-slider-5',\n 'alloc-slider-5',\n 'alloc-slider-5',\n 'alloc-slider-5',\n 'alloc-slider-5',\n 'alloc-slider-5',\n 'alloc-slider-5',\n 'alloc-slider-5',\n 'alloc-slider-5',\n 'alloc-slider-5',\n 'alloc-slider-5')"
     },
     "execution_count": 6,
     "metadata": {},
     "output_type": "execute_result"
    }
   ],
   "source": [
    "#new_df # = Turk Data\n",
    "#df_lab # = Lab Data\n",
    "\n",
    "# First turk\n",
    "first_targets = df[ df['turkId'] == 'A35YFAFWP33C70' ] ['target']   # Get targets for first person.\n",
    "first_targets = first_targets.to_numpy()\n",
    "len(list(ngrams(first_targets, 500)))   # Get all occurances of 500 ngrams\n",
    "list(ngrams(first_targets, 500))[1]"
   ]
  },
  {
   "cell_type": "code",
   "execution_count": 7,
   "metadata": {},
   "outputs": [
    {
     "data": {
      "text/plain": "2734"
     },
     "execution_count": 7,
     "metadata": {},
     "output_type": "execute_result"
    }
   ],
   "source": [
    "# First turk\n",
    "first_targets = df_lab[ df_lab['turkId'] == 'ID1' ] ['target']   # Get targets for first person.\n",
    "first_targets = first_targets.to_numpy()\n",
    "len(list(ngrams(first_targets, 500)))   #   Get all occurances of 500 ngrams"
   ]
  },
  {
   "cell_type": "code",
   "execution_count": 8,
   "metadata": {},
   "outputs": [],
   "source": [
    "# IDEA: TODO: Get 500 grams for all turks and all labs. \n",
    "# Get histogram of what these n-grams are for lab and turks.\n",
    "# Compare these to see if we can spot any difference between them :)\n",
    "# Numbers should be different becaust there is so many more turks, but we can still compare distributions."
   ]
  },
  {
   "cell_type": "code",
   "execution_count": 9,
   "metadata": {},
   "outputs": [
    {
     "name": "stdout",
     "output_type": "stream",
     "text": "A35YFAFWP33C70\nA33XI8ZN4NZ0SQ\nA1ZG7VYH0DUEXW\nA1RXG8RE0SJ4LC\nAUDH0P4ZHJKS2\nA3BGIK3STL9345\nA2SDYTC2KXID0I\nAKMURQ1WQN9CX\nA29D1BMFCC7XA1\nA1RBPVK1MXHARJ\nA9N7QYMG6KIHD\nA1L8ERUX8LJG6K\nAMTTB8JUWRRM7\nATNP232YBYXN3\nA2LAKROAU2MVEN\nAE3XJ3B4K4B15\nA25BDZJ7E8I0PG\nA166A2M31CW2C7\nA3MAN5WHLXMJV4\nA2455EWYEN7OGF\nA1FA2AJUFESR5T\nA37MEXKALGBQWN\nA2EL86RL5S3QLK\nA1O2S71TYP1AFC\nA34K26B6Y2BQ2M\nARL02LF79QANB\nAY2U544TCVPMQ\nA218S9QMWS15U\nA1OF4LT1OZYTDN\nA3AK0PCM9V4TQZ\nA2CIGX8GOEE58M\nA2KVAZ7FH5KM8E\nA10WZYTR4O4V6S\nAVI7K876BV3QL\nANJYTNAHVAS1P\nA2GSSXKTPAEL6D\nA115PR5C0O03UJ\nA24DZU2LIWZQCG\nA24U1CVP9MPV24\nA2Y1AMYG74XRDO\nA1067MT5UGN8Z8\nA3F82HVRIPI02N\nA1R3W25JDAUQ09\nAEZLXX7A1JLYX\nA2GPMBGECD9TQY\nA2XUSD4DG9YHT9\nAYW18ODUQFXF\nA2BZYVAJTYIXJ3\nA38QM2WVQ7O9MF\nA3SS78KBXB2EWG\nA2Z11BHUBDVKMB\nA36470UBRH28GO\nA1WJQFUJFDCST5\nA23SGBJULXN5DO\nA19XS2I3H4JOJ8\nA1QR6I7UPY8XQJ\nA12J9J42MYQDRY\nA3PI57JJ35WVDG\nA2CEXG9VDKI9NP\nAWU5F5I4UYUW2\nA30OOETQPWFPHK\nA3IT3XD8AROSP4\nA3UY2GVCKC8LSL\nALVNMQMD3Q3ZE\nA20KPSS5V2KNLT\nA2FQRMIL3DSKI4\nA3MELYYGRJ61SX\nA28I7Y2NPDZTIN\nA3AONDX2461QRJ\nA2TDLLB8JTZGBN\nA11O7VHY5Y5QUX\nA3QLUERQCUXIPR\nA30HXTJPEL6HI4\nAP9WIQ4P78XLH\nA1ZM09IY4FG9O4\nAJPQEZBVJXVE9\nA2611MIM2KDWUR\nA2J7XOAS72YN0\nA1GIA6WCGRJRY7\nA2R794P3E8X0MK\nA1DGAZZZHY4FXG\nA1S0C6UI5XATJV\nA3SFNMTK31EBV1\nA1XUGKZF5D1OSQ\nA3F55JJCVTTCCW\nA1TISN027LH9AA\nAC2TZJY3V7YVU\nA38R7SIVV118KT\nA18B016RYNKY3U\nA10XYFXQYJKBXF\nA309P6D2ECOLH7\nA1QQMSG3KB5XS8\nA32S54OU6YX0RL\nA2O8CERFT62JTA\nA14CX1IUDSVFLL\nA212P51360T72C\nA7TUG10LNB586\nA2KJHPO5XPM3UJ\nA16LPX01HY8OYY\nAZIY6IFOS4CVC\nA1SS75GZE2AUOQ\nA2DF9O176OJW2Z\nAQAXDL1INQC9Q\nAAX1G2KA4ZD2N\nAEVU71Z2FDTUX\nANPTFK4AAFGA1\nA2GMQEIN03XWOD\nA3774HPOUKYTX7\nA7D1FSJZSM3MJ\nA5BMKZRGHNSRT\nA2XM6C78S9L8UG\nA1DZMDFI9U604W\nA33V0OTF3FNR2H\nA3LMI7ZDFO8JHR\nAW7J1S3K29XOA\nA2G9IZ3YY5SJY3\nA21XAH58ID4DP3\nA3ANNQ73J8M158\nA2I159VITLD19Y\nA33QVMUGJBEBUU\nA1HNTXZAIPFQNF\nA2ZH6W3O33PVJZ\nA1E4K9G6ZKPKX4\nAZ0C38Q5UJFT8\nA14U4WPDS8ITPQ\nA1VVEQOIHSSHX0\nA3ILHE9QEMS56D\nAWDBHQA8XK0G1\nA1R8A1ZKR80MRA\nA1TWZEOYQV4LGI\nA20X14OMRL0YPZ\nA1R0689JPSQ3OF\nA1BQEQF6HBD4OZ\nA1NQZSUQPL4K17\nADELW3TS04YY7\nAL33EEPXW7571\nA3EPQK7C1KO6P3\nA1HDFKT3ZGK25P\nATIWKEQ7WB1VH\nA3PNHCZVCBIEJ1\nA1792MNK5H7YWF\nA7G4JAR07S7DF\nA2JQTK2ARSX01R\nA17QFMPJP99EOL\nA3I9FTHSULHPYS\nA3OF9HAEZVBQ3G\nA32VLTWRJ1EP5T\nA38DC3BG1ZCVZ2\nA3G4SJREB8K0BG\nA128W22BIT8D9O\nAT1J2UIVT0X8E\nA2URTGY72HXIGG\nA3AM7D2UWBRS7Z\nASB8T0H7L99RF\nA3U3CCIR1ZXEOR\nA25D66AC4QUW2U\nA2Y5DDEPG81LLJ\nA21Y22J7Q0KSGN\nA2BCQMP2ZFDJ2P\nA4TE7LF9CEVGA\nA11N8D0L560PVJ\nA1LQCO66YHYIWL\nA236UOM7DF7J45\nA20QBFTIO0MOL2\nA3KYFEDDBCFQU1\nA25RGD7V8ACPBG\nA2H4HYDU6FFAMQ\nA312SMN11YLE66\nA3LJ0YDAVWSNV0\nA2V4L17P1BZAIC\nA1VIP6S8H2XXH7\nA3QY3I5O0STFGA\nA30715E868K7IR\nA2GFRYX2PIRT4S\nAF3TLR0FI08K0\nA2DB5PGPTMYVSD\nAWSCR2O3D6T87\nA3F7NONJ6GB64T\nA4CX7I79NKBQA\nA12IOD8IXOEL1P\nA2BRF0PMZFA19C\nA1G3TBNF8L2W7A\nACP5OSFS4WW3Y\nA193D9OQUVFSVT\nAZCM6LWBN0224\nA224B7BAQ0MZSN\nA2KI0FDBL0BC32\nA3JI3B5GTVA95F\nA3LMBJQC7MT34\nAFWKRID53R1XA\nA207O698ADORUH\nA19SITL733MYZ6\nA256FHXGSY0E5D\nAWN1PEZWRQSQ9\nA26X054UJOBN6K\nA3ELCV3K4JGRS3\nA2M2BNQ1XW3J4Y\nA33QXQVY6GU1FI\nAENW881YO2H8S\nATRFK99YXFVQU\nA20YGFCRNDTD6\nA2N4DD7IS7EI2D\nABUNAEPK8GV63\nA3MWR4VBKU7OQX\nA2BA9Y6VGW6WS1\nA31XNLA9REVGXL\nA2WJZD372YQK9M\nA2JH6SJZDJHZ9I\nA2BOUSPEKZYWDO\nA8KX1HFH8NE2Q\nA365SN61J4UNGR\nA2A9A811YTJUMZ\nA3ENEKASM9CUMS\nA1NFBKUYYVUYWF\nA2YAYHZYI7M3HD\nA1I9ZBV75AVWUS\nA15YUZ5RUNA6FI\nAVPKE76DJLWK6\nA16O794U4S9R4Z\nA1K5FQWAV30V23\nA2GZN7DE7UKJRU\nA16DELN8V1CH9R\nA2NZ7RMSBXESNI\nA2NJ7N8INZOB00\nA1Q5KU5RVDE67\nA2CK0OXMPOR9LE\nA19ZHL5Y6I7GCY\nA1BHTE8YN6EJGC\nA1YBX7P5PY8LL\nA269NM3WDHKGLW\nA3BPS4K97FAU7O\nA313BVKYTLV6Q0\nA1T56P6L5730HG\nA1GV3SF9AKA8BU\nA1BM57TUNAQIXM\nA29PB2C8XD8TVG\nA3LI11B9RGB73X\nA20IXK8ZV8N72H\nA2CFE6AZS73RNS\nA2B8HPIZDKYKDR\nA3B8TTNEL2OCAB\nA2SVJQBZOSOZDO\nAA9OTHJHXHM0I\nA2KBZ75HMJ7KVX\nA27FVH8VVIL20T\nA2YV1K020IV72E\nA36K11N6R2A108\nA1DJD0J0BTE1X8\nA26L91YL0GDGD8\nA2OO57WO30Z8T6\nA2OCP3UDPBH0ME\nA1FHS282JP487T\nAE837QZ9XU1UQ\nA1F0YN2ZBPQ9VG\nA3TIUBKMKNPIFL\nA20NITCOBY4775\nA7TI4X4LRGQA0\nA2KHV2D09JAWPC\nA2HGRSPR50ENHL\nAURYD2FH3FUOQ\nA2Y2OK6OZ0L2ZU\nAZKC2HLJOVL04\nA2VUTOND6FEZEA\nA1YJKLVJW1FE33\nA28GQ44QN9DIH1\nA2IXFVW8GE5NYE\nA16NAK9LY0HRJS\nAUK4KGOJP9F0H\nAY7WOX4UCIBU2\nA2PZ8MVVT6TQJM\nAB9EFDY7R7FHO\nACSZ7IOG3J5NR\nA12176C3392N51\nABFB6SB7ZPA3D\nA39QYYAATL2XFT\nA2TXWYY91LRGJG\nA3TAIEU191F1PU\nA1M5R7IYPKXPEI\nA1JPASJWRS7QMK\nA14PFRHG0A2YY9\nA3F3LNKCCXS42L\nA2ZUKYMM3YV6JN\nA231C53BFU0XG9\nAYALPYEQ512PP\nA3454T4PU9GJM0\nA2ZGRI5U43JKC4\nA3H7LONGSJ9384\nA3S3NLZV7A06QN\nA1WG3KVS2YR4G0\nAKRFNRKI1IMJ1\nA13Q8W0MU2Q928\nA3K4MDM191NKF6\nA1YNH3KJS5NHL1\nAISWQM71RW9A2\nA2OYWTFK9MCYJ1\nA2CKW83ERUX07J\nA1KHF6KTBO6X1P\nA3OYUJ6E6BJS4H\nA3QOU2GCG4LG56\nAACGKQ431VQSM\nA3LD1G3R5NOVYH\nA3HEJEVDXYX2K9\nA2PQURN85991PD\nA1JO6AY55FG7QU\nAYHNP14AUA4TS\nAAJEPFSQNC6X\nA2T5CROJ0FWIJY\nA3BY2WDCY8YLDE\nA163MRYD9B6X8O\nA1NAKFX8ENJCV2\nA378E14BT458LA\nA1I20G9FII2FN5\nA3C91LM2RYIEAB\nAWC0LS6HBM94C\nA2JA8QB8PGYGHJ\nA1GOJEDZM2CQTN\nA3N140VZ6HIUA5\nA34SUZWGLXIWM8\nA2A8HRBDYBV6XJ\nA3BOQDD3ZBROTE\nAOB02J217RI3R\nA13FT8BNX9UUP8\nA2WNW8A4MOR7T7\nAJMWITY1XT7H7\nAKFH16PLQSYHY\nA2VTRIPL7H0IZH\nA1IPD4WBT3A5GG\nA3R25SV8HUGML2\nA24MK3QPZ1V1L8\nA1V52AJSJLBIWV\nA1ONILGBGJ8Y5K\nA3K43RI91Y567E\nA1LU680QLKMSGU\nAY5O199V9M9O7\nAGVUHOBSCP6YC\nA31EWGHHCQ2XMZ\nA2W1C5PDHUF25O\nAO0CQ0WT4FT7T\nA2NG4XP1GHDRWC\nA3J2CI4J5V3MLP\nA2M6GFFEYJ5XP\nA2IZ2W58WQXPKH\nAKI26MOILD9LU\nA2G8UI423QZYJJ\nA2ZSDMCQ5P0BJJ\nAJVGW8ZY3SWE4\nAMCBA6BNEVO01\nAA8NOYG0AXRJO\nA177EXELDLWTWV\nAVXEDARJC5HLU\nA146RN7OPA1JIB\nA342WOUTH0TSUI\nA142HGTX0JO7YH\nAZZRIXMY4HN25\nAHZJB4VTLFCJ6\nA3GNQDFPZALU92\nA7NZ814Q5MX2R\nA357X6NIBOTHH0\nA2CWJRAEFZ44HU\nA2UIGDOLX5RV95\nA35DUEG88GCX5J\nAQIT84QHXF456\nALEJV7D94ZLHF\nA7XL1V3G7C2VV\nABOEYY9Y0PFRI\nA24I5N406D8R22\nA2YL64PU2DBHTB\nA2M5VW97GIYLHB\nA7R1OLLU1Z6RA\nA1L6PGLE7CIS12\nA1P8M5BKOTAA8I\nA2TDGWWPX6IMIZ\nA2S4YDJ9UGAXFQ\nA2OMY4DX7JQVU0\nA3JXXO7MKU8SNM\nA1OQ3KL56KMQSU\nA1RFMKXITDAOCX\nAZZ2WNZ181LSN\nANVAFB99K5RKP\nACDTQNYOT3GG8\nA2SWQM5X54P1O5\nA2S6QOCFC3EAYH\nA2SZGJMBK4LSJ1\nAT3C00TKZK13L\nABED2Q9MQNN2D\nA2PXJTMWGUE5DC\nA38Z10YT1VO5T6\nA2LPJG0FN6NGYZ\nA2T9WRHFRIVAFY\nAIY2D7A7DP4V3\nAUL3D2Y6Q7NSM\nA31Z5TPD8QKE26\nA393Z33TDFK4TZ\nA3J8Y94SGZ3R0E\nA2749DC85C9H0F\nA1ZHHL705SYZ1V\nA2QYPEWPAGGKLQ\nA2JPOXYZM5AJZZ\nA26OCU9PF393MC\nA2NFKOH8HAAL1P\nA1M28E133E3K5X\nA28Z4EOSSQAZM2\nA28G4QO0DRY8OZ\nA372F1FDPWXBY3\nA2YLK83DQ6PA5Y\nA35OLDOCJQBO38\nA10ZXERA24IG75\nAOAZMLP27GD81\nA2JCK494NV7TFX\nA2673M73FNHVB7\nARAW7YSZ6V450\nA2KFOOEQWGN0GK\nA11WC4G8LOMYQO\nA2D50KS58QB1BN\nAYUIMF5P6V7KD\nA1EITLFAMKA61U\nA3IJ7AQ6ZGVZIC\nACOKFBC75D5OR\nA3TK9GIX5SL4UQ\nA3IFGWZXI17R3D\nA375ULPGXB54IQ\nA2FWVVYTEI2TOG\nA36DDHDQ56N60C\nA1OD9OA9B34FL\nAXZU9N0EQ6NLF\nA1MT1OXZGY8RJ2\nARR1VG3SV6BLW\nA2SHG0MRU2A5VE\nADQKQCMH1ALS6\nA1QJ79SLW7NBX1\nA1TTGWAZ30MY7G\nA30QJF394U1VRY\nA3RTROKHB6J9B9\nAL56RWY5OMFCX\nA2D55FFIF66VP3\nA1DCA3FSX06H6F\nA2MCRVU8I9VNHG\nA1K8OTGLA7FQS0\nA1P8WL2QGA7WHE\nA1IV8V08K6S98Y\nA3DERWKA94Z5WY\nA1YGENVE7OI5JL\nA276JM9Q4946HH\nAGTV2SNFKXB11\nA29ERTCD6HF72I\nA27GWQRYBOKOLQ\nA215VSM181SC0F\nA4PFM9Z80RXUY\nA1K9WP8Q74E9G2\nA1ETJBNTO9ZWZ8\nA19DZAFFZEU6GN\nA13BTXTJQIXWTL\nA244267S3IML6R\nA3J2UG22S8BIW4\nAAOCGTXKZTC8H\nA3T0IC6VPU9NJY\nA18TCR555RWUZV\nA11LUY287K2MYF\nA9KLWB70I12U7\nAMG9Y1YLBTKIV\nA15781PHGW377Y\n"
    }
   ],
   "source": [
    "unique_turks = df['turkId'].unique()\n",
    "turk_ngram = []\n",
    "\n",
    "for turk in unique_turks:\n",
    "    print(turk)\n",
    "    targets = df[ df['turkId'] == turk ] ['target'].to_numpy()   # Get targets for first person.\n",
    "    turk_ngram.append( len(list(ngrams(first_targets, 500))) )"
   ]
  },
  {
   "cell_type": "code",
   "execution_count": 10,
   "metadata": {},
   "outputs": [
    {
     "data": {
      "text/plain": "[2734,\n 2734,\n 2734,\n 2734,\n 2734,\n 2734,\n 2734,\n 2734,\n 2734,\n 2734,\n 2734,\n 2734,\n 2734,\n 2734,\n 2734,\n 2734,\n 2734,\n 2734,\n 2734,\n 2734,\n 2734,\n 2734,\n 2734,\n 2734,\n 2734,\n 2734,\n 2734,\n 2734,\n 2734,\n 2734,\n 2734,\n 2734,\n 2734,\n 2734,\n 2734,\n 2734,\n 2734,\n 2734,\n 2734,\n 2734,\n 2734,\n 2734,\n 2734,\n 2734,\n 2734,\n 2734,\n 2734,\n 2734,\n 2734,\n 2734,\n 2734,\n 2734,\n 2734,\n 2734,\n 2734,\n 2734,\n 2734,\n 2734,\n 2734,\n 2734,\n 2734,\n 2734,\n 2734,\n 2734,\n 2734,\n 2734,\n 2734,\n 2734,\n 2734,\n 2734,\n 2734,\n 2734,\n 2734,\n 2734,\n 2734,\n 2734,\n 2734,\n 2734,\n 2734,\n 2734,\n 2734,\n 2734,\n 2734,\n 2734,\n 2734,\n 2734,\n 2734,\n 2734,\n 2734,\n 2734,\n 2734,\n 2734,\n 2734,\n 2734,\n 2734,\n 2734,\n 2734,\n 2734,\n 2734,\n 2734,\n 2734,\n 2734,\n 2734,\n 2734,\n 2734,\n 2734,\n 2734,\n 2734,\n 2734,\n 2734,\n 2734,\n 2734,\n 2734,\n 2734,\n 2734,\n 2734,\n 2734,\n 2734,\n 2734,\n 2734,\n 2734,\n 2734,\n 2734,\n 2734,\n 2734,\n 2734,\n 2734,\n 2734,\n 2734,\n 2734,\n 2734,\n 2734,\n 2734,\n 2734,\n 2734,\n 2734,\n 2734,\n 2734,\n 2734,\n 2734,\n 2734,\n 2734,\n 2734,\n 2734,\n 2734,\n 2734,\n 2734,\n 2734,\n 2734,\n 2734,\n 2734,\n 2734,\n 2734,\n 2734,\n 2734,\n 2734,\n 2734,\n 2734,\n 2734,\n 2734,\n 2734,\n 2734,\n 2734,\n 2734,\n 2734,\n 2734,\n 2734,\n 2734,\n 2734,\n 2734,\n 2734,\n 2734,\n 2734,\n 2734,\n 2734,\n 2734,\n 2734,\n 2734,\n 2734,\n 2734,\n 2734,\n 2734,\n 2734,\n 2734,\n 2734,\n 2734,\n 2734,\n 2734,\n 2734,\n 2734,\n 2734,\n 2734,\n 2734,\n 2734,\n 2734,\n 2734,\n 2734,\n 2734,\n 2734,\n 2734,\n 2734,\n 2734,\n 2734,\n 2734,\n 2734,\n 2734,\n 2734,\n 2734,\n 2734,\n 2734,\n 2734,\n 2734,\n 2734,\n 2734,\n 2734,\n 2734,\n 2734,\n 2734,\n 2734,\n 2734,\n 2734,\n 2734,\n 2734,\n 2734,\n 2734,\n 2734,\n 2734,\n 2734,\n 2734,\n 2734,\n 2734,\n 2734,\n 2734,\n 2734,\n 2734,\n 2734,\n 2734,\n 2734,\n 2734,\n 2734,\n 2734,\n 2734,\n 2734,\n 2734,\n 2734,\n 2734,\n 2734,\n 2734,\n 2734,\n 2734,\n 2734,\n 2734,\n 2734,\n 2734,\n 2734,\n 2734,\n 2734,\n 2734,\n 2734,\n 2734,\n 2734,\n 2734,\n 2734,\n 2734,\n 2734,\n 2734,\n 2734,\n 2734,\n 2734,\n 2734,\n 2734,\n 2734,\n 2734,\n 2734,\n 2734,\n 2734,\n 2734,\n 2734,\n 2734,\n 2734,\n 2734,\n 2734,\n 2734,\n 2734,\n 2734,\n 2734,\n 2734,\n 2734,\n 2734,\n 2734,\n 2734,\n 2734,\n 2734,\n 2734,\n 2734,\n 2734,\n 2734,\n 2734,\n 2734,\n 2734,\n 2734,\n 2734,\n 2734,\n 2734,\n 2734,\n 2734,\n 2734,\n 2734,\n 2734,\n 2734,\n 2734,\n 2734,\n 2734,\n 2734,\n 2734,\n 2734,\n 2734,\n 2734,\n 2734,\n 2734,\n 2734,\n 2734,\n 2734,\n 2734,\n 2734,\n 2734,\n 2734,\n 2734,\n 2734,\n 2734,\n 2734,\n 2734,\n 2734,\n 2734,\n 2734,\n 2734,\n 2734,\n 2734,\n 2734,\n 2734,\n 2734,\n 2734,\n 2734,\n 2734,\n 2734,\n 2734,\n 2734,\n 2734,\n 2734,\n 2734,\n 2734,\n 2734,\n 2734,\n 2734,\n 2734,\n 2734,\n 2734,\n 2734,\n 2734,\n 2734,\n 2734,\n 2734,\n 2734,\n 2734,\n 2734,\n 2734,\n 2734,\n 2734,\n 2734,\n 2734,\n 2734,\n 2734,\n 2734,\n 2734,\n 2734,\n 2734,\n 2734,\n 2734,\n 2734,\n 2734,\n 2734,\n 2734,\n 2734,\n 2734,\n 2734,\n 2734,\n 2734,\n 2734,\n 2734,\n 2734,\n 2734,\n 2734,\n 2734,\n 2734,\n 2734,\n 2734,\n 2734,\n 2734,\n 2734,\n 2734,\n 2734,\n 2734,\n 2734,\n 2734,\n 2734,\n 2734,\n 2734,\n 2734,\n 2734,\n 2734,\n 2734,\n 2734,\n 2734,\n 2734,\n 2734,\n 2734,\n 2734,\n 2734,\n 2734,\n 2734,\n 2734,\n 2734,\n 2734,\n 2734,\n 2734,\n 2734,\n 2734,\n 2734,\n 2734,\n 2734,\n 2734,\n 2734,\n 2734,\n 2734,\n 2734,\n 2734,\n 2734,\n 2734,\n 2734,\n 2734,\n 2734,\n 2734,\n 2734,\n 2734,\n 2734,\n 2734,\n 2734,\n 2734,\n 2734,\n 2734,\n 2734,\n 2734,\n 2734,\n 2734,\n 2734,\n 2734,\n 2734,\n 2734,\n 2734,\n 2734,\n 2734]"
     },
     "execution_count": 10,
     "metadata": {},
     "output_type": "execute_result"
    }
   ],
   "source": [
    "turk_ngram"
   ]
  },
  {
   "cell_type": "code",
   "execution_count": 11,
   "metadata": {},
   "outputs": [
    {
     "name": "stdout",
     "output_type": "stream",
     "text": "ID1\nID2\nID3\nID4\nID5\nID6\nID7\nID8\nID9\nID10\nID11\nID12\nID13\nID14\nID15\nID16\nID17\nID18\n"
    }
   ],
   "source": [
    "unique_turks = df_lab['turkId'].unique()\n",
    "lab_ngram = []\n",
    "\n",
    "for turk in unique_turks:\n",
    "    print(turk)\n",
    "    targets = df_lab[ df_lab['turkId'] == turk ] ['target'].to_numpy()   # Get targets for first person.\n",
    "    lab_ngram.append( list(ngrams(first_targets, 500)) )"
   ]
  },
  {
   "cell_type": "code",
   "execution_count": 12,
   "metadata": {},
   "outputs": [
    {
     "data": {
      "text/plain": "port-0',\n  'saved-port-0',\n  'saved-port-0',\n  'saved-port-0',\n  'saved-port-0',\n  'risk-return',\n  'risk-return',\n  'risk-return',\n  'risk-return',\n  'risk-return',\n  'risk-return',\n  'risk-return',\n  'risk-return',\n  'risk-return',\n  'risk-return',\n  'risk-return',\n  'risk-return',\n  'risk-return',\n  'risk-return',\n  'risk-return',\n  '[id=\"alloc-slider-risk-2\"]>svg',\n  '[id=\"alloc-slider-risk-2\"]>svg',\n  '[id=\"alloc-slider-risk-2\"]>svg',\n  '[id=\"alloc-slider-risk-2\"]>svg',\n  '[id=\"alloc-slider-risk-2\"]>svg',\n  '[id=\"alloc-slider-risk-2\"]>svg'),\n ('[id=\"alloc-slider-risk-1\"]>svg>g>circle',\n  '[id=\"alloc-slider-risk-1\"]>svg>g>circle',\n  '[id=\"alloc-slider-risk-1\"]>svg>g>circle',\n  '[id=\"alloc-slider-risk-1\"]>svg>g>circle',\n  '[id=\"alloc-slider-risk-1\"]>svg>g>circle',\n  '[id=\"alloc-slider-risk-1\"]>svg>g>circle',\n  '[id=\"alloc-slider-risk-1\"]>svg>g>circle',\n  '[id=\"alloc-slider-risk-1\"]>svg>g>circle',\n  '[id=\"alloc-slider-risk-1\"]>svg>g>circle',\n  '[id=\"alloc-slider-risk-1\"]>svg>g>circle',\n  '[id=\"alloc-slider-risk-1\"]>svg>g>circle',\n  '[id=\"alloc-slider-risk-1\"]>svg',\n  '[id=\"alloc-slider-risk-1\"]>svg',\n  '[id=\"alloc-slider-risk-1\"]>svg',\n  '[id=\"alloc-slider-risk-1\"]>svg',\n  '[id=\"alloc-slider-risk-1\"]>svg',\n  '[id=\"alloc-slider-risk-1\"]>svg',\n  '[id=\"alloc-slider-risk-1\"]>svg',\n  '[id=\"alloc-slider-risk-1\"]>svg',\n  '[id=\"alloc-slider-risk-1\"]>svg',\n  '[id=\"alloc-slider-risk-1\"]>svg',\n  '[id=\"alloc-slider-risk-1\"]>svg',\n  '[id=\"alloc-slider-risk-1\"]>svg',\n  '[id=\"alloc-slider-risk-1\"]>svg',\n  '[id=\"alloc-slider-risk-1\"]>svg',\n  '[id=\"alloc-slider-risk-2\"]>svg>g>circle',\n  '[id=\"alloc-slider-risk-2\"]>svg>g>circle',\n  '[id=\"alloc-slider-risk-2\"]>svg>g>circle',\n  '[id=\"alloc-slider-risk-2\"]>svg>g>circle',\n  '[id=\"alloc-slider-risk-2\"]>svg>g>circle',\n  '[id=\"alloc-slider-risk-2\"]>svg>g>circle',\n  '[id=\"alloc-slider-risk-2\"]>svg>g>circle',\n  '[id=\"alloc-slider-risk-2\"]>svg>g>circle',\n  '[id=\"alloc-slider-risk-2\"]>svg',\n  '[id=\"alloc-slider-risk-2\"]>svg>g>circle',\n  '[id=\"alloc-slider-risk-2\"]>svg>g>circle',\n  '[id=\"alloc-slider-risk-2\"]>svg',\n  '[id=\"alloc-slider-risk-2\"]>svg',\n  '[id=\"alloc-slider-risk-2\"]>svg',\n  '[id=\"alloc-slider-risk-2\"]>svg',\n  '[id=\"alloc-slider-risk-2\"]>svg',\n  '[id=\"alloc-slider-risk-2\"]>svg',\n  '[id=\"alloc-slider-risk-2\"]>svg',\n  '[id=\"alloc-slider-risk-2\"]>svg',\n  '[id=\"alloc-slider-risk-2\"]>svg',\n  '[id=\"alloc-slider-risk-2\"]>svg',\n  '[id=\"alloc-slider-risk-2\"]>svg',\n  '[id=\"alloc-slider-risk-2\"]>svg',\n  '[id=\"alloc-slider-risk-2\"]>svg',\n  '[id=\"alloc-slider-risk-1\"]>svg>g>circle',\n  '[id=\"alloc-slider-risk-1\"]>svg>g>circle',\n  '[id=\"alloc-slider-risk-1\"]>svg>g>circle',\n  '[id=\"alloc-slider-risk-1\"]>svg>g>circle',\n  '[id=\"alloc-slider-risk-1\"]>svg>g>circle',\n  '[id=\"alloc-slider-risk-1\"]>svg>g>circle',\n  '[id=\"alloc-slider-risk-1\"]>svg>g>circle',\n  '[id=\"alloc-slider-risk-1\"]>svg>g>circle',\n  '[id=\"alloc-slider-risk-1\"]>svg',\n  '[id=\"alloc-slider-risk-1\"]>svg',\n  '[id=\"alloc-slider-risk-1\"]>svg',\n  '[id=\"alloc-slider-risk-1\"]>svg',\n  '[id=\"alloc-slider-risk-1\"]>svg',\n  '[id=\"alloc-slider-risk-1\"]>svg',\n  '[id=\"alloc-slider-risk-1\"]>svg',\n  'alloc-slider-risk-1',\n  'alloc-slider-risk-1',\n  'alloc-slider-risk-1',\n  'alloc-slider-risk-1',\n  'alloc-slider-risk-1',\n  'alloc-slider-risk-1',\n  'alloc-slider-risk-1',\n  '[id=\"alloc-slider-risk-2\"]>svg',\n  '[id=\"alloc-slider-risk-2\"]>svg',\n  '[id=\"alloc-slider-risk-2\"]>svg',\n  '[id=\"alloc-slider-risk-2\"]>svg',\n  '[id=\"alloc-slider-risk-2\"]>svg',\n  '[id=\"alloc-slider-risk-2\"]>svg',\n  '[id=\"alloc-slider-risk-2\"]>svg',\n  '[id=\"alloc-slider-risk-2\"]>svg',\n  '[id=\"alloc-slider-risk-2\"]>svg',\n  '[id=\"alloc-slider-risk-2\"]>svg',\n  '[id=\"alloc-slider-risk-2\"]>svg',\n  '[id=\"alloc-slider-risk-2\"]>svg',\n  '[id=\"alloc-slider-risk-2\"]>svg',\n  '[id=\"alloc-slider-risk-2\"]>svg',\n  '[id=\"alloc-slider-risk-2\"]>svg',\n  '[id=\"alloc-slider-risk-2\"]>svg',\n  '[id=\"alloc-slider-risk-2\"]>svg',\n  '[id=\"alloc-slider-risk-2\"]>svg',\n  '[id=\"alloc-slider-risk-2\"]>svg',\n  '[id=\"alloc-slider-risk-2\"]>svg',\n  '[id=\"alloc-slider-risk-2\"]>svg',\n  '[id=\"alloc-slider-risk-2\"]>svg',\n  '[id=\"alloc-slider-risk-2\"]>svg',\n  '[id=\"alloc-slider-risk-2\"]>svg',\n  '[id=\"alloc-slider-risk-2\"]>svg',\n  '[id=\"alloc-slider-risk-2\"]>svg',\n  '[id=\"alloc-slider-risk-2\"]>svg',\n  '[id=\"alloc-slider-risk-2\"]>svg',\n  '[id=\"alloc-slider-risk-2\"]>svg',\n  '[id=\"alloc-slider-risk-2\"]>svg',\n  '[id=\"alloc-slider-risk-2\"]>svg',\n  '[id=\"alloc-slider-risk-2\"]>svg',\n  '[id=\"portfolio-selection\"]>div:nth-child(1)>div>div:nth-child(1)',\n  '[id=\"portfolio-selection\"]>div:nth-child(1)>div>div:nth-child(1)',\n  '[id=\"portfolio-selection\"]>div:nth-child(1)>div>div:nth-child(1)',\n  '[id=\"alloc-slider-risk-4\"]>svg>g>circle',\n  '[id=\"alloc-slider-risk-4\"]>svg>g>circle',\n  '[id=\"alloc-slider-risk-4\"]>svg>g>circle',\n  '[id=\"alloc-slider-risk-4\"]>svg',\n  '[id=\"alloc-slider-risk-4\"]>svg>g>circle',\n  '[id=\"alloc-slider-risk-4\"]>svg>g>circle',\n  '[id=\"alloc-slider-risk-4\"]>svg>g>circle',\n  '[id=\"alloc-slider-risk-4\"]>svg>g>circle',\n  '[id=\"alloc-slider-risk-4\"]>svg>g>circle',\n  '[id=\"alloc-slider-risk-4\"]>svg>g>circle',\n  '[id=\"alloc-slider-risk-4\"]>svg>g>circle',\n  '[id=\"alloc-slider-risk-4\"]>svg>g>circle',\n  '[id=\"alloc-slider-risk-4\"]>svg>g>circle',\n  '[id=\"alloc-slider-risk-4\"]>svg>g>circle',\n  '[id=\"alloc-slider-risk-4\"]>svg>g>circle',\n  '[id=\"alloc-slider-risk-4\"]>svg>g>circle',\n  '[id=\"alloc-slider-risk-4\"]>svg>g>circle',\n  '[id=\"alloc-slider-risk-4\"]>svg>g>circle',\n  '[id=\"alloc-slider-risk-4\"]>svg>g>circle',\n  '[id=\"alloc-slider-risk-4\"]>svg>g>circle',\n  '[id=\"portfolio-selection\"]>div:nth-child(1)>div>div:nth-child(1)>div:nth-child(10)>div>button',\n  '[id=\"portfolio-selection\"]>div:nth-child(1)>div>div:nth-child(1)>div:nth-child(10)>div>button',\n  '[id=\"portfolio-selection\"]>div:nth-child(1)>div>div:nth-child(1)>div:nth-child(10)>div>button',\n  '[id=\"portfolio-selection\"]>div:nth-child(1)>div>div:nth-child(1)>div:nth-child(10)>div>button',\n  '[id=\"portfolio-selection\"]>div:nth-child(1)>div>div:nth-child(1)>div:nth-child(10)>div>button',\n  '[id=\"portfolio-selection\"]>div:nth-child(1)>div>div:nth-child(1)>div:nth-child(10)>div>button',\n  '[id=\"portfolio-selection\"]>div:nth-child(1)>div>div:nth-child(1)>div:nth-child(10)>div>button',\n  '[id=\"portfolio-selection\"]>div:nth-child(1)>div>div:nth-child(1)>div:nth-child(10)>div>button',\n  '[id=\"portfolio-selection\"]>div:nth-child(1)>div>div:nth-child(1)>div:nth-child(10)>div>button',\n  '[id=\"alloc-slider-risk-0\"]>svg>g>circle',\n  '[id=\"alloc-slider-risk-0\"]>svg>g>circle',\n  '[id=\"alloc-slider-risk-0\"]>svg>g>circle',\n  '[id=\"alloc-slider-risk-0\"]>svg>g>circle',\n  '[id=\"alloc-slider-risk-0\"]>svg>g>circle',\n  '[id=\"alloc-slider-risk-0\"]>svg>g>circle',\n  '[id=\"alloc-slider-risk-0\"]>svg>g>circle',\n  '[id=\"alloc-slider-risk-0\"]>svg>g>circle',\n  '[id=\"alloc-slider-risk-0\"]>svg>g>circle',\n  '[id=\"alloc-slider-risk-0\"]>svg>g>circle',\n  '[id=\"alloc-slider-risk-0\"]>svg>g>circle',\n  '[id=\"alloc-slider-risk-0\"]>svg>g>circle',\n  '[id=\"alloc-slider-risk-0\"]>svg>g>circle',\n  '[id=\"alloc-slider-risk-0\"]>svg>g>circle',\n  '[id=\"alloc-slider-risk-0\"]>svg>g>circle',\n  '[id=\"alloc-slider-risk-0\"]>svg>g>circle',\n  '[id=\"alloc-slider-risk-0\"]>svg>g>circle',\n  '[id=\"alloc-slider-risk-0\"]>svg>g>circle',\n  '[id=\"alloc-slider-risk-0\"]>svg>g>circle',\n  '[id=\"alloc-slider-risk-1\"]>svg>g>circle',\n  '[id=\"alloc-slider-risk-1\"]>svg>g>circle',\n  '[id=\"alloc-slider-risk-1\"]>svg>g>circle',\n  '[id=\"alloc-slider-risk-1\"]>svg>g>circle',\n  '[id=\"alloc-slider-risk-1\"]>svg>g>circle',\n  '[id=\"alloc-slider-risk-1\"]>svg>g>circle',\n  '[id=\"alloc-slider-risk-1\"]>svg>g>circle',\n  '[id=\"alloc-slider-risk-1\"]>svg>g>circle',\n  '[id=\"alloc-slider-risk-1\"]>svg',\n  '[id=\"alloc-slider-risk-1\"]>svg>g>circle',\n  '[id=\"alloc-slider-risk-1\"]>svg>g>circle',\n  '[id=\"alloc-slider-risk-1\"]>svg',\n  '[id=\"alloc-slider-risk-1\"]>svg',\n  '[id=\"alloc-slider-risk-1\"]>svg',\n  '[id=\"alloc-slider-risk-1\"]>svg',\n  '[id=\"alloc-slider-risk-1\"]>svg',\n  '[id=\"alloc-slider-risk-1\"]>svg',\n  '[id=\"alloc-slider-risk-1\"]>svg',\n  '[id=\"alloc-slider-risk-1\"]>svg',\n  '[id=\"alloc-slider-risk-1\"]>svg',\n  '[id=\"alloc-slider-risk-1\"]>svg',\n  '[id=\"alloc-slider-risk-1\"]>svg',\n  '[id=\"alloc-slider-risk-1\"]>svg',\n  '[id=\"alloc-slider-risk-1\"]>svg',\n  '[id=\"alloc-slider-risk-1\"]>svg',\n  '[id=\"alloc-slider-risk-1\"]>svg',\n  '[id=\"alloc-slider-risk-1\"]>svg',\n  '[id=\"alloc-slider-risk-1\"]>svg',\n  '[id=\"alloc-slider-risk-1\"]>svg',\n  '[id=\"alloc-slider-risk-1\"]>svg',\n  '[id=\"alloc-slider-risk-1\"]>svg',\n  '[id=\"alloc-slider-risk-1\"]>svg',\n  '[id=\"alloc-slider-risk-1\"]>svg',\n  '[id=\"alloc-slider-risk-1\"]>svg',\n  '[id=\"alloc-slider-risk-1\"]>svg',\n  '[id=\"alloc-slider-risk-1\"]>svg',\n  '[id=\"alloc-slider-risk-1\"]>svg',\n  '[id=\"alloc-slider-risk-1\"]>svg',\n  '[id=\"alloc-slider-risk-4\"]>svg>g>circle',\n  '[id=\"alloc-slider-risk-4\"]>svg>g>circle',\n  '[id=\"alloc-slider-risk-4\"]>svg>g>circle',\n  '[id=\"alloc-slider-risk-4\"]>svg>g>circle',\n  '[id=\"alloc-slider-risk-4\"]>svg>g>circle',\n  '[id=\"alloc-slider-risk-4\"]>svg>g>circle',\n  '[id=\"alloc-slider-risk-4\"]>svg>g>circle',\n  '[id=\"alloc-slider-risk-4\"]>svg>g>circle',\n  '[id=\"alloc-slider-risk-4\"]>svg>g>circle',\n  '[id=\"alloc-slider-risk-4\"]>svg>g>circle',\n  '[id=\"alloc-slider-risk-4\"]>svg>g>circle',\n  '[id=\"alloc-slider-risk-4\"]>svg>g>circle',\n  '[id=\"alloc-slider-risk-0\"]>svg>g>circle',\n  '[id=\"alloc-slider-risk-0\"]>svg>g>circle',\n  '[id=\"alloc-slider-risk-0\"]>svg>g>circle',\n  '[id=\"alloc-slider-risk-0\"]>svg>g>circle',\n  '[id=\"alloc-slider-risk-0\"]>svg>g>circle',\n  '[id=\"alloc-slider-risk-0\"]>svg>g>circle',\n  '[id=\"alloc-slider-risk-0\"]>svg>g>circle',\n  '[id=\"alloc-slider-risk-0\"]>svg>g>circle',\n  '[id=\"alloc-slider-risk-0\"]>svg>g>circle',\n  '[id=\"alloc-slider-risk-0\"]>svg>g>circle',\n  '[id=\"alloc-slider-risk-0\"]>svg>g>circle',\n  '[id=\"alloc-slider-risk-0\"]>svg>g>circle',\n  '[id=\"alloc-slider-risk-0\"]>svg>g>circle',\n  '[id=\"alloc-slider-risk-0\"]>svg>g>circle',\n  '[id=\"alloc-slider-risk-0\"]>svg>g>circle',\n  '[id=\"alloc-slider-risk-0\"]>svg>g>circle',\n  '[id=\"alloc-slider-risk-0\"]>svg>g>circle',\n  '[id=\"alloc-slider-risk-0\"]>svg>g>circle',\n  '[id=\"alloc-slider-risk-0\"]>svg>g>circle',\n  '[id=\"alloc-slider-risk-0\"]>svg>g>circle',\n  '[id=\"alloc-slider-risk-1\"]>svg>g>circle',\n  '[id=\"alloc-slider-risk-1\"]>svg>g>circle',\n  '[id=\"alloc-slider-risk-1\"]>svg>g>circle',\n  '[id=\"alloc-slider-risk-1\"]>svg>g>circle',\n  '[id=\"alloc-slider-risk-1\"]>svg>g>circle',\n  '[id=\"alloc-slider-risk-1\"]>svg>g>circle',\n  '[id=\"alloc-slider-risk-1\"]>svg>g>circle',\n  '[id=\"alloc-slider-risk-1\"]>svg>g>circle',\n  '[id=\"alloc-slider-risk-1\"]>svg>g>circle',\n  '[id=\"alloc-slider-risk-1\"]>svg>g>circle',\n  '[id=\"alloc-slider-risk-1\"]>svg>g>circle',\n  '[id=\"alloc-slider-risk-1\"]>svg>g>circle',\n  '[id=\"alloc-slider-risk-1\"]>svg>g>circle',\n  '[id=\"alloc-slider-risk-0\"]>svg>g>circle',\n  '[id=\"alloc-slider-risk-0\"]>svg>g>circle',\n  '[id=\"alloc-slider-risk-0\"]>svg>g>circle',\n  '[id=\"alloc-slider-risk-0\"]>svg>g>circle',\n  '[id=\"alloc-slider-risk-0\"]>svg>g>circle',\n  '[id=\"alloc-slider-risk-0\"]>svg>g>circle',\n  '[id=\"alloc-slider-risk-0\"]>svg>g>circle',\n  '[id=\"alloc-slider-risk-0\"]>svg>g>circle',\n  '[id=\"alloc-slider-risk-0\"]>svg>g>circle',\n  '[id=\"alloc-slider-risk-0\"]>svg>g>circle',\n  '[id=\"alloc-slider-risk-0\"]>svg>g>circle',\n  '[id=\"alloc-slider-risk-0\"]>svg',\n  '[id=\"alloc-slider-risk-0\"]>svg',\n  '[id=\"alloc-slider-risk-0\"]>svg',\n  '[id=\"alloc-slider-risk-0\"]>svg',\n  '[id=\"alloc-slider-risk-0\"]>svg',\n  '[id=\"alloc-slider-risk-0\"]>svg',\n  '[id=\"alloc-slider-risk-0\"]>svg',\n  '[id=\"alloc-slider-risk-0\"]>svg',\n  '[id=\"alloc-slider-risk-0\"]>svg',\n  '[id=\"alloc-slider-risk-0\"]>svg',\n  '[id=\"alloc-slider-risk-0\"]>svg',\n  '[id=\"alloc-slider-risk-0\"]>svg',\n  '[id=\"alloc-slider-risk-0\"]>svg',\n  '[id=\"alloc-slider-risk-0\"]>svg',\n  '[id=\"alloc-slider-risk-0\"]>svg',\n  '[id=\"alloc-slider-risk-0\"]>svg',\n  '[id=\"alloc-slider-risk-0\"]>svg',\n  '[id=\"alloc-slider-risk-0\"]>svg',\n  '[id=\"alloc-slider-risk-0\"]>svg',\n  '[id=\"alloc-slider-risk-0\"]>svg',\n  '[id=\"alloc-slider-risk-0\"]>svg',\n  '[id=\"alloc-slider-risk-1\"]>svg>g>circle',\n  '[id=\"alloc-slider-risk-1\"]>svg>g>circle',\n  '[id=\"alloc-slider-risk-1\"]>svg>g>circle',\n  '[id=\"alloc-slider-risk-1\"]>svg>g>circle',\n  '[id=\"alloc-slider-risk-1\"]>svg>g>circle',\n  '[id=\"alloc-slider-risk-1\"]>svg>g>circle',\n  '[id=\"alloc-slider-risk-1\"]>svg',\n  '[id=\"alloc-slider-risk-1\"]>svg>g>circle',\n  '[id=\"alloc-slider-risk-1\"]>svg>g>circle',\n  '[id=\"alloc-slider-risk-1\"]>svg>g>circle',\n  '[id=\"alloc-slider-risk-1\"]>svg>g>circle',\n  '[id=\"alloc-slider-risk-1\"]>svg>g>circle',\n  '[id=\"alloc-slider-risk-1\"]>svg>g>circle',\n  '[id=\"alloc-slider-risk-1\"]>svg>g>circle',\n  '[id=\"alloc-slider-risk-0\"]>svg>g>circle',\n  '[id=\"alloc-slider-risk-0\"]>svg>g>circle',\n  '[id=\"alloc-slider-risk-0\"]>svg>g>circle',\n  '[id=\"alloc-slider-risk-0\"]>svg>g>circle',\n  '[id=\"alloc-slider-risk-0\"]>svg>g>circle',\n  '[id=\"alloc-slider-risk-0\"]>svg>g>circle',\n  '[id=\"alloc-slider-risk-0\"]>svg>g>circle',\n  '[id=\"alloc-slider-risk-0\"]>svg>g>circle',\n  '[id=\"alloc-slider-risk-0\"]>svg>g>circle',\n  '[id=\"alloc-slider-risk-0\"]>svg>g>circle',\n  '[id=\"alloc-slider-risk-0\"]>svg>g>circle',\n  '[id=\"alloc-slider-risk-0\"]>svg>g>circle',\n  '[id=\"alloc-slider-risk-0\"]>svg',\n  '[id=\"alloc-slider-risk-0\"]>svg',\n  '[id=\"alloc-slider-risk-0\"]>svg',\n  '[id=\"alloc-slider-risk-0\"]>svg',\n  '[id=\"alloc-slider-risk-0\"]>svg',\n  '[id=\"alloc-slider-risk-0\"]>svg',\n  '[id=\"alloc-slider-risk-0\"]>svg',\n  '[id=\"alloc-slider-risk-0\"]>svg',\n  '[id=\"alloc-slider-risk-0\"]>svg',\n  '[id=\"alloc-slider-risk-0\"]>svg',\n  '[id=\"alloc-slider-risk-0\"]>svg',\n  '[id=\"alloc-slider-risk-0\"]>svg',\n  '[id=\"alloc-slider-risk-4\"]>svg>g>circle',\n  '[id=\"alloc-slider-risk-4\"]>svg>g>circle',\n  '[id=\"alloc-slider-risk-4\"]>svg>g>circle',\n  '[id=\"alloc-slider-risk-4\"]>svg>g>circle',\n  '[id=\"alloc-slider-risk-4\"]>svg>g>circle',\n  '[id=\"alloc-slider-risk-4\"]>svg>g>circle',\n  '[id=\"alloc-slider-risk-4\"]>svg>g>circle',\n  '[id=\"alloc-slider-risk-4\"]>svg>g>circle',\n  '[id=\"alloc-slider-risk-4\"]>svg>g>circle',\n  '[id=\"alloc-slider-risk-4\"]>svg>g>circle',\n  '[id=\"alloc-slider-risk-4\"]>svg>g>circle',\n  '[id=\"alloc-slider-risk-4\"]>svg>g>circle',\n  '[id=\"alloc-slider-risk-4\"]>svg>g>circle',\n  '[id=\"alloc-slider-risk-4\"]>svg>g>circle',\n  '[id=\"alloc-slider-risk-4\"]>svg>g>circle',\n  '[id=\"alloc-slider-risk-1\"]>svg>g>circle',\n  '[id=\"alloc-slider-risk-1\"]>svg>g>circle',\n  '[id=\"alloc-slider-risk-1\"]>svg>g>circle',\n  '[id=\"alloc-slider-risk-1\"]>svg>g>circle',\n  '[id=\"alloc-slider-risk-1\"]>svg>g>circle',\n  '[id=\"alloc-slider-risk-1\"]>svg>g>circle',\n  '[id=\"alloc-slider-risk-1\"]>svg>g>circle',\n  '[id=\"alloc-slider-risk-1\"]>svg>g>circle',\n  '[id=\"alloc-slider-risk-1\"]>svg>g>circle',\n  '[id=\"alloc-slider-risk-1\"]>svg>g>circle',\n  '[id=\"alloc-slider-risk-1\"]>svg>g>circle',\n  '[id=\"alloc-slider-risk-1\"]>svg>g>circle',\n  '[id=\"alloc-slider-risk-1\"]>svg',\n  '[id=\"alloc-slider-risk-1\"]>svg',\n  '[id=\"alloc-slider-risk-1\"]>svg',\n  '[id=\"alloc-slider-risk-1\"]>svg',\n  '[id=\"alloc-slider-risk-1\"]>svg',\n  '[id=\"alloc-slider-risk-1\"]>svg',\n  '[id=\"alloc-slider-risk-1\"]>svg',\n  '[id=\"alloc-slider-risk-1\"]>svg',\n  '[id=\"alloc-slider-risk-1\"]>svg',\n  '[id=\"alloc-slider-risk-0\"]>svg>g>circle',\n  '[id=\"alloc-slider-risk-0\"]>svg>g>circle',\n  '[id=\"alloc-slider-risk-0\"]>svg>g>circle',\n  '[id=\"alloc-slider-risk-0\"]>svg>g>circle',\n  '[id=\"alloc-slider-risk-0\"]>svg>g>circle',\n  '[id=\"alloc-slider-risk-0\"]>svg>g>circle',\n  '[id=\"alloc-slider-risk-0\"]>svg>g>circle',\n  '[id=\"alloc-slider-risk-0\"]>svg>g>circle',\n  '[id=\"alloc-slider-risk-0\"]>svg>g>circle',\n  '[id=\"alloc-slider-risk-0\"]>svg>g>circle',\n  '[id=\"alloc-slider-risk-0\"]>svg>g>circle',\n  '[id=\"alloc-slider-risk-0\"]>svg>g>circle',\n  '[id=\"alloc-slider-risk-0\"]>svg>g>circle',\n  '[id=\"alloc-slider-risk-0\"]>svg>g>circle',\n  '[id=\"alloc-slider-risk-0\"]>svg>g>circle',\n  '[id=\"alloc-slider-risk-0\"]>svg>g>circle',\n  '[id=\"alloc-slider-risk-0\"]>svg>g>circle',\n  '[id=\"alloc-slider-risk-0\"]>svg',\n  '[id=\"alloc-slider-risk-0\"]>svg',\n  '[id=\"alloc-slider-risk-0\"]>svg',\n  '[id=\"alloc-slider-risk-0\"]>svg',\n  '[id=\"alloc-slider-risk-0\"]>svg',\n  '[id=\"alloc-slider-risk-0\"]>svg',\n  '[id=\"alloc-slider-risk-0\"]>svg',\n  '[id=\"alloc-slider-risk-0\"]>svg',\n  '[id=\"alloc-slider-risk-0\"]>svg',\n  '[id=\"alloc-slider-risk-0\"]>svg',\n  '[id=\"alloc-slider-risk-0\"]>svg',\n  '[id=\"alloc-slider-risk-0\"]>svg',\n  '[id=\"alloc-slider-risk-0\"]>svg',\n  '[id=\"alloc-slider-risk-0\"]>svg',\n  '[id=\"alloc-slider-risk-0\"]>svg',\n  '[id=\"alloc-slider-risk-0\"]>svg',\n  '[id=\"alloc-slider-risk-0\"]>svg',\n  '[id=\"alloc-slider-risk-0\"]>svg',\n  '[id=\"alloc-slider-risk-0\"]>svg',\n  '[id=\"alloc-slider-risk-0\"]>svg',\n  '[id=\"alloc-slider-risk-0\"]>svg',\n  '[id=\"alloc-slider-risk-0\"]>svg',\n  '[id=\"alloc-slider-risk-4\"]>svg',\n  '[id=\"alloc-slider-risk-4\"]>svg',\n  '[id=\"alloc-slider-risk-4\"]>svg',\n  '[id=\"alloc-slider-risk-4\"]>svg',\n  '[id=\"alloc-slider-risk-4\"]>svg',\n  '[id=\"alloc-slider-risk-4\"]>svg',\n  '[id=\"alloc-slider-risk-4\"]>svg',\n  '[id=\"alloc-slider-risk-4\"]>svg',\n  '[id=\"alloc-slider-risk-4\"]>svg',\n  '[id=\"alloc-slider-risk-4\"]>svg',\n  '[id=\"alloc-slider-risk-4\"]>svg',\n  '[id=\"alloc-slider-risk-4\"]>svg',\n  '[id=\"alloc-slider-risk-4\"]>svg',\n  '[id=\"alloc-slider-risk-4\"]>svg',\n  '[id=\"alloc-slider-risk-4\"]>svg',\n  '[id=\"alloc-slider-risk-4\"]>svg',\n  '[id=\"alloc-slider-risk-4\"]>svg',\n  '[id=\"alloc-slider-risk-4\"]>svg',\n  '[id=\"alloc-slider-risk-4\"]>svg',\n  '[id=\"alloc-slider-risk-4\"]>svg',\n  '[id=\"alloc-slider-risk-4\"]>svg',\n  '[id=\"alloc-slider-risk-4\"]>svg',\n  '[id=\"alloc-slider-risk-4\"]>svg',\n  '[id=\"alloc-slider-risk-4\"]>svg',\n  '[id=\"alloc-slider-risk-4\"]>svg',\n  '[id=\"alloc-slider-risk-4\"]>svg',\n  '[id=\"alloc-slider-risk-4\"]>svg>g>circle',\n  '[id=\"alloc-slider-risk-4\"]>svg>g>circle',\n  '[id=\"alloc-slider-risk-4\"]>svg>g>circle',\n  '[id=\"alloc-slider-risk-4\"]>svg>g>circle',\n  '[id=\"alloc-slider-risk-4\"]>svg>g>circle',\n  '[id=\"alloc-slider-risk-4\"]>svg>g>circle',\n  '[id=\"alloc-slider-risk-4\"]>svg>g>circle',\n  '[id=\"alloc-slider-risk-4\"]>svg>g>circle',\n  '[id=\"alloc-slider-risk-4\"]>svg>g>circle',\n  '[id=\"alloc-slider-risk-4\"]>svg>g>circle',\n  '[id=\"alloc-slider-risk-4\"]>svg>g>circle',\n  '[id=\"alloc-slider-risk-4\"]>svg>g>circle',\n  '[id=\"alloc-slider-risk-4\"]>svg>g>circle',\n  '[id=\"alloc-slider-risk-4\"]>svg>g>circle',\n  '[id=\"alloc-slider-risk-4\"]>svg>g>circle',\n  '[id=\"alloc-slider-risk-4\"]>svg',\n  '[id=\"alloc-slider-risk-4\"]>svg',\n  '[id=\"alloc-slider-risk-4\"]>svg',\n  '[id=\"alloc-slider-risk-4\"]>svg',\n  '[id=\"alloc-slider-risk-4\"]>svg',\n  '[id=\"alloc-slider-risk-4\"]>svg',\n  '[id=\"alloc-slider-risk-4\"]>svg',\n  '[id=\"alloc-slider-risk-4\"]>svg',\n  '[id=\"alloc-slider-risk-4\"]>svg',\n  '[id=\"alloc-slider-risk-4\"]>svg',\n  'saved-port-0',\n  'saved-port-0',\n  'saved-port-0',\n  'saved-port-0',\n  'saved-port-0',\n  'saved-port-0',\n  'saved-port-0',\n  'saved-port-0',\n  'saved-port-0',\n  'saved-port-0',\n  'saved-port-0',\n  'saved-port-0',\n  'saved-port-0',\n  'saved-port-0',\n  'saved-port-0',\n  'saved-port-0',\n  'saved-port-0',\n  'saved-port-0',\n  'risk-return',\n  'risk-return',\n  'risk-return',\n  'risk-return',\n  'risk-return',\n  'risk-return',\n  'risk-return',\n  'risk-return',\n  'risk-return',\n  'saved-port-0',\n  'saved-port-0',\n  'saved-port-0',\n  'saved-port-0',\n  'saved-port-0',\n  'saved-port-0',\n  'saved-port-0',\n  'saved-port-0',\n  'saved-port-0',\n  'saved-port-0',\n  'saved-port-0',\n  'saved-port-0',\n  'saved-port-0',\n  'saved-port-0',\n  'saved-port-0',\n  'saved-port-0',\n  'saved-port-0',\n  'saved-port-0',\n  'risk-return',\n  'risk-return',\n  'risk-return',\n  'risk-return',\n  'risk-return',\n  'risk-return',\n  'risk-return',\n  'risk-return',\n  'risk-return',\n  'risk-return',\n  'risk-return',\n  'risk-return',\n  'risk-return',\n  'risk-return',\n  'risk-return',\n  '[id=\"alloc-slider-risk-2\"]>svg',\n  '[id=\"alloc-slider-risk-2\"]>svg',\n  '[id=\"alloc-slider-risk-2\"]>svg',\n  '[id=\"alloc-slider-risk-2\"]>svg',\n  '[id=\"alloc-slider-risk-2\"]>svg',\n  '[id=\"alloc-slider-risk-2\"]>svg',\n  '[id=\"alloc-slider-risk-2\"]>svg'),\n ...]"
     },
     "execution_count": 12,
     "metadata": {},
     "output_type": "execute_result"
    }
   ],
   "source": [
    "lab_ngram[0]"
   ]
  },
  {
   "cell_type": "code",
   "execution_count": 0,
   "metadata": {},
   "outputs": [],
   "source": [
    "df[ df['turkId'] == 'A35YFAFWP33C70' ]"
   ]
  },
  {
   "cell_type": "code",
   "execution_count": 0,
   "metadata": {},
   "outputs": [],
   "source": [
    "df"
   ]
  }
 ]
}