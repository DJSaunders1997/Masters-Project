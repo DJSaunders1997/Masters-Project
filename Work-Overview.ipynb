{
 "nbformat": 4,
 "nbformat_minor": 2,
 "metadata": {
  "language_info": {
   "name": "python",
   "codemirror_mode": {
    "name": "ipython",
    "version": 3
   },
   "version": "3.7.6-final"
  },
  "orig_nbformat": 2,
  "file_extension": ".py",
  "mimetype": "text/x-python",
  "name": "python",
  "npconvert_exporter": "python",
  "pygments_lexer": "ipython3",
  "version": 3,
  "kernelspec": {
   "name": "python3",
   "display_name": "Python 3"
  }
 },
 "cells": [
  {
   "cell_type": "markdown",
   "execution_count": 1,
   "metadata": {},
   "outputs": [
    {
     "ename": "SyntaxError",
     "evalue": "invalid syntax (<ipython-input-1-935d84799afb>, line 3)",
     "output_type": "error",
     "traceback": [
      "\u001b[1;36m  File \u001b[1;32m\"<ipython-input-1-935d84799afb>\"\u001b[1;36m, line \u001b[1;32m3\u001b[0m\n\u001b[1;33m    This document aims to show what work I have completed with a mix of actual code and indepth text blocks explaining what I have done.\u001b[0m\n\u001b[1;37m                ^\u001b[0m\n\u001b[1;31mSyntaxError\u001b[0m\u001b[1;31m:\u001b[0m invalid syntax\n"
     ]
    }
   ],
   "source": [
    "# Work Overview\n",
    "\n",
    "This document aims to show what work I have completed with a mix of actual code and indepth text blocks explaining what I have done. Everything is viewable at 'https://github.com/DJSaunders1997/Masters-Project/'\n",
    "\n",
    "## Getting Data\n",
    "\n",
    "Mouse data was downloaded from 'https://github.com/gabysbrain/datasets' as instructed and mouse data found in '/datasets-sa_mouse_tracking/'.\n",
    "\n",
    "I can't exactly remeber which scripts I ran, some of the seemed to not work and delete all the data but I ended up with a single 'mouse_events.json' file containing all data for the Turk Study data and a folder of 30ish smaller json files such as 'no-sa_2016-12-29 20_48_14-2.json' for the Lab Study.\n",
    "This data is saved on my gitHub repo under 'All-Data.zip'."
   ]
  },
  {
   "cell_type": "markdown",
   "execution_count": null,
   "metadata": {},
   "outputs": [],
   "source": [
    "# Exploring the JSON files\n",
    "\n",
    "I'm unsure how to analyse JSON data directly so next I had to find a way to convert the JSON into a structed more familiar tabular csv format. The Turk Studys 'mouse_events.json' looks like this "
   ]
  },
  {
   "cell_type": "code",
   "execution_count": 1,
   "metadata": {},
   "outputs": [],
   "source": [
    "'''\n",
    "[\n",
    "  {\n",
    "    \"events\": [\n",
    "      {\n",
    "        \"button\": 1,\n",
    "        \"event_type\": \"mousedown\",\n",
    "        \"target\": \"alloc-slider-1\",\n",
    "        \"time\": 1417182276985,\n",
    "        \"x\": 477,\n",
    "        \"y\": 405\n",
    "      },\n",
    "      {\n",
    "        \"button\": 1,\n",
    "        \"event_type\": \"mouseup\",\n",
    "        \"target\": \"alloc-slider-1\",\n",
    "        \"time\": 1417182277096,\n",
    "        \"x\": 478,\n",
    "        \"y\": 405\n",
    "      }\n",
    "    ],\n",
    "    \"step\": \"1\",\n",
    "    \"turkId\": \"A35YFAFWP33C70\"\n",
    "  },\n",
    "  ...\n",
    "  ''';"
   ]
  },
  {
   "cell_type": "markdown",
   "execution_count": null,
   "metadata": {},
   "outputs": [],
   "source": [
    "The Lab study data consists of many files in this format. The mouseevents-events looks the same as the Turk Study other than all the turkIds being set to 0. There is also additional information about the user which is not used to study mouse data so it can be ignored."
   ]
  },
  {
   "cell_type": "code",
   "execution_count": 2,
   "metadata": {},
   "outputs": [
    {
     "data": {
      "text/plain": "'\\n{\\n    \"mouseevents-events\": \"[{\"turkId\":0,\"step\":\"1\",\"events\":[{\"x\":433,\"y\":331, #THIS LINE IS CUT SHORT. TOO LONG TO SHOW ALL#\\n    \"demographics-turk_id\": \"\"0\"\",\\n    \"demographics-assignment_id\": \"\"ASSIGNMENT_ID_NOT_AVAILABLE\"\",\\n    \"demographics-age\": \"\"17\"\",\\n    \"demographics-computer_experience\": \"\"2\"\",\\n    \"demographics-investment_experience\": \"\"1\"\",\\n    ...\\n}\\n'"
     },
     "execution_count": 2,
     "metadata": {},
     "output_type": "execute_result"
    }
   ],
   "source": [
    "'''\n",
    "{\n",
    "    \"mouseevents-events\": \"[{\\\"turkId\\\":0,\\\"step\\\":\\\"1\\\",\\\"events\\\":[{\\\"x\\\":433,\\\"y\\\":331, #THIS LINE IS CUT SHORT. TOO LONG TO SHOW ALL#\n",
    "    \"demographics-turk_id\": \"\\\"0\\\"\",\n",
    "    \"demographics-assignment_id\": \"\\\"ASSIGNMENT_ID_NOT_AVAILABLE\\\"\",\n",
    "    \"demographics-age\": \"\\\"17\\\"\",\n",
    "    \"demographics-computer_experience\": \"\\\"2\\\"\",\n",
    "    \"demographics-investment_experience\": \"\\\"1\\\"\",\n",
    "    ...\n",
    "}\n",
    "'''"
   ]
  },
  {
   "cell_type": "markdown",
   "execution_count": null,
   "metadata": {},
   "outputs": [],
   "source": [
    "# Converting Turk Mouse events into CSV\n",
    "\n",
    "This is all handled by functions inside of the JSONtoCSV.py file I've created as shown below. \n",
    "\n",
    "Can't explain exactly what the functions do as they were written ages ago and need to be recommented properly. The functions also 'normalize' the time field. Rather than the time for each mouse event being recorded in UNIX time, the first mouse event of a user is changed to 0 and the rest of that users mouse events are given in seconds since the first mouse event.\n",
    "\n",
    "Before running this code the 'Original-Data.zip' file must be unzipped to a folder named 'Original-Data'. It needs to be zipped as the file is too big to be uploaded to github otherwise."
   ]
  },
  {
   "cell_type": "code",
   "execution_count": 3,
   "metadata": {},
   "outputs": [
    {
     "name": "stdout",
     "output_type": "stream",
     "text": "1 / 152112 completed A35YFAFWP33C70\n10001 / 152112 completed A10WZYTR4O4V6S\n20001 / 152112 completed A30OOETQPWFPHK\n30001 / 152112 completed A309P6D2ECOLH7\n40001 / 152112 completed A2ZH6W3O33PVJZ\n50001 / 152112 completed ASB8T0H7L99RF\n60001 / 152112 completed A3JI3B5GTVA95F\n70001 / 152112 completed AVPKE76DJLWK6\n80001 / 152112 completed A1DJD0J0BTE1X8\n90001 / 152112 completed A3F3LNKCCXS42L\n100001 / 152112 completed A1I20G9FII2FN5\n110001 / 152112 completed A3J2CI4J5V3MLP\n120001 / 152112 completed A1P8M5BKOTAA8I\n130001 / 152112 completed A2QYPEWPAGGKLQ\n140001 / 152112 completed A30QJF394U1VRY\n150001 / 152112 completed AAOCGTXKZTC8H\nTime taken: 22 s\n\n Number of rows: 1293073 \n"
    },
    {
     "data": {
      "text/html": "<div>\n<style scoped>\n    .dataframe tbody tr th:only-of-type {\n        vertical-align: middle;\n    }\n\n    .dataframe tbody tr th {\n        vertical-align: top;\n    }\n\n    .dataframe thead th {\n        text-align: right;\n    }\n</style>\n<table border=\"1\" class=\"dataframe\">\n  <thead>\n    <tr style=\"text-align: right;\">\n      <th></th>\n      <th>button</th>\n      <th>event_type</th>\n      <th>target</th>\n      <th>time</th>\n      <th>x</th>\n      <th>y</th>\n      <th>step</th>\n      <th>turkId</th>\n    </tr>\n  </thead>\n  <tbody>\n    <tr>\n      <th>0</th>\n      <td>1</td>\n      <td>mousedown</td>\n      <td>alloc-slider-1</td>\n      <td>0.000</td>\n      <td>477.0</td>\n      <td>405.0</td>\n      <td>1</td>\n      <td>A35YFAFWP33C70</td>\n    </tr>\n    <tr>\n      <th>1</th>\n      <td>1</td>\n      <td>mouseup</td>\n      <td>alloc-slider-1</td>\n      <td>0.111</td>\n      <td>478.0</td>\n      <td>405.0</td>\n      <td>1</td>\n      <td>A35YFAFWP33C70</td>\n    </tr>\n    <tr>\n      <th>2</th>\n      <td>1</td>\n      <td>click</td>\n      <td>alloc-slider-1</td>\n      <td>0.111</td>\n      <td>478.0</td>\n      <td>405.0</td>\n      <td>1</td>\n      <td>A35YFAFWP33C70</td>\n    </tr>\n    <tr>\n      <th>3</th>\n      <td>1</td>\n      <td>mousedown</td>\n      <td>alloc-slider-1</td>\n      <td>1.516</td>\n      <td>479.0</td>\n      <td>405.0</td>\n      <td>1</td>\n      <td>A35YFAFWP33C70</td>\n    </tr>\n    <tr>\n      <th>4</th>\n      <td>1</td>\n      <td>mousedirchange</td>\n      <td>alloc-slider-1</td>\n      <td>2.395</td>\n      <td>543.0</td>\n      <td>403.0</td>\n      <td>1</td>\n      <td>A35YFAFWP33C70</td>\n    </tr>\n  </tbody>\n</table>\n</div>",
      "text/plain": "   button      event_type          target   time      x      y step  \\\n0       1       mousedown  alloc-slider-1  0.000  477.0  405.0    1   \n1       1         mouseup  alloc-slider-1  0.111  478.0  405.0    1   \n2       1           click  alloc-slider-1  0.111  478.0  405.0    1   \n3       1       mousedown  alloc-slider-1  1.516  479.0  405.0    1   \n4       1  mousedirchange  alloc-slider-1  2.395  543.0  403.0    1   \n\n           turkId  \n0  A35YFAFWP33C70  \n1  A35YFAFWP33C70  \n2  A35YFAFWP33C70  \n3  A35YFAFWP33C70  \n4  A35YFAFWP33C70  "
     },
     "execution_count": 3,
     "metadata": {},
     "output_type": "execute_result"
    }
   ],
   "source": [
    "import pandas as pd\n",
    "\n",
    "from JSONtoCSV import convert_json_to_csv # import function to convert Turk data\n",
    "\n",
    "# Should take around a minute to process.\n",
    "#\n",
    "df_turk = convert_json_to_csv(r'Original-Data\\all_turk_study_data\\mouse_events.json', 'Turk-Data.csv')\n",
    "print(f'\\n Number of rows: {df_turk.shape[0]} ')\n",
    "df_turk.head()"
   ]
  },
  {
   "cell_type": "markdown",
   "execution_count": 4,
   "metadata": {},
   "outputs": [
    {
     "data": {
      "text/plain": "'c:\\\\Users\\\\DJSau\\\\Masters-Project'"
     },
     "execution_count": 4,
     "metadata": {},
     "output_type": "execute_result"
    }
   ],
   "source": [
    "I've shown that the turk data can be converted, but the lab study is more challenging. This script goes through the files in a given directory looking for JSON files and puts them together into a single dataframe. \n",
    "\n",
    "Each individual is also assigned a new turk ID as in the JSON file they're all set to 0. Additionally the file the data came from is appended as a new column so that we can compare sa or no sa in the future if we want to. As before the time is also normilized.\n",
    "\n",
    "It's worth noteing that the targets are different for the Turk and Lab data. Turk data has items like 'alloc-slider-1' where as Lab data is of the format '[id=\"alloc-slider-return-4\"]>svg>g>circle'. Looks like these just need to be renamed so they match up but some of the Lab data targets are hard to understand. "
   ]
  },
  {
   "cell_type": "code",
   "execution_count": 4,
   "metadata": {},
   "outputs": [
    {
     "name": "stdout",
     "output_type": "stream",
     "text": "Opening File global_sa_sl_both_2017-02-08 12_48_51.json\n1 / 807 completed\n201 / 807 completed\n401 / 807 completed\n601 / 807 completed\n801 / 807 completed\nOpening File global_sa_sl_both_2017-02-09 17_28_24.json\n1 / 1274 completed\n201 / 1274 completed\n401 / 1274 completed\n601 / 1274 completed\n801 / 1274 completed\n1001 / 1274 completed\n1201 / 1274 completed\nOpening File global_sa_sl_both_2017-02-09 17_28_30.json\n1 / 1274 completed\n201 / 1274 completed\n401 / 1274 completed\n601 / 1274 completed\n801 / 1274 completed\n1001 / 1274 completed\n1201 / 1274 completed\nOpening File global_sa_sl_both_2017-02-10 18_16_36.json\n1 / 258 completed\n201 / 258 completed\nOpening File global_sa_sl_both_2017-02-13 11_15_26.json\n1 / 282 completed\n201 / 282 completed\nOpening File global_sa_sl_both_2017-02-13 11_50_43.json\n1 / 314 completed\n201 / 314 completed\nOpening File global_sa_sl_both_2017-02-15 17_28_32.json\n1 / 1169 completed\n201 / 1169 completed\n401 / 1169 completed\n601 / 1169 completed\n801 / 1169 completed\n1001 / 1169 completed\nOpening File global_sa_sl_both_2017-02-21 21_31_56.json\n1 / 192 completed\nError loading in file mouse_events.json. Is the file supposed to be in the directory?\nOpening File no-sa_2016-12-29 20_48_14-2.json\n1 / 326 completed\n201 / 326 completed\n################# no-sa_2016-12-30 10_20_12-2.json contained no mouse data #################\nOpening File no-sa_2016-12-30 16_32_41-2.json\n1 / 218 completed\n201 / 218 completed\n################# no-sa_2017-01-07 14_30_43-2.json contained no mouse data #################\n################# no-sa_2017-01-07 18_38_34-2.json contained no mouse data #################\n################# no-sa_2017-01-07 22_40_30-2.json contained no mouse data #################\nOpening File no-sa_2017-01-22 14_23_20.json\n1 / 149 completed\n################# no-sa_2017-01-28 15_09_25.json contained no mouse data #################\n################# no-sa_2017-01-29 17_52_17.json contained no mouse data #################\n################# no-sa_2017-02-01 10_56_55.json contained no mouse data #################\nError loading in file portfolio_selections.json. Is the file supposed to be in the directory?\nOpening File PreStudy_global_sa_sl_both_2016-12-03 12_24_36--2.json\n1 / 250 completed\n201 / 250 completed\nOpening File PreStudy_global_sa_sl_ratio_2016-11-24 12_06_58-2.json\n1 / 217 completed\n201 / 217 completed\nOpening File PreStudy_global_sa_sl_ratio_2016-11-24 13_02_24-2.json\n1 / 590 completed\n201 / 590 completed\n401 / 590 completed\nOpening File PreStudy_global_sa_sl_ratio_2016-11-24 13_02_24.json\n1 / 590 completed\n201 / 590 completed\n401 / 590 completed\nOpening File PreStudy_no-sa_2016-11-30 14_18_14-2.json\n1 / 266 completed\n201 / 266 completed\n################# PreStudy_no-sa_2016-11-30 14_19_31-2.json contained no mouse data #################\n################# PreStudy_no-sa_2016-11-30 16_45_05-2.json contained no mouse data #################\nOpening File PreStudy_no-sa_2016-12-01 13_00_14-2.json\n1 / 368 completed\n201 / 368 completed\nError loading in file readData.php. Is the file supposed to be in the directory?\nError loading in file show.php. Is the file supposed to be in the directory?\nOpening File study_results.all.json\n1 / 368 completed\n201 / 368 completed\nTime taken: 1 s\n\n Number of rows: 58285 \n"
    },
    {
     "data": {
      "text/html": "<div>\n<style scoped>\n    .dataframe tbody tr th:only-of-type {\n        vertical-align: middle;\n    }\n\n    .dataframe tbody tr th {\n        vertical-align: top;\n    }\n\n    .dataframe thead th {\n        text-align: right;\n    }\n</style>\n<table border=\"1\" class=\"dataframe\">\n  <thead>\n    <tr style=\"text-align: right;\">\n      <th></th>\n      <th>button</th>\n      <th>event_type</th>\n      <th>target</th>\n      <th>time</th>\n      <th>x</th>\n      <th>y</th>\n      <th>step</th>\n      <th>turkId</th>\n      <th>file</th>\n    </tr>\n  </thead>\n  <tbody>\n    <tr>\n      <th>0</th>\n      <td>1</td>\n      <td>mousedown</td>\n      <td>[id=\"alloc-slider-return-4\"]&gt;svg&gt;g&gt;circle</td>\n      <td>0.000000</td>\n      <td>397.0</td>\n      <td>647.0</td>\n      <td>1</td>\n      <td>ID1</td>\n      <td>global_sa_sl_both_2017-02-08 12_48_51.json</td>\n    </tr>\n    <tr>\n      <th>1</th>\n      <td>1</td>\n      <td>mouseup</td>\n      <td>[id=\"alloc-slider-return-4\"]&gt;svg&gt;g&gt;circle</td>\n      <td>0.547000</td>\n      <td>423.0</td>\n      <td>642.0</td>\n      <td>1</td>\n      <td>ID1</td>\n      <td>global_sa_sl_both_2017-02-08 12_48_51.json</td>\n    </tr>\n    <tr>\n      <th>2</th>\n      <td>1</td>\n      <td>click</td>\n      <td>[id=\"alloc-slider-return-4\"]&gt;svg&gt;g&gt;circle</td>\n      <td>0.547000</td>\n      <td>423.0</td>\n      <td>642.0</td>\n      <td>1</td>\n      <td>ID1</td>\n      <td>global_sa_sl_both_2017-02-08 12_48_51.json</td>\n    </tr>\n    <tr>\n      <th>3</th>\n      <td>1</td>\n      <td>mousedown</td>\n      <td>[id=\"alloc-slider-return-4\"]&gt;svg&gt;g&gt;circle</td>\n      <td>1.176995</td>\n      <td>426.0</td>\n      <td>642.0</td>\n      <td>1</td>\n      <td>ID1</td>\n      <td>global_sa_sl_both_2017-02-08 12_48_51.json</td>\n    </tr>\n    <tr>\n      <th>4</th>\n      <td>1</td>\n      <td>mousedirchange</td>\n      <td>[id=\"alloc-slider-return-4\"]&gt;svg&gt;g&gt;circle</td>\n      <td>1.790000</td>\n      <td>440.0</td>\n      <td>640.0</td>\n      <td>1</td>\n      <td>ID1</td>\n      <td>global_sa_sl_both_2017-02-08 12_48_51.json</td>\n    </tr>\n  </tbody>\n</table>\n</div>",
      "text/plain": "   button      event_type                                     target  \\\n0       1       mousedown  [id=\"alloc-slider-return-4\"]>svg>g>circle   \n1       1         mouseup  [id=\"alloc-slider-return-4\"]>svg>g>circle   \n2       1           click  [id=\"alloc-slider-return-4\"]>svg>g>circle   \n3       1       mousedown  [id=\"alloc-slider-return-4\"]>svg>g>circle   \n4       1  mousedirchange  [id=\"alloc-slider-return-4\"]>svg>g>circle   \n\n       time      x      y step turkId  \\\n0  0.000000  397.0  647.0    1    ID1   \n1  0.547000  423.0  642.0    1    ID1   \n2  0.547000  423.0  642.0    1    ID1   \n3  1.176995  426.0  642.0    1    ID1   \n4  1.790000  440.0  640.0    1    ID1   \n\n                                         file  \n0  global_sa_sl_both_2017-02-08 12_48_51.json  \n1  global_sa_sl_both_2017-02-08 12_48_51.json  \n2  global_sa_sl_both_2017-02-08 12_48_51.json  \n3  global_sa_sl_both_2017-02-08 12_48_51.json  \n4  global_sa_sl_both_2017-02-08 12_48_51.json  "
     },
     "execution_count": 4,
     "metadata": {},
     "output_type": "execute_result"
    }
   ],
   "source": [
    "from JSONtoCSV import lab_convert_json_to_csv # import function to convert Lab data\n",
    "\n",
    "# Should take around a minute to process.\n",
    "#\n",
    "df_lab = lab_convert_json_to_csv(r'Original-Data\\all_lab_study_data', 'Lab-Data.csv')\n",
    "print(f'\\n Number of rows: {df_lab.shape[0]} ')\n",
    "df_lab.head()"
   ]
  },
  {
   "cell_type": "markdown",
   "execution_count": 2,
   "metadata": {},
   "outputs": [
    {
     "ename": "SyntaxError",
     "evalue": "invalid syntax (<ipython-input-2-ae44bb6628d5>, line 1)",
     "output_type": "error",
     "traceback": [
      "\u001b[1;36m  File \u001b[1;32m\"<ipython-input-2-ae44bb6628d5>\"\u001b[1;36m, line \u001b[1;32m1\u001b[0m\n\u001b[1;33m    We now have the\u001b[0m\n\u001b[1;37m         ^\u001b[0m\n\u001b[1;31mSyntaxError\u001b[0m\u001b[1;31m:\u001b[0m invalid syntax\n"
     ]
    }
   ],
   "source": [
    "We now have the 1,293,073 rows of Turk data and the 58,285 rows of Lab data in a format we can work with. Now some initial exploration of the data can begin."
   ]
  },
  {
   "cell_type": "code",
   "execution_count": null,
   "metadata": {},
   "outputs": [],
   "source": []
  },
  {
   "cell_type": "code",
   "execution_count": null,
   "metadata": {},
   "outputs": [],
   "source": []
  },
  {
   "cell_type": "code",
   "execution_count": null,
   "metadata": {},
   "outputs": [],
   "source": []
  },
  {
   "cell_type": "code",
   "execution_count": null,
   "metadata": {},
   "outputs": [],
   "source": []
  },
  {
   "cell_type": "code",
   "execution_count": null,
   "metadata": {},
   "outputs": [],
   "source": []
  },
  {
   "cell_type": "code",
   "execution_count": null,
   "metadata": {},
   "outputs": [],
   "source": []
  }
 ]
}